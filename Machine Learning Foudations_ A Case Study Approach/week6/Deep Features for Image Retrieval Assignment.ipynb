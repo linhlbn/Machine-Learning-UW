{
 "cells": [
  {
   "cell_type": "code",
   "execution_count": 1,
   "metadata": {},
   "outputs": [],
   "source": [
    "import graphlab"
   ]
  },
  {
   "cell_type": "code",
   "execution_count": 2,
   "metadata": {},
   "outputs": [
    {
     "name": "stdout",
     "output_type": "stream",
     "text": [
      "This non-commercial license of GraphLab Create for academic use is assigned to e1601144@edu.vamk.fi and will expire on June 18, 2020.\n"
     ]
    },
    {
     "name": "stderr",
     "output_type": "stream",
     "text": [
      "[INFO] graphlab.cython.cy_server: GraphLab Create v2.1 started. Logging: /tmp/graphlab_server_1562033791.log\n"
     ]
    }
   ],
   "source": [
    "image_train = graphlab.SFrame('image_train_data/')\n",
    "image_test = graphlab.SFrame('image_test_data/')"
   ]
  },
  {
   "cell_type": "code",
   "execution_count": 3,
   "metadata": {},
   "outputs": [],
   "source": [
    "graphlab.canvas.set_target('ipynb')"
   ]
  },
  {
   "cell_type": "code",
   "execution_count": 4,
   "metadata": {},
   "outputs": [
    {
     "data": {
      "application/javascript": [
       "$(\"head\").append($(\"<link/>\").attr({\n",
       "  rel:  \"stylesheet\",\n",
       "  type: \"text/css\",\n",
       "  href: \"//cdnjs.cloudflare.com/ajax/libs/font-awesome/4.1.0/css/font-awesome.min.css\"\n",
       "}));\n",
       "$(\"head\").append($(\"<link/>\").attr({\n",
       "  rel:  \"stylesheet\",\n",
       "  type: \"text/css\",\n",
       "  href: \"https://static.turi.com/products/graphlab-create/2.1/canvas/css/canvas.css\"\n",
       "}));\n",
       "\n",
       "            (function(){\n",
       "\n",
       "                var e = null;\n",
       "                if (typeof element == 'undefined') {\n",
       "                    var scripts = document.getElementsByTagName('script');\n",
       "                    var thisScriptTag = scripts[scripts.length-1];\n",
       "                    var parentDiv = thisScriptTag.parentNode;\n",
       "                    e = document.createElement('div');\n",
       "                    parentDiv.appendChild(e);\n",
       "                } else {\n",
       "                    e = element[0];\n",
       "                }\n",
       "\n",
       "                if (typeof requirejs !== 'undefined') {\n",
       "                    // disable load timeout; ipython_app.js is large and can take a while to load.\n",
       "                    requirejs.config({waitSeconds: 0});\n",
       "                }\n",
       "\n",
       "                require(['https://static.turi.com/products/graphlab-create/2.1/canvas/js/ipython_app.js'], function(IPythonApp){\n",
       "                    var app = new IPythonApp();\n",
       "                    app.attachView('sarray','Categorical', {\"ipython\": true, \"sketch\": {\"complete\": true, \"numeric\": false, \"num_unique\": 4, \"num_undefined\": 0, \"progress\": 1.0, \"frequent_items\": {\"automobile\": {\"frequency\": 509, \"value\": \"automobile\"}, \"bird\": {\"frequency\": 478, \"value\": \"bird\"}, \"dog\": {\"frequency\": 509, \"value\": \"dog\"}, \"cat\": {\"frequency\": 509, \"value\": \"cat\"}}, \"size\": 2005}, \"selected_variable\": {\"name\": [\"<SArray>\"], \"dtype\": \"str\", \"view_component\": \"Categorical\", \"view_file\": \"sarray\", \"descriptives\": {\"rows\": 2005}, \"type\": \"SArray\", \"view_components\": [\"Categorical\"]}, \"histogram\": null}, e);\n",
       "                });\n",
       "            })();\n",
       "        "
      ]
     },
     "metadata": {},
     "output_type": "display_data"
    }
   ],
   "source": [
    "image_train['label'].show()\n",
    "## or......    image_train['label'].sketch_summary() "
   ]
  },
  {
   "cell_type": "code",
   "execution_count": 5,
   "metadata": {},
   "outputs": [],
   "source": [
    "dog_train_data = image_train[image_train['label'] == 'dog']\n",
    "cat_train_data = image_train[image_train['label'] == 'cat']\n",
    "automobile_train_data = image_train[image_train['label'] == 'automobile']\n",
    "bird_train_data = image_train[image_train['label'] == 'bird']"
   ]
  },
  {
   "cell_type": "code",
   "execution_count": 6,
   "metadata": {},
   "outputs": [
    {
     "data": {
      "text/html": [
       "<pre>Starting brute force nearest neighbors model training.</pre>"
      ],
      "text/plain": [
       "Starting brute force nearest neighbors model training."
      ]
     },
     "metadata": {},
     "output_type": "display_data"
    },
    {
     "data": {
      "text/html": [
       "<pre>Starting brute force nearest neighbors model training.</pre>"
      ],
      "text/plain": [
       "Starting brute force nearest neighbors model training."
      ]
     },
     "metadata": {},
     "output_type": "display_data"
    },
    {
     "data": {
      "text/html": [
       "<pre>Starting brute force nearest neighbors model training.</pre>"
      ],
      "text/plain": [
       "Starting brute force nearest neighbors model training."
      ]
     },
     "metadata": {},
     "output_type": "display_data"
    },
    {
     "data": {
      "text/html": [
       "<pre>Starting brute force nearest neighbors model training.</pre>"
      ],
      "text/plain": [
       "Starting brute force nearest neighbors model training."
      ]
     },
     "metadata": {},
     "output_type": "display_data"
    }
   ],
   "source": [
    "dog_knn_model = graphlab.nearest_neighbors.create(dog_train_data, \n",
    "                                              features=['deep_features'],\n",
    "                                             label='id')\n",
    "cat_knn_model = graphlab.nearest_neighbors.create(cat_train_data, \n",
    "                                              features=['deep_features'],\n",
    "                                             label='id')\n",
    "automobile_knn_model = graphlab.nearest_neighbors.create(automobile_train_data, \n",
    "                                              features=['deep_features'],\n",
    "                                             label='id')\n",
    "bird_knn_model = graphlab.nearest_neighbors.create(bird_train_data, \n",
    "                                              features=['deep_features'],\n",
    "                                             label='id')"
   ]
  },
  {
   "cell_type": "code",
   "execution_count": 7,
   "metadata": {},
   "outputs": [
    {
     "data": {
      "text/html": [
       "<pre>Starting pairwise querying.</pre>"
      ],
      "text/plain": [
       "Starting pairwise querying."
      ]
     },
     "metadata": {},
     "output_type": "display_data"
    },
    {
     "data": {
      "text/html": [
       "<pre>+--------------+---------+-------------+--------------+</pre>"
      ],
      "text/plain": [
       "+--------------+---------+-------------+--------------+"
      ]
     },
     "metadata": {},
     "output_type": "display_data"
    },
    {
     "data": {
      "text/html": [
       "<pre>| Query points | # Pairs | % Complete. | Elapsed Time |</pre>"
      ],
      "text/plain": [
       "| Query points | # Pairs | % Complete. | Elapsed Time |"
      ]
     },
     "metadata": {},
     "output_type": "display_data"
    },
    {
     "data": {
      "text/html": [
       "<pre>+--------------+---------+-------------+--------------+</pre>"
      ],
      "text/plain": [
       "+--------------+---------+-------------+--------------+"
      ]
     },
     "metadata": {},
     "output_type": "display_data"
    },
    {
     "data": {
      "text/html": [
       "<pre>| 0            | 1       | 0.196464    | 8.511ms      |</pre>"
      ],
      "text/plain": [
       "| 0            | 1       | 0.196464    | 8.511ms      |"
      ]
     },
     "metadata": {},
     "output_type": "display_data"
    },
    {
     "data": {
      "text/html": [
       "<pre>| Done         |         | 100         | 65.78ms      |</pre>"
      ],
      "text/plain": [
       "| Done         |         | 100         | 65.78ms      |"
      ]
     },
     "metadata": {},
     "output_type": "display_data"
    },
    {
     "data": {
      "text/html": [
       "<pre>+--------------+---------+-------------+--------------+</pre>"
      ],
      "text/plain": [
       "+--------------+---------+-------------+--------------+"
      ]
     },
     "metadata": {},
     "output_type": "display_data"
    },
    {
     "data": {
      "text/html": [
       "<div style=\"max-height:1000px;max-width:1500px;overflow:auto;\"><table frame=\"box\" rules=\"cols\">\n",
       "    <tr>\n",
       "        <th style=\"padding-left: 1em; padding-right: 1em; text-align: center\">query_label</th>\n",
       "        <th style=\"padding-left: 1em; padding-right: 1em; text-align: center\">reference_label</th>\n",
       "        <th style=\"padding-left: 1em; padding-right: 1em; text-align: center\">distance</th>\n",
       "        <th style=\"padding-left: 1em; padding-right: 1em; text-align: center\">rank</th>\n",
       "    </tr>\n",
       "    <tr>\n",
       "        <td style=\"padding-left: 1em; padding-right: 1em; text-align: center; vertical-align: top\">0</td>\n",
       "        <td style=\"padding-left: 1em; padding-right: 1em; text-align: center; vertical-align: top\">16976</td>\n",
       "        <td style=\"padding-left: 1em; padding-right: 1em; text-align: center; vertical-align: top\">37.4642628784</td>\n",
       "        <td style=\"padding-left: 1em; padding-right: 1em; text-align: center; vertical-align: top\">1</td>\n",
       "    </tr>\n",
       "    <tr>\n",
       "        <td style=\"padding-left: 1em; padding-right: 1em; text-align: center; vertical-align: top\">0</td>\n",
       "        <td style=\"padding-left: 1em; padding-right: 1em; text-align: center; vertical-align: top\">13387</td>\n",
       "        <td style=\"padding-left: 1em; padding-right: 1em; text-align: center; vertical-align: top\">37.5666832169</td>\n",
       "        <td style=\"padding-left: 1em; padding-right: 1em; text-align: center; vertical-align: top\">2</td>\n",
       "    </tr>\n",
       "    <tr>\n",
       "        <td style=\"padding-left: 1em; padding-right: 1em; text-align: center; vertical-align: top\">0</td>\n",
       "        <td style=\"padding-left: 1em; padding-right: 1em; text-align: center; vertical-align: top\">35867</td>\n",
       "        <td style=\"padding-left: 1em; padding-right: 1em; text-align: center; vertical-align: top\">37.6047267079</td>\n",
       "        <td style=\"padding-left: 1em; padding-right: 1em; text-align: center; vertical-align: top\">3</td>\n",
       "    </tr>\n",
       "    <tr>\n",
       "        <td style=\"padding-left: 1em; padding-right: 1em; text-align: center; vertical-align: top\">0</td>\n",
       "        <td style=\"padding-left: 1em; padding-right: 1em; text-align: center; vertical-align: top\">44603</td>\n",
       "        <td style=\"padding-left: 1em; padding-right: 1em; text-align: center; vertical-align: top\">37.7065585153</td>\n",
       "        <td style=\"padding-left: 1em; padding-right: 1em; text-align: center; vertical-align: top\">4</td>\n",
       "    </tr>\n",
       "    <tr>\n",
       "        <td style=\"padding-left: 1em; padding-right: 1em; text-align: center; vertical-align: top\">0</td>\n",
       "        <td style=\"padding-left: 1em; padding-right: 1em; text-align: center; vertical-align: top\">6094</td>\n",
       "        <td style=\"padding-left: 1em; padding-right: 1em; text-align: center; vertical-align: top\">38.5113254907</td>\n",
       "        <td style=\"padding-left: 1em; padding-right: 1em; text-align: center; vertical-align: top\">5</td>\n",
       "    </tr>\n",
       "</table>\n",
       "[5 rows x 4 columns]<br/>\n",
       "</div>"
      ],
      "text/plain": [
       "Columns:\n",
       "\tquery_label\tint\n",
       "\treference_label\tint\n",
       "\tdistance\tfloat\n",
       "\trank\tint\n",
       "\n",
       "Rows: 5\n",
       "\n",
       "Data:\n",
       "+-------------+-----------------+---------------+------+\n",
       "| query_label | reference_label |    distance   | rank |\n",
       "+-------------+-----------------+---------------+------+\n",
       "|      0      |      16976      | 37.4642628784 |  1   |\n",
       "|      0      |      13387      | 37.5666832169 |  2   |\n",
       "|      0      |      35867      | 37.6047267079 |  3   |\n",
       "|      0      |      44603      | 37.7065585153 |  4   |\n",
       "|      0      |       6094      | 38.5113254907 |  5   |\n",
       "+-------------+-----------------+---------------+------+\n",
       "[5 rows x 4 columns]"
      ]
     },
     "execution_count": 7,
     "metadata": {},
     "output_type": "execute_result"
    }
   ],
   "source": [
    "dog_knn_model.query(image_test[0:1])"
   ]
  },
  {
   "cell_type": "code",
   "execution_count": 8,
   "metadata": {},
   "outputs": [
    {
     "data": {
      "text/html": [
       "<pre>Starting pairwise querying.</pre>"
      ],
      "text/plain": [
       "Starting pairwise querying."
      ]
     },
     "metadata": {},
     "output_type": "display_data"
    },
    {
     "data": {
      "text/html": [
       "<pre>+--------------+---------+-------------+--------------+</pre>"
      ],
      "text/plain": [
       "+--------------+---------+-------------+--------------+"
      ]
     },
     "metadata": {},
     "output_type": "display_data"
    },
    {
     "data": {
      "text/html": [
       "<pre>| Query points | # Pairs | % Complete. | Elapsed Time |</pre>"
      ],
      "text/plain": [
       "| Query points | # Pairs | % Complete. | Elapsed Time |"
      ]
     },
     "metadata": {},
     "output_type": "display_data"
    },
    {
     "data": {
      "text/html": [
       "<pre>+--------------+---------+-------------+--------------+</pre>"
      ],
      "text/plain": [
       "+--------------+---------+-------------+--------------+"
      ]
     },
     "metadata": {},
     "output_type": "display_data"
    },
    {
     "data": {
      "text/html": [
       "<pre>| 0            | 1       | 0.196464    | 8.228ms      |</pre>"
      ],
      "text/plain": [
       "| 0            | 1       | 0.196464    | 8.228ms      |"
      ]
     },
     "metadata": {},
     "output_type": "display_data"
    },
    {
     "data": {
      "text/html": [
       "<pre>| Done         |         | 100         | 75.158ms     |</pre>"
      ],
      "text/plain": [
       "| Done         |         | 100         | 75.158ms     |"
      ]
     },
     "metadata": {},
     "output_type": "display_data"
    },
    {
     "data": {
      "text/html": [
       "<pre>+--------------+---------+-------------+--------------+</pre>"
      ],
      "text/plain": [
       "+--------------+---------+-------------+--------------+"
      ]
     },
     "metadata": {},
     "output_type": "display_data"
    },
    {
     "data": {
      "text/html": [
       "<div style=\"max-height:1000px;max-width:1500px;overflow:auto;\"><table frame=\"box\" rules=\"cols\">\n",
       "    <tr>\n",
       "        <th style=\"padding-left: 1em; padding-right: 1em; text-align: center\">query_label</th>\n",
       "        <th style=\"padding-left: 1em; padding-right: 1em; text-align: center\">reference_label</th>\n",
       "        <th style=\"padding-left: 1em; padding-right: 1em; text-align: center\">distance</th>\n",
       "        <th style=\"padding-left: 1em; padding-right: 1em; text-align: center\">rank</th>\n",
       "    </tr>\n",
       "    <tr>\n",
       "        <td style=\"padding-left: 1em; padding-right: 1em; text-align: center; vertical-align: top\">0</td>\n",
       "        <td style=\"padding-left: 1em; padding-right: 1em; text-align: center; vertical-align: top\">16289</td>\n",
       "        <td style=\"padding-left: 1em; padding-right: 1em; text-align: center; vertical-align: top\">34.623719208</td>\n",
       "        <td style=\"padding-left: 1em; padding-right: 1em; text-align: center; vertical-align: top\">1</td>\n",
       "    </tr>\n",
       "    <tr>\n",
       "        <td style=\"padding-left: 1em; padding-right: 1em; text-align: center; vertical-align: top\">0</td>\n",
       "        <td style=\"padding-left: 1em; padding-right: 1em; text-align: center; vertical-align: top\">45646</td>\n",
       "        <td style=\"padding-left: 1em; padding-right: 1em; text-align: center; vertical-align: top\">36.0068799284</td>\n",
       "        <td style=\"padding-left: 1em; padding-right: 1em; text-align: center; vertical-align: top\">2</td>\n",
       "    </tr>\n",
       "    <tr>\n",
       "        <td style=\"padding-left: 1em; padding-right: 1em; text-align: center; vertical-align: top\">0</td>\n",
       "        <td style=\"padding-left: 1em; padding-right: 1em; text-align: center; vertical-align: top\">32139</td>\n",
       "        <td style=\"padding-left: 1em; padding-right: 1em; text-align: center; vertical-align: top\">36.5200813436</td>\n",
       "        <td style=\"padding-left: 1em; padding-right: 1em; text-align: center; vertical-align: top\">3</td>\n",
       "    </tr>\n",
       "    <tr>\n",
       "        <td style=\"padding-left: 1em; padding-right: 1em; text-align: center; vertical-align: top\">0</td>\n",
       "        <td style=\"padding-left: 1em; padding-right: 1em; text-align: center; vertical-align: top\">25713</td>\n",
       "        <td style=\"padding-left: 1em; padding-right: 1em; text-align: center; vertical-align: top\">36.7548502521</td>\n",
       "        <td style=\"padding-left: 1em; padding-right: 1em; text-align: center; vertical-align: top\">4</td>\n",
       "    </tr>\n",
       "    <tr>\n",
       "        <td style=\"padding-left: 1em; padding-right: 1em; text-align: center; vertical-align: top\">0</td>\n",
       "        <td style=\"padding-left: 1em; padding-right: 1em; text-align: center; vertical-align: top\">331</td>\n",
       "        <td style=\"padding-left: 1em; padding-right: 1em; text-align: center; vertical-align: top\">36.8731228168</td>\n",
       "        <td style=\"padding-left: 1em; padding-right: 1em; text-align: center; vertical-align: top\">5</td>\n",
       "    </tr>\n",
       "</table>\n",
       "[5 rows x 4 columns]<br/>\n",
       "</div>"
      ],
      "text/plain": [
       "Columns:\n",
       "\tquery_label\tint\n",
       "\treference_label\tint\n",
       "\tdistance\tfloat\n",
       "\trank\tint\n",
       "\n",
       "Rows: 5\n",
       "\n",
       "Data:\n",
       "+-------------+-----------------+---------------+------+\n",
       "| query_label | reference_label |    distance   | rank |\n",
       "+-------------+-----------------+---------------+------+\n",
       "|      0      |      16289      |  34.623719208 |  1   |\n",
       "|      0      |      45646      | 36.0068799284 |  2   |\n",
       "|      0      |      32139      | 36.5200813436 |  3   |\n",
       "|      0      |      25713      | 36.7548502521 |  4   |\n",
       "|      0      |       331       | 36.8731228168 |  5   |\n",
       "+-------------+-----------------+---------------+------+\n",
       "[5 rows x 4 columns]"
      ]
     },
     "execution_count": 8,
     "metadata": {},
     "output_type": "execute_result"
    }
   ],
   "source": [
    "cat_knn_model.query(image_test[0:1])"
   ]
  },
  {
   "cell_type": "code",
   "execution_count": 9,
   "metadata": {
    "scrolled": true
   },
   "outputs": [],
   "source": [
    "# now we have two ways to show the similiar cats\n",
    "# first way:\n",
    "def get_images_from_ids(query_result):\n",
    "    return image_train.filter_by(query_result['reference_label'],'id')\n",
    "# cat_neighbors = get_images_from_ids(knn_model.query(cat))\n"
   ]
  },
  {
   "cell_type": "code",
   "execution_count": 10,
   "metadata": {},
   "outputs": [
    {
     "data": {
      "text/html": [
       "<pre>Starting pairwise querying.</pre>"
      ],
      "text/plain": [
       "Starting pairwise querying."
      ]
     },
     "metadata": {},
     "output_type": "display_data"
    },
    {
     "data": {
      "text/html": [
       "<pre>+--------------+---------+-------------+--------------+</pre>"
      ],
      "text/plain": [
       "+--------------+---------+-------------+--------------+"
      ]
     },
     "metadata": {},
     "output_type": "display_data"
    },
    {
     "data": {
      "text/html": [
       "<pre>| Query points | # Pairs | % Complete. | Elapsed Time |</pre>"
      ],
      "text/plain": [
       "| Query points | # Pairs | % Complete. | Elapsed Time |"
      ]
     },
     "metadata": {},
     "output_type": "display_data"
    },
    {
     "data": {
      "text/html": [
       "<pre>+--------------+---------+-------------+--------------+</pre>"
      ],
      "text/plain": [
       "+--------------+---------+-------------+--------------+"
      ]
     },
     "metadata": {},
     "output_type": "display_data"
    },
    {
     "data": {
      "text/html": [
       "<pre>| 0            | 1       | 0.196464    | 8.564ms      |</pre>"
      ],
      "text/plain": [
       "| 0            | 1       | 0.196464    | 8.564ms      |"
      ]
     },
     "metadata": {},
     "output_type": "display_data"
    },
    {
     "data": {
      "text/html": [
       "<pre>| Done         |         | 100         | 58.2ms       |</pre>"
      ],
      "text/plain": [
       "| Done         |         | 100         | 58.2ms       |"
      ]
     },
     "metadata": {},
     "output_type": "display_data"
    },
    {
     "data": {
      "text/html": [
       "<pre>+--------------+---------+-------------+--------------+</pre>"
      ],
      "text/plain": [
       "+--------------+---------+-------------+--------------+"
      ]
     },
     "metadata": {},
     "output_type": "display_data"
    },
    {
     "data": {
      "application/javascript": [
       "$(\"head\").append($(\"<link/>\").attr({\n",
       "  rel:  \"stylesheet\",\n",
       "  type: \"text/css\",\n",
       "  href: \"//cdnjs.cloudflare.com/ajax/libs/font-awesome/4.1.0/css/font-awesome.min.css\"\n",
       "}));\n",
       "$(\"head\").append($(\"<link/>\").attr({\n",
       "  rel:  \"stylesheet\",\n",
       "  type: \"text/css\",\n",
       "  href: \"https://static.turi.com/products/graphlab-create/2.1/canvas/css/canvas.css\"\n",
       "}));\n",
       "\n",
       "            (function(){\n",
       "\n",
       "                var e = null;\n",
       "                if (typeof element == 'undefined') {\n",
       "                    var scripts = document.getElementsByTagName('script');\n",
       "                    var thisScriptTag = scripts[scripts.length-1];\n",
       "                    var parentDiv = thisScriptTag.parentNode;\n",
       "                    e = document.createElement('div');\n",
       "                    parentDiv.appendChild(e);\n",
       "                } else {\n",
       "                    e = element[0];\n",
       "                }\n",
       "\n",
       "                if (typeof requirejs !== 'undefined') {\n",
       "                    // disable load timeout; ipython_app.js is large and can take a while to load.\n",
       "                    requirejs.config({waitSeconds: 0});\n",
       "                }\n",
       "\n",
       "                require(['https://static.turi.com/products/graphlab-create/2.1/canvas/js/ipython_app.js'], function(IPythonApp){\n",
       "                    var app = new IPythonApp();\n",
       "                    app.attachView('sarray','Images', {\"ipython\": true, \"rows\": [{\"format\": \"raw\", \"value\": [154, 145, 135, 152, 144, 135, 157, 146, 136, 152, 138, 125, 131, 100, 76, 171, 125, 86, 164, 112, 67, 154, 92, 49, 141, 111, 85, 112, 140, 137, 101, 155, 160, 106, 158, 158, 99, 135, 134, 112, 144, 146, 136, 192, 195, 139, 209, 211, 132, 200, 201, 114, 183, 182, 115, 182, 180, 115, 176, 175, 117, 172, 173, 112, 164, 166, 85, 138, 145, 80, 130, 139, 87, 134, 134, 66, 107, 96, 42, 80, 59, 40, 73, 49, 34, 60, 36, 33, 57, 31, 31, 58, 29, 30, 58, 32, 157, 148, 138, 155, 147, 138, 160, 149, 139, 154, 139, 126, 134, 103, 80, 175, 128, 93, 166, 114, 71, 161, 99, 54, 153, 125, 95, 124, 153, 145, 120, 172, 180, 127, 185, 190, 132, 185, 189, 148, 195, 206, 140, 198, 214, 152, 209, 220, 148, 199, 204, 122, 179, 184, 119, 177, 184, 126, 181, 191, 151, 201, 212, 143, 195, 201, 106, 161, 169, 99, 153, 162, 99, 150, 152, 78, 123, 116, 53, 95, 79, 44, 83, 65, 35, 68, 48, 28, 58, 36, 25, 55, 29, 24, 52, 30, 157, 147, 137, 155, 147, 137, 159, 148, 138, 152, 138, 124, 133, 103, 81, 174, 128, 95, 163, 113, 71, 160, 100, 55, 157, 131, 99, 117, 145, 134, 114, 157, 164, 119, 175, 179, 127, 188, 191, 153, 206, 218, 151, 204, 224, 167, 216, 229, 161, 208, 212, 138, 195, 203, 142, 203, 212, 144, 201, 213, 153, 205, 216, 131, 185, 192, 101, 158, 165, 100, 158, 164, 99, 154, 157, 82, 132, 128, 69, 116, 107, 54, 101, 87, 38, 82, 65, 30, 68, 49, 28, 60, 38, 24, 50, 30, 157, 148, 138, 155, 147, 138, 159, 149, 139, 152, 137, 123, 135, 105, 83, 177, 133, 99, 163, 114, 72, 159, 100, 54, 148, 124, 92, 104, 132, 121, 102, 139, 144, 102, 154, 156, 115, 176, 177, 148, 200, 209, 157, 208, 223, 168, 221, 229, 159, 219, 221, 142, 212, 216, 146, 219, 222, 141, 207, 208, 131, 188, 189, 113, 170, 173, 96, 156, 160, 95, 157, 159, 90, 151, 150, 74, 131, 127, 67, 120, 113, 51, 106, 95, 34, 90, 73, 36, 85, 64, 35, 69, 48, 29, 54, 33, 157, 148, 138, 155, 147, 138, 160, 149, 139, 150, 135, 122, 135, 106, 82, 181, 138, 100, 168, 120, 75, 166, 109, 63, 143, 119, 89, 95, 124, 117, 103, 143, 149, 112, 164, 169, 125, 183, 188, 148, 201, 209, 154, 211, 219, 149, 215, 217, 139, 213, 212, 123, 205, 204, 133, 214, 208, 131, 200, 184, 130, 187, 170, 122, 180, 177, 106, 170, 168, 95, 161, 157, 84, 150, 145, 73, 135, 130, 62, 120, 114, 46, 108, 97, 35, 102, 83, 38, 96, 72, 31, 68, 46, 27, 52, 30, 157, 148, 138, 155, 147, 137, 160, 150, 139, 149, 134, 121, 135, 106, 80, 184, 142, 100, 173, 126, 79, 176, 118, 72, 149, 125, 98, 100, 130, 127, 111, 159, 170, 122, 180, 190, 126, 187, 197, 134, 194, 204, 133, 203, 208, 135, 213, 212, 135, 215, 213, 118, 202, 198, 124, 205, 191, 114, 178, 149, 99, 151, 119, 107, 165, 153, 93, 159, 151, 84, 154, 144, 83, 152, 141, 76, 141, 133, 66, 129, 122, 54, 122, 109, 45, 119, 98, 28, 91, 66, 24, 63, 39, 25, 50, 28, 159, 147, 139, 157, 146, 138, 158, 151, 139, 146, 134, 118, 138, 108, 81, 189, 147, 105, 178, 129, 80, 180, 120, 74, 152, 129, 105, 108, 144, 145, 114, 168, 177, 117, 179, 186, 116, 183, 187, 118, 187, 189, 115, 192, 190, 124, 199, 199, 130, 191, 196, 93, 151, 151, 98, 167, 150, 107, 172, 137, 71, 123, 78, 76, 132, 88, 76, 139, 117, 71, 142, 127, 67, 139, 121, 65, 130, 119, 66, 128, 120, 55, 128, 111, 45, 125, 100, 27, 88, 63, 19, 53, 30, 21, 44, 23, 160, 146, 140, 158, 145, 139, 157, 152, 138, 145, 133, 116, 141, 109, 84, 192, 149, 109, 180, 129, 81, 181, 122, 74, 153, 135, 110, 108, 151, 153, 111, 170, 175, 114, 174, 175, 107, 170, 169, 108, 171, 167, 98, 162, 156, 97, 150, 146, 83, 116, 118, 53, 90, 88, 68, 136, 115, 76, 155, 121, 65, 128, 80, 58, 113, 48, 64, 125, 90, 67, 137, 120, 61, 134, 114, 60, 126, 115, 61, 124, 114, 50, 126, 106, 43, 128, 99, 35, 96, 69, 23, 55, 33, 23, 47, 24, 160, 146, 140, 158, 145, 138, 157, 153, 138, 145, 133, 116, 143, 110, 85, 193, 149, 109, 182, 133, 87, 181, 127, 80, 151, 138, 111, 105, 154, 151, 104, 168, 169, 109, 166, 166, 99, 146, 145, 68, 105, 103, 53, 83, 80, 52, 69, 62, 59, 68, 59, 49, 85, 71, 46, 128, 99, 39, 134, 99, 49, 121, 79, 53, 109, 47, 55, 115, 76, 56, 125, 108, 56, 130, 114, 53, 123, 113, 55, 121, 108, 46, 125, 100, 37, 125, 93, 33, 99, 68, 24, 64, 38, 21, 48, 24, 160, 146, 140, 157, 145, 138, 157, 153, 138, 144, 133, 116, 145, 112, 87, 195, 150, 112, 184, 138, 93, 183, 134, 87, 149, 140, 111, 98, 149, 141, 100, 162, 159, 103, 151, 148, 66, 95, 94, 43, 54, 54, 56, 54, 54, 46, 39, 35, 43, 41, 32, 46, 82, 63, 37, 125, 88, 31, 127, 84, 43, 110, 63, 47, 100, 39, 46, 104, 61, 46, 112, 91, 50, 121, 108, 46, 118, 106, 47, 114, 96, 39, 120, 88, 37, 128, 90, 32, 103, 68, 19, 66, 35, 21, 54, 27, 160, 146, 140, 158, 145, 138, 157, 152, 138, 143, 131, 114, 148, 114, 89, 198, 154, 116, 185, 141, 97, 183, 135, 90, 147, 137, 107, 94, 140, 129, 97, 149, 143, 77, 110, 107, 44, 54, 55, 64, 55, 59, 85, 67, 71, 52, 38, 42, 25, 25, 25, 30, 65, 49, 36, 118, 77, 34, 116, 62, 45, 97, 42, 41, 90, 31, 36, 92, 44, 44, 105, 78, 48, 113, 100, 39, 107, 90, 39, 104, 77, 32, 110, 74, 35, 126, 84, 35, 108, 69, 22, 74, 39, 23, 60, 30, 160, 146, 140, 158, 145, 138, 157, 152, 138, 141, 130, 113, 150, 117, 92, 202, 160, 122, 185, 142, 100, 185, 136, 93, 147, 132, 103, 87, 123, 112, 61, 96, 90, 40, 55, 53, 48, 45, 49, 90, 75, 83, 118, 101, 109, 70, 60, 68, 26, 24, 30, 17, 43, 32, 34, 102, 63, 32, 101, 45, 43, 86, 28, 41, 89, 33, 35, 88, 35, 46, 100, 67, 50, 105, 90, 38, 96, 71, 38, 98, 63, 28, 103, 63, 29, 119, 73, 33, 107, 64, 20, 73, 36, 20, 61, 28, 160, 146, 140, 157, 145, 138, 157, 152, 138, 140, 128, 112, 152, 119, 93, 203, 161, 124, 185, 143, 101, 189, 139, 98, 148, 126, 99, 57, 80, 70, 29, 45, 41, 45, 45, 45, 52, 42, 48, 75, 62, 71, 102, 95, 104, 91, 85, 91, 53, 44, 47, 19, 31, 23, 23, 76, 44, 29, 92, 42, 38, 84, 32, 39, 88, 34, 37, 89, 32, 48, 96, 58, 51, 97, 77, 40, 90, 57, 40, 94, 53, 32, 103, 61, 27, 114, 65, 35, 107, 63, 26, 79, 40, 25, 69, 34, 159, 147, 139, 155, 146, 137, 158, 151, 138, 142, 127, 111, 154, 118, 93, 205, 158, 120, 184, 143, 102, 178, 139, 102, 122, 102, 82, 26, 31, 30, 39, 41, 48, 56, 51, 57, 42, 34, 37, 38, 31, 33, 52, 51, 53, 80, 80, 78, 80, 69, 68, 37, 33, 32, 18, 58, 37, 22, 81, 37, 36, 83, 32, 37, 87, 36, 36, 83, 31, 48, 89, 48, 49, 90, 59, 41, 88, 48, 38, 91, 49, 37, 98, 55, 35, 106, 58, 47, 103, 61, 31, 75, 40, 23, 58, 28, 158, 148, 137, 152, 148, 137, 158, 151, 138, 142, 124, 109, 155, 121, 98, 194, 152, 120, 139, 107, 75, 92, 70, 47, 49, 38, 29, 20, 16, 23, 67, 62, 79, 81, 74, 88, 36, 31, 37, 23, 18, 19, 26, 22, 21, 39, 41, 34, 77, 69, 66, 68, 58, 64, 29, 60, 48, 18, 72, 32, 36, 81, 29, 33, 83, 31, 33, 81, 32, 44, 84, 40, 48, 87, 46, 41, 87, 44, 38, 90, 48, 43, 91, 50, 45, 101, 53, 60, 100, 58, 43, 79, 44, 28, 55, 27, 158, 150, 137, 153, 150, 138, 157, 150, 136, 139, 124, 107, 137, 116, 96, 111, 90, 73, 41, 26, 17, 43, 34, 31, 29, 28, 30, 20, 21, 27, 78, 71, 84, 147, 136, 155, 69, 59, 78, 15, 5, 20, 25, 17, 23, 22, 21, 15, 41, 34, 29, 67, 61, 64, 38, 66, 54, 18, 65, 32, 36, 79, 33, 28, 84, 28, 30, 86, 30, 41, 88, 38, 45, 88, 42, 44, 87, 42, 45, 89, 48, 49, 89, 47, 48, 97, 48, 64, 101, 55, 67, 102, 59, 44, 69, 35, 158, 150, 137, 153, 149, 138, 158, 153, 140, 134, 123, 107, 64, 55, 40, 23, 19, 11, 24, 20, 24, 61, 59, 70, 53, 54, 61, 24, 26, 26, 58, 51, 56, 135, 122, 141, 124, 110, 140, 33, 19, 46, 34, 22, 35, 40, 37, 34, 44, 41, 35, 48, 50, 47, 42, 71, 58, 36, 78, 53, 39, 79, 43, 30, 86, 30, 28, 88, 29, 37, 90, 36, 44, 90, 41, 47, 89, 43, 51, 87, 44, 54, 85, 43, 53, 98, 49, 68, 103, 55, 80, 113, 65, 65, 89, 50, 157, 150, 139, 152, 148, 139, 133, 129, 119, 74, 67, 57, 22, 18, 7, 18, 18, 11, 40, 37, 42, 73, 69, 81, 49, 44, 49, 26, 21, 16, 55, 45, 47, 70, 57, 74, 107, 92, 122, 91, 77, 105, 73, 61, 75, 65, 63, 59, 55, 61, 51, 52, 67, 56, 57, 90, 74, 50, 89, 72, 41, 76, 54, 36, 81, 37, 33, 85, 34, 34, 87, 36, 41, 88, 41, 48, 88, 43, 55, 86, 43, 60, 87, 45, 54, 97, 50, 70, 103, 59, 90, 120, 75, 82, 104, 66, 143, 136, 128, 105, 100, 97, 55, 51, 48, 22, 19, 14, 23, 22, 16, 26, 25, 23, 51, 48, 50, 76, 70, 74, 51, 43, 44, 36, 27, 25, 59, 50, 52, 46, 36, 47, 44, 33, 51, 56, 45, 62, 52, 42, 51, 56, 56, 52, 62, 78, 63, 75, 105, 86, 66, 104, 87, 59, 97, 86, 54, 84, 76, 54, 77, 55, 43, 77, 45, 33, 79, 40, 42, 89, 46, 49, 89, 45, 52, 84, 40, 61, 89, 47, 59, 104, 62, 80, 112, 78, 85, 109, 76, 84, 100, 70, 78, 72, 69, 33, 28, 31, 23, 20, 24, 28, 27, 28, 34, 35, 37, 39, 39, 45, 59, 58, 59, 62, 60, 57, 52, 46, 49, 56, 48, 55, 54, 48, 53, 36, 30, 33, 30, 24, 26, 25, 20, 21, 27, 22, 23, 64, 68, 63, 95, 119, 100, 81, 122, 97, 65, 108, 88, 64, 103, 97, 63, 89, 93, 81, 81, 82, 62, 74, 63, 47, 83, 57, 50, 95, 57, 48, 89, 47, 52, 87, 42, 56, 89, 48, 67, 115, 79, 106, 138, 113, 105, 126, 106, 97, 104, 85, 33, 29, 30, 28, 24, 28, 30, 27, 32, 41, 39, 43, 57, 55, 62, 63, 62, 71, 60, 60, 63, 40, 40, 40, 45, 42, 47, 65, 60, 70, 45, 41, 46, 24, 21, 17, 25, 21, 16, 25, 22, 20, 25, 24, 21, 87, 96, 84, 121, 149, 124, 72, 116, 80, 52, 96, 66, 57, 92, 85, 83, 103, 115, 104, 99, 112, 73, 71, 72, 77, 101, 82, 77, 121, 84, 67, 99, 61, 68, 95, 55, 54, 89, 48, 65, 114, 81, 110, 143, 127, 145, 169, 160, 134, 138, 128, 50, 49, 52, 42, 40, 44, 36, 33, 37, 57, 52, 57, 74, 69, 74, 65, 61, 66, 45, 42, 47, 24, 22, 27, 38, 34, 40, 55, 50, 56, 33, 31, 31, 22, 19, 12, 27, 22, 19, 21, 18, 21, 27, 30, 22, 68, 84, 61, 77, 108, 69, 57, 97, 47, 48, 87, 44, 55, 81, 69, 91, 105, 123, 119, 118, 148, 92, 81, 103, 104, 116, 113, 109, 145, 124, 95, 111, 95, 86, 95, 71, 56, 92, 55, 60, 113, 84, 95, 141, 131, 130, 174, 170, 138, 161, 152, 65, 64, 70, 62, 60, 66, 52, 48, 55, 68, 62, 69, 69, 64, 69, 42, 39, 43, 28, 25, 29, 22, 20, 23, 31, 28, 32, 33, 30, 34, 28, 25, 28, 26, 22, 18, 27, 22, 21, 13, 13, 15, 30, 39, 26, 54, 79, 44, 54, 87, 38, 59, 90, 37, 70, 94, 53, 78, 95, 82, 85, 97, 115, 123, 124, 172, 124, 111, 155, 121, 124, 147, 108, 131, 138, 111, 113, 127, 97, 99, 93, 66, 94, 70, 73, 113, 101, 93, 135, 135, 88, 144, 142, 96, 152, 142, 67, 66, 72, 69, 67, 74, 59, 55, 62, 57, 52, 59, 51, 48, 53, 30, 30, 31, 26, 24, 23, 24, 21, 20, 30, 29, 29, 28, 27, 30, 26, 22, 28, 34, 29, 29, 25, 22, 21, 9, 12, 10, 30, 44, 26, 58, 86, 45, 56, 87, 37, 61, 78, 34, 95, 100, 74, 106, 112, 106, 102, 111, 127, 119, 124, 160, 134, 126, 159, 123, 124, 139, 115, 127, 132, 121, 117, 129, 95, 99, 94, 70, 83, 77, 96, 91, 110, 101, 91, 118, 92, 107, 124, 80, 118, 127, 63, 61, 67, 59, 57, 64, 49, 45, 52, 43, 37, 44, 37, 34, 39, 32, 32, 31, 37, 32, 28, 45, 37, 33, 44, 40, 37, 29, 29, 31, 21, 18, 24, 39, 34, 35, 31, 28, 27, 6, 8, 7, 30, 42, 23, 62, 85, 46, 61, 81, 41, 71, 73, 48, 100, 91, 85, 125, 119, 127, 121, 125, 139, 119, 126, 139, 123, 122, 128, 122, 122, 116, 129, 132, 120, 119, 112, 107, 82, 88, 75, 95, 109, 110, 117, 110, 143, 114, 82, 123, 133, 95, 134, 137, 102, 148, 31, 31, 34, 46, 44, 48, 44, 41, 45, 43, 38, 42, 46, 42, 46, 52, 47, 47, 60, 50, 44, 69, 56, 48, 56, 47, 43, 31, 28, 31, 23, 21, 25, 32, 28, 26, 38, 32, 32, 15, 11, 13, 31, 36, 22, 66, 75, 42, 79, 82, 52, 99, 92, 79, 120, 107, 110, 123, 112, 121, 124, 120, 129, 122, 125, 131, 128, 128, 125, 131, 127, 117, 136, 128, 118, 131, 121, 116, 92, 93, 76, 86, 118, 111, 95, 149, 165, 74, 100, 123, 109, 79, 117, 166, 99, 161, 19, 19, 17, 31, 31, 29, 35, 32, 32, 37, 33, 33, 57, 52, 53, 62, 53, 53, 93, 77, 70, 142, 123, 114, 84, 70, 65, 34, 28, 30, 29, 28, 28, 26, 22, 17, 39, 30, 30, 27, 16, 23, 35, 29, 23, 76, 68, 40, 90, 77, 46, 101, 91, 77, 122, 113, 110, 126, 116, 113, 130, 119, 113, 143, 141, 133, 140, 141, 124, 143, 136, 115, 146, 133, 114, 132, 123, 108, 103, 100, 71, 75, 104, 92, 81, 148, 160, 67, 125, 134, 81, 96, 120, 130, 102, 154, 20, 20, 16, 23, 23, 19, 29, 27, 24, 31, 29, 26, 47, 44, 44, 66, 61, 62, 153, 143, 139, 197, 185, 180, 97, 87, 88, 35, 30, 37, 37, 36, 35, 25, 23, 16, 38, 30, 30, 47, 35, 42, 44, 32, 30, 77, 60, 38, 89, 71, 41, 84, 73, 54, 110, 102, 88, 125, 113, 97, 120, 106, 84, 131, 124, 97, 128, 124, 91, 125, 115, 78, 124, 108, 73, 110, 100, 66, 103, 95, 58, 87, 92, 76, 86, 115, 123, 79, 118, 124, 56, 99, 111, 86, 115, 145, 23, 21, 19, 21, 20, 17, 26, 26, 22, 29, 30, 27, 32, 34, 34, 69, 72, 73, 116, 119, 119, 104, 106, 107, 61, 61, 67, 24, 22, 32, 36, 34, 32, 34, 32, 28, 23, 22, 23, 40, 35, 38, 42, 34, 34, 58, 47, 36, 68, 57, 39, 74, 63, 48, 79, 68, 52, 85, 72, 55, 91, 77, 56, 91, 78, 53, 93, 80, 51, 103, 86, 56, 113, 93, 60, 113, 93, 60, 121, 100, 68, 112, 97, 73, 108, 107, 94, 95, 112, 106, 62, 100, 103, 71, 114, 128, 24, 21, 21, 20, 18, 15, 28, 26, 23, 31, 31, 27, 23, 23, 20, 37, 35, 32, 44, 36, 34, 53, 41, 39, 59, 47, 45, 37, 27, 24, 38, 29, 24, 42, 37, 34, 16, 15, 17, 25, 25, 29, 27, 26, 28, 26, 24, 21, 28, 26, 19, 33, 31, 23, 33, 30, 21, 39, 35, 26, 50, 45, 35, 57, 47, 32, 61, 49, 32, 70, 57, 38, 92, 76, 56, 116, 99, 77, 116, 94, 70, 118, 96, 70, 111, 98, 76, 102, 103, 88, 91, 108, 102, 77, 101, 104, 24, 20, 21, 22, 18, 18, 34, 29, 26, 39, 33, 27, 36, 28, 19, 48, 32, 22, 70, 39, 31, 91, 51, 41, 95, 59, 42, 85, 57, 33, 81, 55, 40, 69, 49, 41, 30, 19, 16, 28, 23, 23, 28, 25, 25, 18, 16, 13, 19, 18, 13, 13, 13, 9, 14, 14, 11, 14, 16, 13, 20, 21, 18, 27, 25, 19, 31, 27, 20, 35, 29, 22, 47, 40, 32, 68, 61, 51, 75, 60, 47, 83, 64, 47, 84, 67, 49, 105, 95, 79, 118, 117, 105, 96, 99, 95, 23, 18, 18, 27, 23, 22, 31, 23, 19, 46, 33, 23, 74, 56, 38, 74, 47, 28, 89, 45, 30, 101, 46, 29, 104, 54, 25, 107, 64, 26, 112, 67, 39, 107, 67, 47, 68, 39, 25, 64, 42, 31, 69, 51, 39, 56, 40, 26, 61, 47, 33, 49, 38, 26, 35, 27, 18, 25, 20, 13, 20, 17, 13, 18, 18, 17, 17, 18, 18, 20, 20, 21, 21, 22, 22, 23, 23, 23, 29, 26, 25, 35, 27, 23, 47, 36, 28, 67, 57, 47, 83, 78, 69, 77, 74, 69], \"height\": 32, \"channels\": 3, \"width\": 32, \"type\": \"image\", \"id\": 140152567635600}, {\"format\": \"raw\", \"value\": [52, 55, 50, 76, 70, 63, 63, 66, 56, 63, 80, 68, 72, 79, 67, 76, 80, 65, 68, 74, 66, 108, 108, 110, 142, 140, 142, 144, 139, 143, 144, 142, 139, 132, 135, 122, 130, 128, 114, 154, 140, 134, 139, 127, 117, 139, 124, 109, 151, 129, 111, 158, 138, 128, 141, 127, 119, 127, 113, 104, 157, 142, 140, 174, 161, 161, 167, 155, 163, 167, 162, 177, 155, 159, 179, 152, 158, 185, 149, 154, 178, 152, 154, 176, 150, 151, 176, 146, 148, 172, 141, 145, 167, 133, 138, 162, 54, 58, 54, 88, 77, 73, 68, 71, 64, 56, 79, 68, 61, 75, 64, 72, 79, 65, 74, 79, 69, 114, 111, 110, 141, 141, 141, 139, 134, 134, 153, 149, 142, 126, 127, 114, 128, 128, 115, 154, 143, 136, 145, 134, 128, 129, 113, 103, 150, 129, 115, 140, 123, 115, 138, 124, 114, 162, 145, 132, 186, 165, 160, 182, 162, 162, 179, 162, 168, 176, 168, 183, 156, 158, 179, 154, 159, 186, 150, 154, 179, 148, 151, 173, 148, 149, 173, 149, 150, 175, 147, 150, 173, 138, 142, 168, 57, 63, 57, 103, 90, 87, 92, 95, 89, 68, 94, 83, 64, 81, 72, 79, 90, 77, 85, 92, 80, 98, 96, 90, 126, 127, 123, 145, 142, 136, 146, 140, 130, 100, 98, 85, 117, 117, 107, 139, 131, 120, 131, 122, 112, 133, 121, 103, 141, 125, 108, 118, 105, 101, 129, 117, 106, 169, 153, 137, 182, 160, 154, 177, 155, 156, 177, 159, 163, 178, 168, 182, 155, 155, 178, 155, 160, 187, 145, 149, 172, 147, 150, 170, 151, 151, 175, 150, 151, 175, 148, 150, 173, 142, 145, 170, 78, 84, 74, 108, 98, 92, 109, 112, 105, 98, 120, 109, 93, 108, 99, 94, 109, 97, 82, 95, 81, 100, 101, 92, 117, 116, 111, 142, 137, 127, 151, 145, 131, 115, 113, 98, 117, 116, 107, 131, 124, 110, 120, 115, 106, 152, 144, 127, 141, 130, 114, 92, 83, 82, 128, 120, 110, 154, 143, 128, 166, 149, 146, 176, 160, 166, 162, 148, 153, 175, 168, 181, 157, 158, 181, 150, 156, 181, 145, 151, 172, 152, 155, 175, 154, 155, 177, 151, 152, 173, 149, 150, 170, 145, 147, 168, 96, 100, 87, 119, 115, 103, 99, 101, 91, 79, 93, 82, 93, 103, 94, 90, 107, 95, 81, 102, 87, 109, 115, 106, 115, 110, 104, 141, 134, 121, 142, 138, 119, 117, 118, 101, 118, 116, 102, 129, 121, 104, 116, 111, 117, 132, 126, 135, 102, 92, 89, 70, 64, 65, 114, 112, 103, 150, 144, 132, 158, 149, 152, 167, 161, 172, 147, 142, 149, 165, 162, 175, 153, 156, 178, 147, 152, 177, 151, 156, 176, 153, 157, 175, 154, 155, 176, 153, 153, 171, 151, 152, 167, 150, 152, 169, 89, 86, 75, 112, 115, 102, 88, 95, 84, 75, 84, 74, 81, 89, 80, 60, 75, 63, 66, 84, 67, 116, 118, 105, 124, 116, 109, 140, 133, 118, 105, 105, 86, 92, 98, 79, 110, 109, 88, 129, 121, 107, 105, 98, 113, 82, 76, 97, 35, 28, 33, 55, 51, 56, 102, 103, 98, 143, 143, 133, 151, 148, 152, 151, 150, 163, 138, 135, 146, 159, 160, 175, 145, 149, 172, 143, 146, 168, 154, 156, 176, 154, 157, 176, 154, 156, 176, 153, 153, 169, 153, 153, 167, 154, 156, 172, 92, 87, 78, 84, 94, 82, 85, 101, 88, 90, 99, 87, 65, 73, 61, 48, 60, 45, 65, 72, 52, 121, 112, 95, 133, 121, 111, 119, 110, 95, 80, 82, 64, 78, 86, 68, 106, 104, 84, 111, 103, 99, 66, 60, 72, 28, 24, 33, 8, 4, 7, 42, 38, 47, 90, 92, 93, 129, 131, 126, 152, 151, 154, 146, 145, 153, 138, 136, 145, 149, 151, 166, 136, 141, 162, 139, 139, 157, 156, 155, 172, 155, 156, 175, 152, 155, 174, 152, 152, 169, 156, 155, 170, 155, 156, 173, 97, 100, 88, 73, 85, 69, 72, 89, 73, 102, 111, 94, 90, 94, 78, 77, 84, 67, 79, 83, 62, 109, 95, 78, 142, 123, 110, 148, 132, 116, 87, 81, 65, 75, 77, 62, 108, 102, 89, 71, 63, 63, 23, 17, 27, 13, 12, 15, 23, 20, 23, 37, 33, 46, 73, 75, 81, 109, 110, 111, 156, 155, 160, 144, 144, 145, 129, 128, 129, 137, 140, 146, 126, 133, 144, 145, 146, 161, 153, 152, 168, 153, 155, 171, 152, 155, 173, 151, 152, 170, 156, 155, 173, 153, 154, 173, 89, 94, 81, 63, 69, 52, 69, 77, 62, 87, 93, 75, 90, 91, 74, 77, 81, 66, 84, 88, 69, 114, 101, 85, 164, 141, 127, 165, 145, 128, 117, 105, 89, 85, 80, 67, 116, 109, 103, 53, 45, 50, 14, 10, 19, 18, 19, 20, 33, 30, 34, 33, 28, 44, 53, 54, 66, 92, 92, 101, 144, 143, 155, 133, 134, 138, 123, 123, 125, 147, 149, 154, 134, 140, 149, 139, 141, 156, 146, 148, 162, 146, 149, 161, 151, 154, 169, 151, 151, 169, 154, 152, 172, 152, 152, 173, 83, 86, 73, 79, 76, 62, 77, 76, 67, 70, 76, 66, 73, 74, 67, 85, 90, 83, 91, 100, 89, 95, 90, 78, 137, 122, 106, 166, 150, 132, 147, 135, 118, 88, 82, 69, 99, 94, 93, 48, 43, 50, 6, 3, 11, 11, 9, 11, 21, 17, 22, 32, 27, 44, 41, 41, 56, 78, 77, 92, 136, 134, 154, 142, 144, 156, 125, 124, 133, 143, 144, 153, 139, 144, 157, 129, 134, 149, 134, 138, 148, 135, 139, 146, 145, 148, 159, 151, 151, 167, 149, 148, 166, 149, 150, 169, 65, 74, 59, 80, 77, 66, 75, 77, 74, 81, 94, 95, 90, 94, 102, 104, 112, 118, 103, 120, 118, 82, 90, 83, 93, 92, 78, 128, 122, 105, 137, 130, 111, 97, 92, 77, 73, 75, 73, 38, 38, 45, 30, 26, 35, 27, 20, 26, 32, 25, 31, 63, 59, 74, 38, 38, 54, 52, 51, 68, 89, 88, 112, 120, 122, 139, 124, 122, 135, 129, 128, 140, 122, 126, 139, 124, 131, 146, 123, 131, 137, 120, 126, 130, 135, 138, 148, 146, 146, 160, 142, 141, 155, 147, 148, 163, 49, 67, 49, 59, 65, 54, 76, 88, 89, 96, 117, 130, 107, 115, 137, 87, 99, 118, 88, 110, 118, 70, 89, 87, 77, 90, 80, 81, 86, 71, 100, 100, 80, 96, 96, 79, 79, 86, 83, 64, 68, 72, 109, 105, 113, 113, 101, 111, 113, 103, 108, 123, 119, 132, 35, 36, 50, 39, 38, 56, 50, 49, 72, 70, 72, 87, 82, 81, 90, 86, 87, 92, 88, 92, 99, 104, 111, 123, 112, 120, 124, 110, 115, 116, 123, 125, 132, 131, 131, 142, 134, 135, 146, 138, 140, 153, 44, 58, 44, 63, 71, 59, 95, 109, 111, 118, 137, 154, 83, 97, 118, 83, 97, 119, 89, 109, 126, 61, 87, 88, 71, 97, 93, 67, 82, 75, 85, 95, 72, 87, 93, 80, 87, 92, 90, 96, 104, 99, 119, 122, 122, 153, 141, 144, 198, 184, 185, 198, 192, 201, 79, 80, 94, 40, 40, 57, 40, 38, 58, 40, 39, 55, 50, 50, 55, 47, 50, 46, 60, 65, 58, 52, 54, 54, 61, 64, 62, 73, 76, 71, 73, 71, 69, 77, 73, 71, 101, 107, 114, 124, 131, 147, 56, 64, 54, 56, 60, 52, 68, 71, 72, 74, 80, 90, 52, 61, 68, 64, 74, 84, 75, 93, 102, 51, 80, 74, 54, 84, 81, 55, 72, 75, 63, 74, 60, 72, 79, 68, 73, 80, 77, 73, 87, 77, 71, 82, 79, 159, 152, 155, 227, 214, 216, 247, 241, 247, 131, 130, 143, 39, 39, 55, 33, 31, 47, 29, 26, 42, 62, 62, 68, 64, 68, 63, 60, 65, 55, 45, 45, 39, 52, 53, 48, 60, 61, 53, 51, 47, 40, 49, 42, 39, 86, 92, 103, 147, 154, 173, 51, 62, 53, 38, 45, 40, 46, 41, 39, 42, 36, 35, 24, 24, 17, 23, 28, 25, 26, 42, 41, 44, 73, 61, 51, 80, 78, 67, 84, 94, 41, 49, 49, 61, 65, 57, 62, 73, 66, 52, 72, 61, 56, 73, 73, 184, 184, 193, 248, 240, 244, 230, 224, 230, 98, 96, 107, 31, 29, 43, 29, 27, 41, 19, 17, 31, 52, 51, 61, 76, 79, 81, 67, 71, 65, 63, 63, 57, 69, 70, 62, 75, 76, 66, 74, 70, 60, 58, 50, 49, 97, 99, 114, 144, 146, 165, 39, 59, 47, 37, 53, 46, 44, 43, 37, 48, 39, 34, 34, 28, 21, 37, 38, 34, 34, 46, 47, 46, 71, 65, 53, 79, 80, 57, 72, 87, 41, 47, 58, 53, 56, 52, 56, 67, 59, 52, 75, 64, 67, 87, 89, 204, 207, 219, 255, 253, 255, 146, 140, 146, 39, 33, 41, 28, 24, 35, 30, 28, 40, 23, 21, 33, 39, 38, 51, 67, 69, 78, 69, 72, 73, 67, 64, 57, 83, 82, 70, 97, 95, 82, 95, 88, 76, 64, 53, 51, 119, 115, 130, 124, 118, 133, 42, 68, 53, 51, 71, 61, 52, 61, 55, 44, 44, 45, 42, 41, 39, 48, 49, 51, 51, 60, 69, 50, 67, 72, 57, 75, 80, 36, 51, 60, 55, 64, 77, 47, 52, 52, 54, 63, 57, 53, 72, 62, 84, 103, 105, 207, 209, 220, 236, 232, 238, 75, 69, 74, 15, 7, 12, 28, 21, 29, 29, 26, 35, 27, 25, 36, 33, 32, 48, 57, 58, 74, 75, 76, 83, 73, 65, 58, 94, 86, 74, 104, 97, 83, 106, 94, 80, 97, 82, 74, 138, 128, 134, 117, 102, 108, 40, 62, 48, 47, 60, 48, 58, 68, 68, 42, 52, 60, 48, 58, 57, 52, 58, 59, 48, 55, 65, 66, 75, 87, 67, 78, 87, 35, 50, 50, 49, 61, 71, 58, 65, 69, 55, 59, 56, 45, 58, 49, 68, 82, 83, 190, 189, 199, 184, 179, 186, 43, 38, 42, 14, 5, 8, 23, 16, 21, 22, 19, 26, 17, 16, 25, 35, 32, 52, 53, 53, 74, 64, 63, 74, 87, 74, 67, 103, 89, 76, 111, 97, 84, 108, 89, 76, 114, 94, 78, 135, 119, 114, 133, 109, 106, 34, 48, 39, 40, 42, 40, 62, 67, 72, 55, 64, 73, 60, 79, 77, 59, 79, 76, 48, 58, 65, 69, 78, 90, 65, 76, 86, 46, 60, 58, 45, 57, 63, 69, 79, 84, 43, 46, 47, 36, 44, 39, 58, 66, 70, 135, 132, 142, 162, 155, 160, 51, 43, 45, 11, 3, 4, 16, 10, 14, 17, 14, 19, 10, 8, 14, 27, 24, 40, 44, 44, 61, 42, 41, 50, 96, 86, 79, 108, 100, 91, 105, 99, 92, 95, 85, 77, 89, 75, 64, 101, 91, 92, 127, 104, 101, 51, 64, 60, 68, 71, 74, 86, 90, 92, 77, 82, 87, 80, 104, 104, 66, 96, 93, 63, 80, 85, 74, 91, 99, 40, 54, 60, 46, 56, 58, 40, 52, 53, 49, 62, 65, 39, 43, 48, 23, 28, 28, 38, 42, 51, 71, 69, 82, 127, 117, 121, 68, 57, 58, 9, 2, 4, 8, 5, 8, 11, 8, 11, 6, 3, 6, 14, 11, 21, 37, 35, 45, 31, 30, 35, 50, 48, 45, 75, 77, 77, 81, 90, 93, 70, 81, 84, 57, 63, 70, 48, 58, 85, 81, 74, 86, 65, 82, 73, 73, 87, 82, 84, 94, 89, 99, 107, 108, 110, 130, 131, 67, 91, 89, 72, 97, 99, 68, 95, 98, 22, 30, 32, 34, 39, 37, 40, 49, 44, 40, 52, 51, 38, 42, 46, 12, 14, 16, 25, 26, 37, 55, 50, 66, 63, 53, 59, 64, 53, 55, 23, 15, 18, 7, 3, 6, 7, 4, 6, 9, 5, 8, 12, 8, 16, 28, 26, 35, 21, 20, 26, 9, 8, 10, 35, 35, 35, 59, 68, 70, 52, 76, 85, 56, 73, 89, 47, 56, 87, 83, 77, 93, 78, 84, 76, 79, 90, 81, 77, 79, 73, 138, 137, 134, 144, 147, 143, 81, 86, 80, 78, 98, 91, 71, 94, 89, 51, 47, 46, 53, 48, 42, 63, 64, 55, 54, 60, 53, 26, 25, 27, 12, 8, 10, 29, 24, 36, 48, 40, 58, 59, 50, 58, 111, 101, 105, 91, 84, 88, 20, 15, 18, 9, 4, 8, 20, 14, 19, 16, 11, 18, 20, 17, 25, 27, 25, 32, 45, 36, 39, 100, 88, 81, 94, 93, 88, 54, 76, 85, 74, 86, 97, 112, 104, 119, 133, 112, 114, 130, 116, 114, 129, 122, 117, 116, 102, 99, 171, 156, 151, 168, 148, 139, 119, 102, 91, 101, 103, 89, 100, 103, 94, 119, 103, 100, 136, 118, 112, 135, 124, 114, 107, 100, 93, 64, 52, 52, 36, 22, 23, 40, 27, 39, 37, 28, 44, 42, 34, 42, 132, 122, 128, 155, 148, 153, 45, 39, 43, 13, 6, 11, 19, 12, 18, 19, 13, 19, 17, 13, 20, 40, 35, 43, 96, 76, 76, 125, 100, 88, 106, 93, 81, 77, 85, 89, 94, 101, 109, 165, 154, 160, 178, 158, 154, 169, 142, 146, 180, 154, 154, 174, 148, 150, 188, 163, 160, 206, 171, 165, 188, 158, 148, 156, 139, 129, 155, 132, 129, 169, 141, 141, 198, 169, 163, 205, 178, 170, 189, 165, 161, 168, 141, 140, 145, 119, 117, 112, 92, 101, 41, 31, 42, 31, 25, 32, 108, 100, 108, 177, 169, 175, 67, 59, 64, 13, 5, 10, 19, 10, 17, 16, 10, 13, 15, 10, 17, 52, 44, 53, 138, 111, 111, 131, 104, 94, 100, 82, 73, 98, 90, 93, 113, 116, 128, 151, 142, 155, 165, 153, 160, 182, 152, 159, 202, 168, 172, 205, 177, 182, 204, 176, 179, 208, 169, 170, 194, 162, 159, 190, 162, 161, 199, 160, 166, 195, 160, 162, 205, 168, 166, 204, 166, 163, 207, 171, 170, 215, 177, 176, 227, 191, 188, 187, 161, 167, 52, 42, 50, 33, 28, 35, 69, 61, 71, 161, 153, 161, 85, 76, 81, 18, 9, 15, 22, 13, 21, 12, 5, 9, 8, 4, 9, 59, 50, 61, 170, 143, 148, 187, 163, 161, 179, 162, 161, 171, 153, 159, 160, 148, 160, 180, 155, 167, 184, 160, 170, 188, 160, 167, 204, 173, 180, 205, 175, 184, 194, 163, 170, 193, 157, 162, 198, 163, 168, 207, 172, 177, 214, 175, 182, 210, 177, 180, 207, 174, 175, 204, 168, 170, 205, 165, 169, 210, 170, 171, 220, 178, 181, 195, 162, 170, 69, 57, 69, 43, 37, 50, 44, 34, 47, 110, 101, 112, 86, 76, 85, 28, 20, 28, 37, 32, 38, 18, 12, 18, 8, 3, 10, 63, 55, 64, 188, 160, 166, 204, 176, 177, 210, 185, 186, 213, 187, 194, 203, 179, 192, 197, 171, 183, 205, 178, 189, 195, 163, 170, 202, 170, 178, 198, 166, 174, 190, 160, 166, 198, 169, 173, 212, 181, 186, 212, 180, 185, 201, 168, 173, 192, 160, 164, 193, 162, 165, 195, 162, 166, 200, 162, 167, 211, 172, 176, 217, 175, 181, 201, 166, 177, 121, 107, 122, 94, 88, 104, 40, 32, 47, 69, 61, 74, 64, 56, 68, 42, 34, 44, 61, 55, 63, 13, 11, 17, 7, 1, 7, 76, 61, 69, 201, 172, 173, 204, 174, 171, 208, 181, 179, 217, 192, 196, 211, 188, 196, 199, 178, 186, 195, 174, 183, 197, 161, 169, 191, 158, 165, 192, 159, 165, 192, 164, 169, 194, 169, 173, 200, 173, 178, 200, 172, 177, 194, 163, 168, 193, 160, 165, 199, 169, 174, 199, 167, 172, 201, 165, 171, 212, 175, 181, 219, 179, 186, 208, 175, 186, 154, 138, 154, 143, 136, 153, 60, 54, 69, 62, 56, 69, 66, 60, 71, 85, 76, 88, 67, 58, 70, 2, 3, 10, 10, 2, 9, 114, 86, 93, 218, 182, 178, 200, 166, 159, 194, 164, 161, 204, 177, 178, 207, 183, 186, 201, 179, 184, 187, 168, 175, 178, 144, 154, 187, 155, 162, 203, 171, 177, 209, 178, 184, 203, 173, 180, 200, 168, 176, 198, 164, 173, 196, 161, 169, 201, 167, 174, 205, 176, 181, 216, 185, 191, 222, 188, 195, 223, 190, 196, 218, 183, 189, 197, 166, 176, 137, 119, 134, 129, 121, 137, 72, 66, 80, 72, 65, 77, 136, 130, 141, 174, 165, 176, 95, 86, 98, 48, 50, 59, 33, 23, 31, 155, 121, 127, 213, 168, 165, 193, 149, 146, 187, 148, 148, 185, 149, 151, 191, 156, 159, 189, 158, 162, 179, 153, 159, 170, 144, 157, 191, 164, 173, 207, 178, 185, 207, 177, 184, 205, 172, 181, 201, 166, 176, 197, 160, 171, 194, 157, 167, 194, 160, 167, 186, 156, 162, 204, 175, 180, 213, 182, 188, 213, 182, 187, 208, 178, 181, 194, 165, 172, 153, 133, 145, 164, 152, 165, 114, 105, 115, 98, 89, 98, 214, 207, 214, 203, 194, 201, 119, 112, 121, 107, 105, 116, 84, 71, 82, 179, 149, 156, 199, 156, 158, 193, 149, 154, 201, 158, 165, 183, 142, 147, 183, 140, 146, 191, 150, 158, 194, 160, 167, 168, 152, 166, 182, 163, 174, 196, 172, 181, 198, 171, 179, 194, 167, 174, 186, 157, 165, 180, 149, 157, 181, 147, 156, 184, 149, 157, 184, 155, 161, 200, 173, 178, 206, 176, 182, 200, 171, 173, 192, 165, 163, 180, 155, 156, 175, 154, 162, 212, 197, 207, 169, 157, 164, 131, 120, 126, 232, 222, 226, 178, 170, 172, 111, 106, 110, 89, 81, 94, 91, 78, 91, 161, 140, 148, 185, 155, 161, 185, 152, 162, 196, 162, 172, 194, 159, 164, 187, 148, 154, 199, 160, 167, 198, 163, 169, 161, 146, 159, 177, 158, 170, 190, 169, 178, 191, 168, 176, 187, 162, 170, 182, 155, 163, 168, 141, 149, 180, 152, 160, 191, 159, 167, 195, 165, 172, 199, 168, 175, 203, 170, 177, 203, 174, 174, 198, 170, 168, 192, 166, 165, 171, 148, 153, 154, 132, 139, 149, 129, 133, 145, 124, 128, 185, 164, 167, 137, 119, 121, 106, 91, 96, 107, 91, 100, 118, 101, 109, 155, 136, 139, 167, 142, 144, 172, 146, 151, 183, 155, 164, 193, 165, 172, 183, 152, 160, 185, 153, 160, 177, 147, 151], \"height\": 32, \"channels\": 3, \"width\": 32, \"type\": \"image\", \"id\": 140152567635088}, {\"format\": \"raw\", \"value\": [166, 195, 135, 171, 201, 140, 180, 212, 148, 181, 214, 148, 181, 214, 149, 183, 216, 152, 186, 218, 149, 185, 216, 144, 188, 218, 148, 195, 224, 155, 194, 222, 150, 198, 219, 157, 199, 222, 160, 192, 222, 152, 195, 214, 154, 193, 209, 157, 187, 210, 155, 193, 216, 159, 204, 222, 167, 212, 219, 170, 220, 219, 177, 236, 234, 189, 243, 244, 189, 233, 236, 182, 220, 223, 178, 224, 227, 186, 228, 228, 179, 232, 232, 177, 238, 239, 183, 232, 236, 178, 222, 228, 169, 222, 226, 168, 153, 183, 125, 164, 194, 134, 177, 207, 146, 181, 212, 149, 184, 214, 151, 187, 216, 152, 187, 215, 147, 183, 211, 139, 188, 214, 144, 196, 221, 153, 195, 221, 151, 202, 221, 161, 201, 223, 161, 191, 218, 151, 193, 205, 151, 190, 197, 150, 192, 208, 153, 190, 209, 151, 200, 217, 161, 207, 218, 171, 212, 216, 173, 229, 229, 178, 237, 235, 188, 223, 221, 179, 217, 216, 175, 217, 218, 172, 219, 219, 169, 224, 223, 172, 231, 232, 181, 228, 231, 180, 218, 223, 171, 214, 219, 165, 134, 165, 111, 148, 177, 122, 163, 192, 135, 171, 199, 141, 173, 200, 142, 173, 199, 138, 171, 196, 130, 167, 190, 122, 177, 199, 133, 192, 213, 149, 194, 218, 151, 199, 217, 159, 197, 218, 158, 191, 213, 150, 180, 182, 139, 164, 157, 126, 183, 186, 145, 186, 197, 143, 189, 204, 144, 197, 210, 153, 202, 210, 156, 215, 214, 163, 201, 193, 161, 179, 170, 144, 203, 199, 159, 204, 205, 154, 202, 205, 155, 206, 208, 161, 212, 216, 169, 211, 217, 171, 203, 210, 165, 201, 210, 162, 121, 156, 104, 131, 164, 111, 149, 180, 126, 157, 186, 132, 154, 181, 127, 146, 170, 115, 141, 164, 104, 140, 161, 98, 157, 176, 115, 181, 201, 141, 189, 212, 149, 193, 210, 155, 196, 216, 158, 198, 215, 157, 180, 172, 138, 161, 140, 129, 163, 153, 135, 183, 183, 143, 189, 197, 140, 193, 202, 142, 198, 203, 147, 187, 178, 140, 169, 151, 139, 176, 160, 144, 193, 188, 144, 188, 194, 138, 188, 196, 144, 190, 199, 151, 190, 200, 154, 189, 200, 156, 181, 193, 151, 182, 196, 154, 111, 152, 101, 119, 158, 106, 139, 174, 123, 146, 179, 127, 140, 168, 118, 127, 151, 102, 119, 142, 88, 122, 144, 86, 143, 162, 107, 167, 187, 132, 180, 200, 142, 189, 205, 152, 198, 216, 161, 205, 218, 164, 194, 177, 152, 194, 162, 168, 165, 142, 148, 154, 143, 124, 161, 158, 122, 162, 158, 124, 162, 154, 125, 143, 122, 109, 183, 154, 163, 203, 181, 171, 182, 178, 128, 170, 181, 123, 171, 188, 135, 173, 189, 137, 167, 184, 135, 163, 181, 136, 156, 175, 132, 156, 178, 137, 99, 145, 95, 115, 157, 107, 136, 174, 123, 142, 177, 126, 139, 170, 122, 132, 159, 114, 125, 151, 102, 129, 155, 102, 144, 167, 117, 159, 183, 133, 172, 194, 139, 188, 204, 153, 198, 215, 162, 205, 215, 165, 201, 180, 161, 204, 166, 181, 184, 153, 173, 121, 99, 102, 89, 73, 69, 87, 69, 75, 105, 83, 96, 144, 113, 125, 210, 173, 197, 212, 186, 178, 173, 172, 116, 155, 172, 113, 153, 175, 122, 154, 177, 122, 147, 171, 119, 144, 169, 121, 141, 167, 123, 141, 169, 127, 92, 134, 84, 115, 155, 101, 135, 173, 119, 139, 176, 125, 140, 176, 129, 142, 177, 132, 134, 171, 122, 115, 155, 105, 117, 159, 112, 126, 173, 126, 127, 170, 121, 163, 181, 140, 189, 203, 156, 186, 205, 157, 181, 175, 156, 179, 147, 164, 183, 149, 177, 130, 100, 123, 79, 53, 77, 70, 46, 77, 97, 75, 106, 147, 123, 143, 202, 170, 192, 206, 187, 178, 171, 176, 124, 157, 172, 113, 147, 168, 115, 142, 168, 115, 134, 162, 112, 130, 161, 115, 128, 162, 119, 126, 160, 117, 91, 128, 79, 118, 153, 99, 137, 173, 116, 140, 178, 123, 139, 178, 125, 144, 183, 130, 136, 175, 121, 111, 150, 99, 107, 147, 100, 82, 129, 84, 63, 116, 70, 123, 148, 110, 164, 183, 137, 160, 192, 139, 155, 163, 138, 148, 125, 135, 162, 132, 155, 126, 99, 124, 83, 62, 89, 70, 53, 83, 106, 94, 119, 147, 134, 149, 168, 146, 159, 189, 179, 165, 178, 191, 140, 168, 186, 124, 159, 180, 124, 146, 172, 121, 134, 162, 114, 126, 157, 112, 119, 154, 112, 114, 148, 105, 97, 131, 86, 128, 160, 108, 140, 172, 115, 142, 180, 119, 143, 180, 118, 150, 181, 119, 151, 179, 122, 157, 181, 130, 155, 173, 128, 118, 140, 95, 97, 140, 91, 135, 168, 123, 148, 181, 127, 146, 184, 125, 143, 150, 121, 132, 110, 111, 148, 125, 134, 131, 113, 125, 114, 101, 117, 93, 85, 105, 112, 107, 124, 171, 160, 168, 176, 157, 161, 180, 176, 153, 185, 205, 147, 177, 201, 136, 173, 197, 140, 156, 183, 130, 139, 165, 116, 129, 156, 110, 127, 155, 111, 120, 147, 106, 103, 131, 94, 129, 153, 108, 125, 152, 98, 141, 175, 112, 155, 185, 121, 159, 178, 122, 151, 172, 124, 157, 178, 137, 171, 188, 147, 158, 177, 132, 131, 169, 116, 140, 179, 128, 142, 185, 127, 140, 179, 120, 152, 157, 127, 165, 140, 136, 175, 149, 150, 168, 150, 153, 163, 149, 158, 156, 145, 159, 163, 151, 165, 188, 170, 174, 192, 170, 169, 184, 181, 151, 182, 204, 142, 176, 201, 136, 172, 197, 141, 155, 182, 130, 136, 161, 112, 130, 154, 106, 138, 161, 115, 135, 158, 116, 105, 128, 99, 120, 136, 102, 107, 126, 80, 132, 163, 103, 158, 184, 126, 159, 173, 132, 109, 131, 100, 85, 114, 86, 136, 168, 132, 147, 180, 132, 142, 180, 123, 143, 182, 129, 143, 183, 130, 143, 171, 123, 141, 140, 119, 145, 118, 117, 175, 144, 145, 179, 155, 158, 173, 153, 160, 175, 152, 166, 176, 151, 164, 186, 160, 165, 186, 160, 159, 163, 161, 130, 168, 191, 131, 164, 190, 131, 154, 179, 128, 141, 168, 119, 131, 156, 108, 131, 155, 109, 137, 161, 115, 136, 159, 117, 92, 112, 88, 113, 122, 97, 110, 122, 86, 128, 154, 102, 142, 169, 120, 129, 152, 120, 73, 104, 83, 43, 82, 61, 99, 138, 103, 132, 169, 116, 145, 180, 120, 147, 180, 130, 142, 167, 127, 134, 142, 114, 117, 106, 103, 125, 99, 108, 167, 138, 144, 177, 155, 160, 187, 164, 173, 153, 122, 136, 143, 108, 123, 166, 140, 148, 164, 145, 144, 154, 161, 131, 148, 183, 126, 144, 178, 127, 134, 161, 118, 131, 156, 113, 132, 157, 114, 134, 161, 117, 129, 158, 113, 123, 151, 109, 71, 86, 67, 101, 106, 88, 109, 117, 91, 119, 141, 99, 107, 141, 94, 76, 115, 82, 57, 100, 78, 62, 102, 83, 121, 152, 114, 151, 174, 117, 154, 181, 121, 153, 177, 134, 130, 136, 110, 128, 115, 106, 123, 104, 118, 131, 109, 129, 172, 153, 164, 191, 178, 186, 202, 187, 196, 161, 132, 145, 137, 104, 118, 184, 168, 177, 171, 167, 164, 149, 173, 141, 122, 173, 117, 117, 166, 120, 120, 152, 116, 129, 153, 115, 136, 163, 123, 131, 162, 120, 118, 153, 109, 113, 147, 104, 56, 62, 48, 72, 78, 62, 82, 90, 69, 85, 105, 74, 70, 105, 64, 51, 97, 60, 55, 100, 77, 66, 98, 76, 119, 135, 96, 144, 153, 102, 156, 166, 122, 143, 144, 117, 128, 110, 100, 143, 115, 122, 131, 104, 130, 144, 126, 152, 193, 185, 199, 209, 209, 220, 207, 207, 218, 204, 196, 212, 190, 177, 196, 208, 207, 215, 168, 180, 165, 131, 166, 119, 109, 164, 103, 98, 156, 111, 107, 153, 117, 117, 154, 115, 124, 159, 120, 119, 156, 114, 103, 146, 101, 105, 147, 102, 45, 49, 36, 43, 53, 36, 64, 70, 50, 70, 81, 57, 64, 88, 56, 53, 89, 58, 62, 98, 76, 75, 93, 68, 107, 107, 72, 128, 121, 86, 129, 115, 96, 108, 82, 74, 139, 103, 106, 148, 114, 128, 121, 96, 121, 134, 117, 142, 210, 201, 218, 225, 227, 239, 211, 219, 231, 210, 218, 235, 213, 217, 238, 205, 211, 214, 160, 177, 146, 132, 167, 105, 109, 160, 91, 94, 153, 100, 99, 156, 109, 98, 147, 99, 98, 140, 93, 108, 147, 101, 96, 142, 93, 95, 139, 93, 33, 41, 30, 40, 51, 34, 70, 69, 51, 105, 103, 79, 82, 92, 66, 51, 74, 51, 76, 98, 77, 112, 116, 89, 128, 113, 87, 133, 110, 96, 110, 76, 76, 107, 67, 72, 156, 115, 124, 140, 109, 122, 110, 92, 110, 115, 96, 117, 152, 132, 150, 210, 201, 212, 220, 220, 226, 203, 207, 215, 224, 226, 234, 215, 217, 205, 161, 175, 137, 143, 175, 113, 114, 162, 91, 103, 159, 93, 101, 155, 94, 103, 148, 91, 96, 135, 82, 107, 143, 93, 104, 141, 92, 94, 131, 88, 40, 45, 38, 48, 59, 43, 93, 94, 74, 150, 149, 123, 87, 94, 71, 53, 71, 55, 83, 99, 77, 105, 102, 72, 127, 104, 87, 140, 111, 116, 113, 74, 89, 110, 68, 81, 140, 102, 112, 143, 111, 122, 111, 86, 100, 116, 87, 105, 93, 61, 79, 128, 106, 114, 185, 173, 172, 226, 222, 219, 244, 241, 235, 212, 208, 188, 152, 161, 128, 138, 165, 118, 110, 152, 92, 105, 155, 89, 108, 153, 92, 114, 152, 98, 114, 150, 100, 117, 149, 105, 107, 135, 96, 81, 111, 79, 46, 47, 46, 49, 64, 51, 104, 115, 96, 116, 127, 100, 83, 100, 76, 85, 107, 90, 88, 106, 83, 81, 78, 51, 121, 99, 91, 125, 100, 117, 106, 77, 97, 112, 81, 95, 133, 102, 110, 164, 129, 137, 139, 98, 111, 130, 88, 107, 117, 81, 97, 113, 84, 90, 175, 154, 152, 237, 225, 219, 236, 227, 219, 183, 178, 164, 122, 129, 110, 101, 124, 98, 85, 120, 81, 76, 116, 67, 87, 118, 75, 101, 130, 93, 106, 140, 106, 109, 143, 113, 83, 110, 86, 56, 83, 64, 37, 49, 49, 51, 78, 67, 76, 97, 81, 60, 76, 56, 80, 101, 78, 107, 132, 112, 96, 113, 95, 90, 85, 69, 123, 101, 102, 111, 88, 110, 91, 67, 86, 110, 88, 97, 137, 115, 117, 182, 150, 153, 174, 129, 137, 121, 78, 93, 122, 89, 104, 145, 114, 121, 193, 167, 168, 240, 221, 219, 215, 203, 200, 139, 135, 132, 78, 87, 80, 57, 81, 66, 65, 95, 72, 63, 91, 62, 73, 93, 69, 74, 97, 76, 71, 107, 84, 82, 123, 101, 56, 90, 72, 44, 75, 61, 35, 71, 64, 44, 86, 75, 40, 65, 55, 46, 56, 48, 84, 97, 80, 120, 142, 119, 107, 117, 107, 111, 95, 93, 133, 104, 115, 112, 84, 109, 95, 64, 83, 127, 102, 108, 152, 134, 131, 173, 151, 146, 170, 136, 136, 109, 78, 88, 85, 60, 73, 126, 98, 107, 160, 133, 138, 207, 184, 189, 175, 160, 166, 106, 106, 110, 52, 68, 61, 40, 67, 50, 53, 81, 61, 56, 77, 59, 62, 73, 61, 59, 79, 64, 40, 81, 60, 61, 111, 87, 44, 89, 66, 35, 73, 55, 34, 81, 67, 29, 74, 64, 24, 53, 47, 34, 49, 42, 75, 92, 75, 129, 148, 128, 105, 106, 101, 111, 88, 94, 140, 106, 125, 107, 74, 103, 112, 74, 93, 157, 123, 130, 164, 146, 142, 145, 141, 129, 146, 140, 128, 141, 123, 124, 110, 85, 95, 104, 77, 83, 124, 97, 103, 171, 149, 158, 171, 156, 167, 110, 112, 117, 51, 74, 65, 37, 70, 50, 47, 76, 54, 56, 78, 61, 53, 64, 53, 48, 65, 52, 29, 67, 46, 42, 92, 67, 40, 82, 60, 34, 64, 50, 32, 73, 58, 25, 63, 56, 27, 60, 53, 25, 55, 40, 72, 102, 79, 115, 143, 118, 91, 105, 88, 102, 97, 92, 132, 110, 122, 104, 73, 96, 116, 86, 98, 158, 130, 134, 181, 168, 164, 129, 136, 122, 117, 130, 112, 159, 149, 145, 170, 141, 147, 146, 118, 121, 145, 120, 124, 191, 172, 181, 194, 180, 194, 118, 120, 127, 67, 95, 87, 51, 88, 69, 50, 77, 58, 68, 90, 75, 64, 78, 68, 73, 87, 76, 56, 86, 68, 41, 83, 63, 45, 76, 62, 41, 58, 55, 35, 69, 59, 27, 59, 54, 44, 77, 67, 54, 88, 68, 76, 113, 81, 81, 124, 84, 84, 131, 91, 93, 130, 99, 110, 115, 105, 96, 74, 80, 102, 92, 88, 114, 120, 109, 139, 144, 135, 141, 138, 133, 115, 118, 112, 146, 138, 139, 169, 142, 150, 174, 148, 154, 178, 155, 161, 207, 191, 198, 190, 181, 191, 110, 115, 122, 89, 117, 111, 74, 107, 93, 59, 79, 67, 82, 96, 87, 101, 114, 109, 133, 147, 141, 94, 121, 109, 43, 83, 68, 43, 74, 66, 48, 66, 67, 37, 63, 60, 41, 69, 65, 63, 94, 82, 71, 105, 81, 70, 106, 70, 64, 107, 63, 91, 144, 98, 108, 156, 117, 87, 110, 86, 86, 86, 73, 90, 106, 84, 79, 124, 95, 91, 118, 102, 141, 127, 132, 117, 107, 116, 114, 109, 117, 145, 127, 138, 175, 153, 162, 200, 180, 188, 212, 199, 205, 166, 161, 167, 68, 79, 85, 72, 101, 96, 57, 85, 75, 33, 45, 39, 58, 64, 63, 77, 89, 89, 93, 110, 108, 100, 125, 119, 82, 122, 111, 72, 107, 103, 61, 86, 89, 32, 51, 53, 41, 65, 61, 63, 93, 78, 62, 98, 70, 54, 89, 56, 60, 88, 57, 98, 119, 93, 119, 136, 115, 71, 92, 71, 76, 100, 78, 81, 118, 86, 73, 139, 99, 70, 113, 90, 94, 85, 89, 100, 90, 103, 98, 103, 112, 125, 122, 130, 163, 149, 160, 178, 161, 172, 197, 186, 193, 156, 153, 158, 52, 67, 70, 78, 109, 103, 62, 90, 81, 49, 61, 58, 48, 57, 58, 8, 24, 25, 49, 67, 68, 112, 136, 133, 79, 118, 111, 61, 101, 99, 51, 87, 89, 35, 52, 54, 37, 62, 55, 59, 92, 74, 53, 92, 64, 46, 86, 57, 59, 86, 66, 102, 106, 98, 109, 102, 100, 87, 97, 86, 65, 94, 73, 70, 107, 75, 74, 131, 94, 66, 113, 87, 83, 97, 89, 90, 100, 99, 77, 98, 96, 111, 125, 127, 165, 161, 172, 164, 148, 164, 188, 174, 187, 175, 171, 178, 76, 93, 92, 85, 119, 109, 48, 82, 69, 43, 66, 58, 51, 76, 72, 53, 82, 80, 102, 125, 125, 121, 145, 142, 74, 113, 107, 35, 81, 78, 39, 83, 81, 38, 56, 57, 43, 69, 60, 62, 99, 80, 75, 119, 93, 63, 116, 87, 42, 97, 71, 67, 100, 85, 79, 93, 86, 88, 96, 86, 79, 90, 72, 82, 104, 78, 81, 115, 86, 56, 98, 70, 69, 112, 87, 76, 113, 93, 75, 113, 97, 83, 113, 107, 139, 143, 152, 143, 127, 147, 150, 132, 152, 127, 120, 131, 77, 94, 89, 68, 106, 90, 47, 89, 70, 38, 76, 61, 32, 77, 65, 53, 95, 87, 95, 120, 119, 79, 102, 99, 69, 108, 101, 48, 101, 94, 41, 89, 84, 40, 64, 58, 44, 79, 61, 54, 97, 72, 69, 117, 93, 46, 110, 80, 25, 101, 68, 39, 102, 77, 50, 93, 75, 79, 95, 81, 99, 98, 83, 94, 105, 87, 88, 106, 88, 56, 88, 67, 64, 119, 90, 75, 127, 95, 77, 126, 100, 78, 111, 102, 112, 114, 126, 106, 86, 108, 112, 90, 110, 113, 104, 116, 61, 77, 72, 57, 92, 78, 50, 94, 76, 41, 89, 71, 33, 83, 68, 44, 85, 76, 91, 116, 113, 67, 90, 88, 51, 92, 86, 47, 99, 93, 30, 76, 72, 36, 67, 55, 50, 98, 67, 58, 107, 75, 43, 94, 71, 30, 95, 69, 27, 102, 71, 37, 102, 79, 34, 82, 65, 63, 91, 74, 104, 115, 99, 91, 108, 94, 82, 100, 91, 73, 94, 87, 64, 111, 89, 66, 119, 87, 58, 112, 81, 74, 98, 94, 123, 113, 134, 116, 87, 111, 148, 123, 139, 141, 134, 143, 69, 85, 81, 56, 81, 74, 53, 91, 80, 47, 94, 82, 53, 90, 81, 67, 94, 88, 94, 115, 114, 56, 80, 82, 38, 79, 78, 45, 91, 89, 34, 78, 76, 39, 66, 58, 52, 97, 69, 51, 96, 68, 37, 83, 64, 31, 90, 69, 31, 99, 72, 34, 96, 74, 33, 84, 66, 52, 89, 71, 94, 119, 100, 80, 107, 91, 52, 77, 68, 68, 90, 86, 63, 103, 88, 61, 110, 82, 52, 107, 78, 69, 96, 93, 127, 118, 141, 132, 102, 128, 148, 122, 140, 132, 124, 135, 90, 103, 99, 72, 85, 80, 72, 95, 88, 64, 100, 90, 59, 90, 82, 68, 89, 85, 85, 100, 102, 39, 61, 66, 23, 64, 65, 37, 83, 81, 52, 98, 94, 47, 62, 65, 40, 74, 58, 22, 57, 37, 21, 58, 44, 30, 82, 66, 33, 94, 70, 33, 95, 72, 36, 93, 71, 45, 92, 70, 60, 97, 76, 60, 99, 78, 38, 72, 59, 61, 88, 83, 77, 113, 103, 66, 110, 89, 55, 110, 85, 64, 102, 98, 96, 95, 116, 101, 76, 101, 123, 97, 119, 131, 120, 136, 95, 103, 98, 94, 95, 88, 92, 97, 90, 81, 104, 94, 68, 94, 86, 79, 96, 95, 94, 106, 111, 44, 66, 72, 17, 61, 61, 26, 74, 70, 49, 96, 89, 24, 29, 40, 30, 55, 48, 27, 55, 42, 26, 58, 47, 28, 71, 58, 32, 85, 65, 36, 97, 73, 33, 95, 69, 37, 91, 67, 41, 87, 64, 47, 93, 69, 37, 75, 61, 50, 79, 75, 88, 117, 114, 73, 112, 98, 49, 103, 82, 52, 97, 91, 61, 67, 85, 58, 37, 60, 90, 66, 89, 119, 106, 126, 99, 99, 95, 118, 107, 99, 101, 92, 84, 80, 90, 82, 70, 89, 85, 83, 96, 98, 82, 91, 98, 47, 70, 76, 22, 65, 64, 21, 66, 62, 44, 86, 78], \"height\": 32, \"channels\": 3, \"width\": 32, \"type\": \"image\", \"id\": 140152567634320}, {\"format\": \"raw\", \"value\": [18, 19, 14, 13, 14, 9, 7, 8, 3, 16, 14, 10, 35, 31, 28, 40, 36, 33, 38, 34, 31, 54, 50, 47, 85, 81, 78, 110, 106, 103, 130, 126, 122, 129, 125, 122, 104, 101, 98, 113, 110, 107, 120, 117, 114, 116, 113, 110, 103, 98, 93, 104, 98, 93, 114, 108, 103, 104, 98, 93, 91, 89, 84, 132, 134, 119, 197, 202, 173, 207, 211, 182, 205, 210, 182, 206, 211, 181, 206, 211, 180, 206, 211, 180, 206, 211, 180, 206, 211, 180, 206, 211, 180, 206, 211, 180, 12, 13, 9, 9, 10, 5, 10, 11, 6, 18, 16, 12, 40, 36, 33, 41, 37, 34, 41, 37, 34, 53, 49, 46, 86, 82, 79, 126, 122, 119, 129, 125, 122, 95, 90, 87, 85, 77, 71, 117, 109, 103, 120, 112, 105, 116, 108, 102, 93, 89, 85, 93, 89, 87, 95, 91, 88, 94, 91, 88, 98, 96, 98, 82, 83, 79, 127, 130, 112, 198, 203, 173, 206, 211, 178, 203, 208, 178, 204, 209, 179, 204, 209, 179, 204, 209, 179, 204, 209, 179, 204, 209, 179, 204, 209, 179, 41, 42, 37, 23, 24, 19, 44, 45, 40, 27, 25, 22, 34, 30, 27, 39, 35, 32, 40, 36, 33, 47, 43, 40, 97, 93, 90, 132, 128, 125, 90, 86, 83, 48, 44, 40, 48, 42, 37, 105, 98, 93, 123, 116, 111, 103, 97, 92, 86, 84, 82, 90, 89, 88, 88, 88, 87, 88, 87, 86, 89, 88, 90, 59, 59, 60, 51, 52, 46, 150, 154, 133, 208, 213, 182, 203, 208, 178, 204, 209, 179, 204, 209, 179, 204, 209, 179, 204, 209, 179, 204, 209, 179, 204, 209, 179, 76, 77, 72, 54, 55, 50, 54, 55, 50, 36, 34, 30, 54, 50, 47, 73, 68, 65, 39, 35, 32, 49, 45, 42, 113, 109, 106, 111, 107, 104, 59, 54, 51, 42, 39, 36, 50, 49, 49, 103, 102, 102, 104, 103, 102, 80, 80, 79, 76, 76, 76, 72, 73, 74, 84, 84, 85, 72, 72, 73, 46, 47, 42, 34, 35, 33, 30, 30, 32, 87, 88, 79, 193, 196, 173, 206, 210, 181, 204, 209, 179, 204, 209, 179, 204, 209, 179, 204, 209, 179, 204, 209, 179, 204, 209, 179, 81, 79, 74, 69, 68, 63, 40, 39, 34, 24, 22, 18, 81, 75, 72, 146, 135, 133, 108, 99, 96, 87, 84, 78, 119, 117, 111, 90, 87, 82, 57, 51, 50, 72, 67, 67, 80, 80, 83, 96, 96, 100, 77, 77, 81, 69, 69, 72, 65, 65, 66, 59, 60, 60, 58, 60, 61, 45, 48, 51, 31, 35, 31, 26, 29, 25, 28, 29, 30, 44, 46, 43, 155, 157, 141, 213, 213, 185, 206, 208, 179, 205, 210, 180, 204, 210, 179, 204, 209, 178, 205, 210, 178, 204, 209, 178, 69, 66, 61, 58, 55, 50, 31, 28, 23, 19, 17, 13, 67, 59, 57, 166, 150, 148, 168, 155, 150, 127, 121, 112, 98, 94, 85, 65, 60, 54, 85, 78, 76, 115, 108, 109, 92, 91, 96, 86, 85, 90, 63, 62, 67, 60, 59, 64, 53, 53, 53, 50, 50, 49, 56, 57, 58, 37, 39, 40, 42, 42, 40, 34, 33, 30, 51, 50, 47, 62, 61, 59, 112, 109, 98, 197, 194, 170, 199, 199, 174, 196, 200, 174, 192, 197, 169, 189, 194, 164, 187, 192, 162, 186, 191, 160, 55, 52, 47, 38, 35, 30, 31, 28, 23, 17, 17, 15, 40, 34, 34, 145, 129, 128, 180, 166, 159, 162, 152, 142, 116, 107, 97, 73, 65, 58, 108, 100, 97, 120, 115, 114, 80, 79, 83, 71, 70, 75, 64, 63, 68, 63, 62, 67, 52, 52, 54, 54, 54, 53, 51, 49, 47, 32, 29, 26, 61, 54, 51, 90, 80, 78, 109, 99, 97, 94, 84, 83, 84, 75, 67, 146, 142, 123, 168, 167, 147, 159, 162, 141, 153, 157, 135, 149, 153, 129, 145, 149, 125, 143, 147, 122, 32, 29, 24, 30, 27, 22, 31, 28, 24, 18, 21, 21, 41, 38, 41, 141, 125, 124, 172, 154, 145, 182, 166, 154, 155, 139, 129, 107, 95, 87, 77, 69, 62, 75, 71, 67, 76, 75, 79, 75, 74, 79, 74, 73, 78, 76, 75, 80, 69, 70, 73, 77, 76, 76, 76, 71, 66, 76, 67, 60, 108, 96, 91, 118, 106, 102, 121, 109, 105, 88, 75, 71, 76, 66, 58, 104, 99, 86, 123, 122, 107, 118, 120, 104, 115, 118, 101, 114, 117, 98, 112, 115, 95, 109, 112, 93, 37, 34, 29, 28, 25, 20, 32, 29, 24, 19, 23, 25, 52, 52, 56, 134, 118, 116, 180, 161, 149, 188, 169, 154, 149, 128, 117, 106, 91, 81, 72, 64, 55, 54, 53, 46, 73, 72, 76, 67, 66, 71, 61, 60, 65, 59, 59, 64, 56, 58, 61, 65, 64, 63, 95, 87, 80, 111, 96, 84, 111, 99, 89, 125, 118, 109, 123, 115, 106, 67, 59, 50, 66, 58, 49, 85, 79, 70, 101, 99, 89, 102, 103, 92, 102, 104, 92, 102, 105, 91, 100, 103, 89, 101, 103, 89, 65, 62, 57, 39, 38, 34, 26, 25, 22, 33, 39, 41, 60, 62, 65, 117, 105, 103, 170, 150, 142, 139, 116, 105, 136, 114, 103, 105, 90, 80, 62, 56, 45, 49, 48, 40, 73, 71, 72, 55, 53, 55, 56, 55, 56, 63, 62, 63, 58, 58, 58, 74, 72, 69, 98, 90, 85, 96, 82, 74, 108, 96, 87, 124, 116, 107, 103, 95, 88, 43, 37, 30, 50, 44, 38, 67, 61, 54, 91, 88, 80, 104, 105, 96, 102, 105, 94, 102, 104, 91, 101, 103, 89, 101, 103, 90, 65, 64, 58, 59, 60, 57, 31, 34, 33, 64, 71, 73, 74, 77, 79, 91, 84, 83, 136, 118, 113, 151, 128, 120, 155, 133, 123, 114, 100, 90, 81, 74, 64, 46, 45, 36, 74, 70, 67, 57, 53, 50, 59, 55, 52, 51, 47, 44, 53, 52, 47, 63, 60, 55, 59, 52, 48, 80, 69, 67, 105, 91, 86, 123, 109, 103, 80, 69, 66, 24, 16, 16, 36, 30, 26, 56, 51, 42, 82, 79, 70, 105, 106, 96, 102, 105, 93, 101, 103, 89, 101, 103, 89, 100, 102, 88, 54, 53, 47, 57, 58, 56, 42, 46, 45, 48, 54, 56, 39, 42, 44, 51, 46, 44, 104, 92, 86, 130, 112, 103, 133, 115, 104, 117, 103, 94, 103, 94, 85, 83, 78, 71, 83, 79, 76, 57, 53, 50, 63, 59, 56, 47, 43, 40, 54, 52, 48, 50, 47, 42, 62, 54, 51, 82, 71, 69, 86, 75, 69, 103, 92, 85, 65, 57, 53, 18, 13, 11, 33, 28, 24, 55, 48, 40, 68, 63, 55, 96, 95, 85, 103, 104, 92, 99, 101, 88, 100, 102, 88, 100, 102, 88, 56, 55, 49, 48, 49, 46, 37, 40, 40, 34, 39, 42, 43, 46, 48, 70, 68, 64, 106, 99, 91, 106, 94, 83, 125, 111, 99, 115, 102, 92, 92, 81, 73, 87, 79, 73, 89, 85, 82, 66, 62, 59, 79, 75, 72, 63, 59, 56, 70, 69, 64, 65, 62, 57, 78, 71, 68, 108, 97, 95, 88, 78, 72, 78, 70, 61, 44, 38, 33, 16, 13, 11, 34, 29, 25, 51, 41, 34, 69, 62, 54, 96, 92, 84, 103, 102, 91, 100, 102, 88, 100, 102, 88, 100, 102, 88, 54, 52, 47, 44, 44, 42, 27, 30, 29, 55, 58, 62, 91, 93, 95, 95, 95, 91, 114, 113, 103, 121, 116, 102, 126, 115, 101, 103, 90, 80, 100, 87, 79, 89, 77, 72, 59, 55, 52, 67, 63, 60, 75, 71, 68, 59, 55, 53, 69, 67, 63, 69, 66, 62, 67, 59, 56, 81, 71, 69, 87, 78, 71, 60, 55, 45, 24, 21, 15, 24, 24, 21, 35, 30, 26, 73, 60, 55, 115, 105, 98, 112, 106, 98, 103, 99, 89, 100, 102, 88, 100, 102, 88, 101, 102, 88, 75, 76, 68, 67, 69, 65, 51, 55, 52, 58, 62, 62, 60, 62, 63, 78, 79, 74, 131, 132, 121, 142, 140, 127, 137, 129, 117, 120, 108, 99, 129, 115, 107, 117, 104, 98, 64, 60, 56, 69, 65, 61, 83, 78, 74, 68, 65, 61, 62, 60, 55, 63, 59, 54, 77, 69, 64, 70, 59, 55, 70, 60, 54, 58, 55, 45, 22, 21, 17, 25, 26, 24, 42, 36, 30, 101, 87, 81, 118, 109, 102, 111, 105, 97, 102, 99, 89, 102, 102, 90, 100, 104, 91, 96, 104, 88, 133, 139, 123, 139, 145, 134, 142, 149, 132, 122, 128, 114, 54, 57, 49, 68, 70, 61, 122, 121, 112, 135, 132, 124, 139, 133, 127, 126, 117, 110, 131, 119, 110, 127, 116, 106, 99, 96, 87, 99, 90, 84, 94, 86, 79, 78, 76, 68, 76, 72, 67, 84, 78, 72, 97, 87, 79, 72, 59, 50, 70, 55, 48, 54, 49, 40, 17, 19, 21, 16, 15, 17, 47, 38, 27, 99, 86, 76, 109, 103, 95, 95, 95, 86, 102, 102, 92, 103, 92, 89, 102, 97, 94, 92, 106, 91, 178, 184, 174, 180, 187, 174, 181, 189, 164, 184, 192, 166, 138, 143, 124, 97, 99, 86, 98, 96, 90, 141, 137, 133, 146, 140, 136, 95, 87, 79, 117, 105, 96, 144, 134, 123, 111, 107, 97, 96, 85, 79, 92, 81, 74, 91, 87, 78, 93, 89, 84, 93, 86, 80, 96, 85, 77, 77, 64, 54, 85, 71, 59, 61, 52, 44, 15, 12, 11, 20, 17, 15, 60, 50, 45, 89, 75, 71, 118, 106, 100, 116, 108, 100, 109, 102, 97, 110, 81, 91, 123, 75, 94, 109, 93, 94, 189, 191, 202, 179, 182, 186, 196, 202, 190, 204, 213, 184, 190, 198, 168, 171, 174, 156, 144, 143, 134, 120, 116, 112, 117, 111, 106, 106, 98, 91, 122, 110, 102, 175, 163, 153, 116, 109, 101, 104, 90, 85, 96, 82, 77, 65, 59, 51, 84, 80, 75, 100, 93, 87, 88, 78, 69, 62, 48, 39, 86, 76, 59, 53, 45, 42, 10, 4, 3, 17, 16, 13, 51, 49, 57, 89, 81, 82, 118, 102, 96, 132, 115, 109, 125, 113, 112, 116, 76, 93, 137, 61, 94, 143, 101, 115, 182, 185, 193, 162, 165, 170, 159, 164, 157, 166, 175, 149, 174, 182, 151, 193, 197, 172, 173, 173, 155, 114, 112, 101, 98, 93, 88, 109, 101, 93, 133, 120, 111, 176, 164, 154, 136, 127, 119, 120, 103, 99, 84, 67, 63, 85, 76, 70, 96, 91, 86, 90, 83, 77, 78, 68, 59, 51, 37, 27, 60, 58, 40, 45, 44, 52, 15, 13, 15, 17, 23, 24, 41, 52, 75, 82, 89, 94, 95, 84, 75, 103, 86, 78, 120, 111, 110, 123, 95, 105, 137, 79, 101, 151, 122, 127, 187, 195, 171, 187, 194, 175, 178, 186, 160, 180, 188, 155, 197, 203, 174, 211, 213, 192, 202, 203, 176, 153, 151, 130, 119, 112, 108, 123, 114, 108, 127, 115, 105, 191, 178, 168, 160, 148, 141, 115, 97, 92, 67, 50, 45, 89, 79, 72, 68, 62, 58, 61, 54, 48, 70, 60, 51, 64, 51, 41, 42, 45, 26, 75, 81, 95, 77, 86, 92, 69, 87, 97, 68, 93, 130, 63, 82, 89, 67, 62, 51, 81, 67, 58, 109, 105, 103, 122, 111, 108, 114, 91, 93, 129, 127, 116, 205, 212, 179, 202, 208, 178, 203, 209, 178, 205, 210, 172, 210, 213, 181, 210, 211, 190, 212, 213, 187, 210, 208, 184, 180, 173, 170, 155, 146, 145, 142, 132, 116, 180, 164, 153, 152, 133, 125, 101, 83, 75, 79, 63, 56, 92, 80, 73, 74, 66, 61, 60, 53, 46, 63, 55, 45, 86, 79, 66, 96, 91, 68, 96, 107, 108, 83, 119, 152, 66, 114, 169, 71, 111, 163, 54, 71, 86, 53, 46, 42, 85, 72, 65, 108, 102, 100, 114, 104, 91, 118, 111, 96, 177, 181, 161, 216, 221, 191, 205, 210, 180, 194, 198, 169, 191, 197, 171, 198, 208, 176, 194, 210, 167, 178, 198, 153, 171, 186, 146, 208, 210, 192, 174, 167, 161, 154, 141, 122, 156, 136, 126, 127, 103, 97, 82, 60, 53, 94, 76, 68, 96, 81, 73, 94, 86, 77, 90, 85, 75, 89, 84, 71, 96, 92, 75, 110, 112, 94, 103, 129, 132, 88, 143, 180, 75, 142, 201, 96, 144, 187, 121, 134, 144, 72, 66, 61, 64, 53, 44, 95, 90, 82, 127, 119, 101, 184, 181, 160, 207, 211, 188, 213, 218, 187, 209, 214, 184, 200, 205, 175, 167, 179, 148, 159, 183, 131, 157, 191, 113, 152, 193, 111, 155, 189, 122, 203, 213, 183, 199, 190, 186, 192, 178, 164, 158, 141, 132, 105, 82, 79, 99, 77, 72, 95, 77, 68, 90, 76, 64, 100, 96, 82, 109, 108, 92, 129, 129, 108, 149, 149, 125, 167, 174, 153, 158, 181, 174, 151, 192, 199, 112, 161, 177, 108, 144, 154, 132, 143, 137, 124, 123, 108, 136, 131, 113, 161, 159, 142, 191, 190, 167, 210, 212, 187, 204, 210, 184, 203, 208, 178, 202, 207, 177, 201, 206, 176, 157, 174, 132, 142, 172, 100, 141, 175, 82, 151, 185, 102, 193, 220, 161, 205, 211, 196, 200, 185, 201, 226, 215, 213, 171, 166, 159, 107, 90, 90, 144, 130, 124, 104, 95, 81, 102, 98, 78, 132, 133, 112, 173, 177, 153, 201, 205, 177, 207, 212, 181, 210, 214, 180, 189, 196, 164, 182, 194, 168, 155, 170, 147, 143, 157, 136, 157, 165, 144, 181, 184, 160, 212, 212, 186, 217, 218, 190, 205, 210, 181, 204, 210, 181, 204, 211, 181, 206, 210, 180, 204, 209, 179, 206, 211, 182, 178, 199, 141, 150, 175, 120, 121, 134, 107, 124, 129, 102, 143, 146, 123, 144, 136, 155, 135, 112, 155, 190, 184, 194, 150, 161, 153, 103, 99, 96, 118, 115, 106, 133, 135, 116, 165, 170, 144, 193, 198, 171, 206, 211, 182, 204, 210, 179, 197, 204, 169, 191, 201, 164, 189, 196, 162, 195, 198, 169, 200, 203, 175, 208, 212, 183, 212, 219, 187, 211, 218, 188, 212, 216, 185, 206, 210, 176, 200, 210, 176, 202, 212, 181, 203, 212, 180, 191, 185, 157, 201, 205, 178, 208, 214, 191, 192, 198, 158, 157, 170, 141, 152, 161, 133, 145, 129, 131, 96, 61, 125, 85, 51, 138, 115, 89, 155, 192, 190, 192, 175, 189, 163, 148, 152, 132, 162, 165, 143, 197, 202, 176, 210, 216, 187, 206, 209, 179, 199, 207, 177, 197, 208, 187, 200, 206, 179, 197, 213, 173, 211, 213, 190, 222, 212, 205, 228, 225, 187, 219, 217, 181, 205, 210, 175, 206, 208, 183, 184, 186, 181, 168, 175, 164, 203, 211, 169, 203, 208, 190, 201, 212, 177, 169, 153, 128, 180, 184, 156, 199, 207, 180, 197, 197, 159, 184, 192, 169, 197, 208, 172, 190, 174, 170, 130, 86, 160, 113, 72, 162, 141, 115, 171, 196, 193, 183, 189, 195, 162, 178, 184, 153, 193, 198, 168, 204, 209, 179, 208, 212, 182, 211, 214, 181, 198, 209, 180, 179, 193, 181, 201, 211, 198, 210, 219, 193, 216, 207, 187, 208, 211, 165, 180, 200, 166, 184, 194, 170, 201, 204, 170, 203, 206, 178, 123, 131, 149, 118, 130, 172, 205, 210, 184, 203, 208, 175, 203, 211, 174, 162, 143, 117, 185, 188, 154, 200, 210, 174, 206, 209, 173, 206, 215, 188, 207, 216, 181, 194, 184, 172, 184, 154, 185, 162, 131, 171, 133, 112, 138, 137, 132, 115, 146, 148, 121, 169, 174, 145, 199, 204, 174, 208, 213, 183, 208, 213, 182, 205, 214, 177, 204, 218, 191, 185, 203, 186, 166, 184, 183, 139, 160, 204, 127, 139, 195, 134, 164, 185, 102, 145, 188, 151, 172, 190, 209, 210, 179, 197, 206, 170, 124, 142, 169, 71, 88, 180, 182, 187, 204, 204, 214, 160, 204, 207, 174, 156, 133, 99, 202, 203, 166, 201, 211, 174, 203, 207, 177, 200, 208, 178, 208, 214, 180, 197, 194, 173, 196, 185, 175, 188, 175, 173, 165, 156, 155, 175, 175, 149, 196, 199, 173, 208, 213, 184, 209, 214, 184, 207, 212, 183, 202, 207, 175, 197, 204, 167, 199, 207, 184, 198, 215, 184, 171, 193, 193, 63, 114, 189, 57, 114, 200, 56, 102, 214, 104, 149, 209, 184, 201, 204, 219, 220, 190, 214, 222, 187, 140, 156, 181, 38, 55, 153, 100, 111, 172, 191, 206, 185, 207, 212, 188, 190, 164, 119, 207, 207, 167, 203, 213, 182, 187, 192, 172, 192, 200, 168, 206, 211, 177, 206, 209, 179, 206, 212, 173, 210, 215, 188, 210, 214, 197, 208, 218, 184, 209, 218, 190, 211, 216, 187, 208, 213, 183, 212, 217, 188, 213, 218, 185, 209, 211, 177, 205, 202, 183, 204, 214, 166, 192, 214, 202, 114, 156, 203, 120, 166, 188, 96, 138, 187, 123, 158, 186, 166, 179, 153, 181, 184, 149, 190, 192, 166, 154, 160, 173, 79, 93, 156, 41, 62, 155, 129, 146, 194, 193, 205, 191, 196, 176, 127, 175, 171, 142, 150, 155, 132, 156, 162, 140, 187, 196, 163, 202, 208, 175, 205, 212, 180, 204, 214, 173, 201, 210, 175, 203, 212, 184, 201, 212, 177, 204, 212, 182, 213, 219, 187, 215, 220, 189, 214, 220, 188, 214, 220, 187, 217, 220, 190, 210, 207, 184, 202, 205, 162, 180, 194, 170, 164, 176, 186, 159, 169, 160, 138, 157, 145, 124, 141, 151, 131, 139, 119, 173, 178, 141, 194, 197, 172, 170, 173, 179, 126, 138, 183, 30, 59, 167, 57, 75, 176, 118, 131, 137, 172, 162, 116, 145, 138, 118, 166, 167, 144, 197, 204, 174, 201, 210, 179, 201, 210, 178, 201, 210, 179, 200, 209, 174, 203, 210, 172, 205, 210, 176, 198, 203, 172, 202, 207, 177, 209, 215, 181, 201, 207, 173, 191, 197, 163, 192, 199, 165, 201, 209, 181, 209, 212, 181, 200, 200, 167, 181, 186, 158, 189, 197, 174, 191, 198, 178, 197, 204, 183, 193, 200, 180, 197, 202, 177, 208, 212, 177, 203, 211, 179, 153, 161, 158, 103, 115, 147, 46, 71, 154, 51, 65, 160, 90, 101, 112], \"height\": 32, \"channels\": 3, \"width\": 32, \"type\": \"image\", \"id\": 140152567633104}, {\"format\": \"raw\", \"value\": [215, 201, 163, 212, 198, 165, 209, 199, 173, 167, 168, 140, 169, 166, 127, 170, 155, 127, 152, 134, 114, 162, 147, 124, 163, 148, 118, 150, 128, 99, 112, 100, 64, 114, 120, 53, 99, 97, 58, 61, 57, 35, 64, 70, 35, 105, 99, 63, 116, 115, 65, 103, 101, 63, 56, 39, 25, 59, 65, 22, 89, 114, 41, 99, 118, 36, 133, 153, 54, 107, 116, 41, 68, 52, 23, 72, 50, 28, 97, 62, 26, 103, 67, 33, 78, 58, 26, 81, 79, 34, 127, 118, 57, 154, 138, 80, 200, 188, 156, 170, 160, 137, 139, 139, 118, 125, 146, 104, 167, 161, 119, 168, 146, 110, 118, 103, 87, 126, 118, 99, 157, 140, 114, 139, 117, 88, 143, 129, 86, 122, 125, 56, 83, 84, 41, 74, 71, 41, 96, 110, 64, 123, 125, 88, 120, 118, 84, 99, 98, 72, 77, 69, 44, 61, 83, 32, 77, 106, 40, 127, 142, 48, 153, 168, 59, 131, 140, 44, 82, 69, 27, 63, 45, 21, 34, 22, 10, 80, 48, 30, 97, 69, 28, 79, 82, 29, 83, 80, 32, 99, 88, 33, 145, 133, 111, 119, 112, 104, 97, 111, 80, 117, 139, 84, 172, 158, 119, 172, 151, 120, 106, 95, 82, 119, 116, 94, 150, 139, 112, 96, 83, 68, 108, 105, 70, 109, 122, 61, 78, 86, 36, 54, 62, 37, 100, 111, 75, 121, 130, 99, 110, 119, 90, 124, 128, 94, 108, 104, 73, 67, 85, 32, 61, 89, 31, 103, 111, 42, 139, 146, 54, 134, 146, 54, 96, 100, 37, 85, 71, 33, 64, 58, 26, 71, 49, 27, 139, 115, 51, 131, 132, 41, 67, 67, 23, 76, 85, 25, 140, 120, 100, 142, 126, 107, 127, 124, 89, 136, 130, 86, 167, 153, 120, 150, 130, 110, 122, 107, 92, 123, 117, 101, 123, 112, 93, 97, 97, 65, 106, 113, 71, 92, 109, 54, 71, 88, 33, 71, 86, 48, 112, 129, 83, 109, 122, 94, 96, 107, 86, 109, 116, 87, 122, 118, 85, 100, 108, 56, 72, 90, 27, 101, 98, 38, 115, 120, 51, 132, 152, 66, 132, 151, 58, 127, 123, 49, 113, 102, 41, 63, 58, 27, 144, 123, 67, 182, 172, 75, 83, 73, 30, 73, 76, 24, 176, 153, 123, 172, 149, 120, 142, 118, 94, 127, 100, 80, 143, 122, 100, 144, 119, 104, 132, 114, 98, 134, 122, 110, 107, 98, 74, 128, 135, 72, 118, 122, 72, 68, 80, 36, 80, 95, 47, 111, 125, 73, 127, 145, 90, 108, 125, 87, 102, 108, 83, 110, 117, 78, 131, 123, 74, 155, 149, 87, 129, 141, 49, 107, 107, 35, 121, 119, 67, 143, 147, 73, 131, 153, 64, 152, 148, 64, 111, 92, 36, 72, 77, 33, 148, 139, 69, 185, 166, 85, 97, 86, 39, 126, 130, 49, 178, 157, 129, 153, 133, 104, 138, 117, 89, 121, 96, 81, 122, 101, 83, 136, 109, 92, 141, 119, 95, 147, 132, 103, 121, 116, 73, 134, 135, 81, 118, 117, 73, 71, 79, 42, 113, 115, 79, 136, 145, 96, 131, 145, 96, 107, 121, 82, 127, 131, 100, 115, 112, 74, 145, 126, 82, 173, 161, 103, 137, 144, 63, 99, 103, 39, 138, 138, 71, 135, 136, 61, 122, 145, 50, 151, 144, 66, 138, 120, 57, 141, 140, 59, 184, 182, 89, 173, 151, 80, 135, 116, 56, 145, 145, 55, 176, 155, 130, 125, 112, 86, 125, 126, 88, 150, 138, 107, 78, 69, 66, 87, 76, 66, 153, 132, 98, 143, 126, 94, 111, 110, 65, 130, 131, 81, 94, 96, 59, 83, 78, 53, 143, 135, 109, 144, 145, 115, 134, 143, 101, 99, 119, 76, 125, 142, 104, 122, 130, 81, 110, 103, 62, 104, 102, 57, 106, 102, 44, 161, 150, 66, 157, 163, 54, 137, 151, 44, 133, 152, 51, 133, 131, 52, 164, 149, 64, 163, 172, 69, 168, 169, 86, 183, 166, 86, 145, 127, 62, 92, 70, 33, 191, 167, 138, 127, 122, 87, 99, 123, 79, 123, 133, 95, 58, 55, 54, 67, 61, 54, 146, 127, 94, 123, 110, 90, 110, 108, 60, 121, 116, 71, 92, 90, 59, 119, 108, 80, 139, 132, 112, 160, 150, 125, 176, 165, 131, 167, 161, 127, 130, 133, 106, 110, 123, 80, 78, 103, 38, 112, 118, 58, 184, 166, 123, 159, 154, 99, 129, 149, 62, 136, 156, 45, 141, 166, 42, 113, 130, 36, 138, 127, 63, 165, 170, 89, 161, 167, 84, 175, 165, 87, 111, 91, 47, 101, 64, 33, 194, 169, 126, 159, 152, 107, 110, 131, 80, 112, 128, 81, 90, 84, 72, 94, 78, 66, 163, 142, 103, 128, 118, 92, 134, 122, 87, 152, 133, 90, 160, 144, 99, 148, 141, 118, 141, 128, 110, 152, 138, 120, 177, 158, 140, 206, 187, 164, 124, 108, 102, 58, 53, 65, 75, 70, 64, 163, 148, 131, 208, 196, 173, 123, 123, 91, 138, 147, 70, 140, 153, 54, 148, 174, 42, 156, 174, 57, 157, 157, 65, 170, 158, 83, 148, 153, 80, 120, 112, 58, 94, 66, 38, 69, 49, 27, 178, 155, 117, 167, 147, 110, 131, 130, 86, 156, 145, 99, 134, 115, 87, 93, 81, 68, 168, 152, 115, 125, 122, 94, 127, 119, 92, 146, 128, 86, 162, 140, 99, 158, 147, 123, 173, 158, 135, 133, 122, 111, 128, 114, 109, 185, 166, 144, 141, 121, 102, 105, 91, 81, 119, 99, 86, 176, 153, 134, 183, 176, 151, 112, 115, 73, 125, 138, 61, 148, 155, 76, 153, 166, 57, 154, 162, 61, 157, 165, 62, 165, 166, 75, 110, 114, 58, 79, 58, 31, 117, 84, 50, 75, 64, 36, 145, 122, 102, 140, 116, 95, 129, 112, 87, 139, 129, 97, 97, 88, 72, 97, 88, 79, 184, 172, 128, 121, 117, 91, 113, 109, 90, 125, 112, 83, 115, 99, 77, 141, 127, 107, 150, 137, 119, 104, 94, 88, 67, 61, 68, 128, 111, 100, 134, 113, 95, 138, 122, 108, 154, 137, 122, 163, 140, 116, 153, 138, 118, 100, 109, 68, 119, 135, 70, 148, 160, 87, 155, 171, 73, 122, 128, 53, 142, 142, 68, 150, 149, 74, 135, 128, 64, 97, 74, 43, 130, 102, 68, 103, 84, 52, 116, 98, 90, 119, 97, 83, 115, 97, 80, 126, 126, 92, 113, 115, 89, 134, 118, 97, 170, 161, 115, 101, 96, 67, 101, 94, 85, 88, 73, 60, 41, 34, 29, 59, 50, 45, 67, 54, 52, 44, 36, 41, 44, 40, 48, 96, 81, 72, 145, 125, 103, 173, 159, 148, 196, 187, 175, 174, 153, 126, 143, 122, 104, 118, 115, 94, 112, 124, 89, 120, 128, 99, 128, 139, 97, 117, 129, 64, 117, 120, 60, 85, 84, 40, 86, 82, 43, 71, 67, 36, 88, 70, 48, 85, 59, 40, 110, 97, 84, 105, 80, 73, 114, 95, 85, 134, 129, 88, 131, 125, 86, 129, 120, 101, 139, 138, 98, 108, 106, 78, 65, 59, 58, 13, 11, 11, 5, 5, 5, 14, 8, 7, 44, 32, 26, 59, 44, 37, 59, 46, 43, 110, 93, 79, 172, 153, 125, 197, 189, 182, 216, 212, 203, 193, 174, 147, 162, 141, 117, 136, 124, 96, 115, 115, 96, 117, 109, 102, 122, 118, 115, 130, 132, 102, 118, 124, 71, 81, 78, 43, 80, 79, 45, 74, 78, 34, 60, 59, 30, 64, 45, 31, 136, 116, 91, 103, 77, 67, 109, 92, 80, 140, 131, 92, 122, 116, 89, 117, 120, 96, 137, 140, 111, 90, 85, 69, 19, 17, 18, 5, 5, 6, 7, 6, 7, 15, 8, 7, 38, 26, 22, 69, 50, 41, 80, 60, 49, 113, 90, 73, 178, 161, 142, 213, 209, 209, 219, 215, 213, 205, 190, 172, 165, 144, 118, 134, 135, 97, 102, 104, 89, 110, 83, 72, 120, 104, 98, 127, 122, 117, 101, 102, 77, 96, 96, 56, 109, 106, 57, 93, 92, 42, 61, 62, 33, 69, 58, 43, 149, 126, 111, 101, 80, 67, 102, 99, 75, 131, 128, 87, 127, 119, 91, 114, 124, 84, 125, 133, 101, 50, 50, 46, 4, 3, 5, 6, 6, 6, 4, 4, 6, 19, 11, 9, 52, 35, 27, 71, 52, 41, 84, 64, 50, 104, 81, 63, 172, 159, 153, 222, 219, 219, 223, 220, 218, 203, 198, 191, 130, 126, 120, 113, 115, 108, 96, 100, 97, 102, 76, 64, 119, 96, 84, 114, 111, 95, 84, 87, 79, 82, 82, 61, 92, 100, 65, 94, 96, 72, 109, 104, 87, 80, 80, 52, 137, 99, 83, 99, 85, 76, 89, 91, 77, 96, 98, 75, 86, 102, 72, 115, 113, 78, 108, 115, 60, 29, 28, 28, 5, 3, 8, 6, 6, 5, 4, 4, 6, 19, 11, 9, 62, 38, 26, 80, 58, 46, 91, 70, 57, 87, 68, 56, 163, 150, 138, 214, 206, 195, 210, 209, 204, 165, 162, 159, 105, 112, 113, 99, 93, 87, 108, 99, 93, 101, 91, 82, 113, 99, 81, 112, 106, 97, 89, 96, 95, 102, 105, 104, 100, 112, 103, 88, 89, 78, 127, 109, 97, 77, 72, 44, 123, 77, 51, 111, 83, 67, 86, 102, 82, 68, 85, 77, 54, 80, 57, 106, 126, 73, 93, 99, 60, 15, 15, 21, 4, 4, 6, 6, 5, 5, 5, 4, 5, 18, 10, 7, 46, 25, 16, 61, 41, 32, 80, 62, 50, 81, 64, 56, 114, 96, 87, 168, 151, 133, 183, 180, 173, 161, 158, 155, 110, 112, 112, 100, 89, 83, 146, 118, 99, 105, 95, 88, 82, 84, 62, 106, 106, 107, 80, 87, 97, 64, 76, 71, 51, 63, 51, 57, 58, 44, 96, 83, 77, 94, 85, 63, 96, 64, 50, 55, 37, 36, 62, 78, 55, 58, 84, 55, 76, 92, 61, 67, 88, 45, 41, 50, 39, 18, 16, 29, 7, 7, 10, 5, 5, 5, 5, 5, 5, 18, 9, 8, 55, 34, 23, 77, 55, 43, 64, 49, 41, 95, 76, 65, 108, 85, 75, 135, 113, 96, 163, 156, 149, 139, 140, 139, 104, 110, 109, 101, 86, 76, 139, 108, 89, 115, 100, 83, 70, 75, 62, 87, 92, 99, 55, 60, 68, 42, 50, 41, 25, 35, 24, 32, 40, 28, 63, 59, 57, 70, 73, 61, 123, 91, 77, 67, 47, 49, 62, 59, 51, 80, 91, 60, 91, 103, 73, 48, 65, 40, 28, 35, 42, 12, 13, 29, 11, 10, 15, 7, 6, 6, 5, 5, 4, 16, 9, 8, 49, 29, 21, 70, 47, 38, 60, 43, 38, 96, 73, 60, 124, 103, 87, 136, 116, 99, 155, 149, 140, 86, 88, 86, 90, 84, 82, 106, 84, 72, 94, 75, 65, 130, 119, 105, 86, 91, 91, 68, 67, 70, 56, 56, 57, 47, 53, 52, 39, 47, 43, 41, 50, 43, 51, 57, 52, 62, 62, 54, 156, 103, 70, 103, 75, 68, 70, 52, 52, 84, 74, 65, 98, 109, 84, 54, 80, 62, 26, 33, 46, 10, 11, 24, 12, 10, 16, 8, 6, 6, 5, 4, 4, 19, 10, 9, 51, 30, 23, 69, 48, 38, 67, 49, 41, 94, 71, 59, 113, 91, 76, 135, 115, 102, 123, 126, 123, 87, 81, 81, 122, 95, 89, 119, 96, 87, 112, 94, 84, 129, 116, 106, 89, 91, 93, 57, 53, 50, 47, 41, 41, 27, 28, 32, 35, 36, 41, 37, 45, 43, 42, 52, 42, 66, 65, 59, 124, 83, 49, 119, 90, 68, 97, 82, 68, 80, 78, 59, 84, 86, 64, 39, 69, 63, 21, 28, 46, 12, 12, 25, 15, 12, 17, 12, 9, 8, 5, 3, 4, 29, 18, 15, 61, 36, 26, 74, 53, 43, 80, 61, 49, 91, 70, 58, 96, 76, 65, 112, 97, 87, 82, 90, 93, 91, 83, 87, 126, 99, 96, 130, 107, 97, 138, 113, 97, 87, 78, 71, 70, 77, 83, 62, 62, 62, 50, 48, 51, 35, 38, 43, 25, 30, 32, 24, 33, 29, 50, 54, 44, 74, 63, 61, 101, 90, 70, 111, 99, 77, 104, 93, 81, 82, 78, 58, 94, 98, 64, 47, 67, 58, 19, 25, 44, 16, 18, 32, 26, 22, 27, 18, 13, 12, 6, 5, 7, 32, 20, 18, 80, 52, 39, 89, 64, 51, 85, 66, 53, 87, 68, 57, 88, 69, 59, 102, 88, 77, 75, 73, 73, 86, 78, 78, 110, 90, 91, 128, 104, 95, 148, 124, 105, 91, 80, 75, 67, 72, 72, 73, 79, 80, 70, 73, 77, 49, 54, 59, 38, 43, 43, 36, 38, 39, 71, 63, 59, 67, 60, 57, 87, 101, 95, 93, 99, 96, 87, 71, 76, 76, 53, 45, 97, 105, 69, 67, 88, 78, 17, 22, 42, 20, 21, 36, 31, 26, 31, 26, 19, 23, 9, 9, 14, 31, 22, 20, 77, 54, 43, 97, 72, 57, 94, 73, 61, 90, 70, 57, 98, 78, 65, 117, 97, 82, 116, 93, 73, 107, 87, 82, 113, 91, 89, 128, 109, 92, 170, 145, 126, 125, 111, 105, 77, 81, 80, 70, 75, 76, 72, 74, 82, 69, 75, 74, 69, 69, 68, 81, 69, 74, 76, 67, 71, 52, 53, 51, 84, 105, 106, 84, 94, 105, 76, 59, 65, 69, 45, 38, 99, 94, 82, 77, 88, 85, 20, 25, 42, 25, 26, 41, 31, 26, 34, 29, 22, 28, 10, 8, 17, 29, 21, 23, 70, 54, 47, 111, 90, 71, 114, 90, 72, 104, 83, 70, 100, 80, 69, 128, 103, 86, 161, 118, 78, 130, 95, 72, 103, 83, 75, 126, 111, 94, 148, 129, 113, 130, 117, 103, 77, 85, 72, 62, 67, 62, 78, 80, 92, 78, 88, 83, 94, 80, 80, 103, 86, 91, 69, 68, 77, 47, 46, 52, 91, 114, 109, 99, 107, 86, 75, 69, 73, 78, 68, 64, 105, 99, 83, 90, 89, 86, 27, 28, 47, 21, 25, 44, 30, 30, 41, 31, 25, 36, 11, 8, 22, 27, 17, 21, 71, 52, 45, 111, 85, 67, 110, 86, 71, 96, 75, 63, 102, 82, 69, 140, 114, 98, 178, 138, 93, 126, 99, 63, 85, 76, 51, 94, 95, 76, 103, 109, 98, 113, 109, 91, 100, 100, 65, 73, 75, 65, 96, 104, 101, 95, 97, 93, 124, 109, 126, 127, 118, 127, 93, 94, 94, 105, 104, 111, 118, 137, 94, 118, 130, 76, 120, 127, 104, 125, 131, 119, 77, 83, 63, 70, 76, 69, 31, 35, 47, 15, 19, 38, 27, 29, 45, 29, 26, 38, 10, 10, 22, 35, 25, 31, 81, 61, 54, 104, 83, 70, 103, 82, 68, 84, 64, 53, 94, 74, 60, 131, 116, 105, 121, 108, 96, 96, 95, 85, 96, 103, 77, 90, 101, 80, 89, 107, 91, 95, 105, 86, 91, 92, 71, 85, 90, 69, 91, 106, 77, 117, 121, 121, 154, 167, 193, 143, 161, 174, 128, 140, 152, 144, 144, 154, 152, 160, 100, 138, 148, 90, 98, 116, 77, 87, 105, 71, 87, 95, 66, 77, 83, 66, 67, 75, 57, 38, 44, 46, 33, 35, 52, 36, 36, 47, 33, 28, 37, 58, 49, 44, 85, 71, 55, 89, 74, 58, 92, 74, 64, 99, 77, 64, 102, 81, 73, 108, 112, 99, 95, 102, 91, 87, 89, 82, 102, 123, 109, 99, 120, 108, 104, 103, 85, 103, 102, 69, 99, 84, 70, 96, 93, 67, 94, 116, 88, 115, 130, 115, 119, 141, 151, 109, 133, 123, 96, 117, 101, 117, 108, 97, 146, 147, 92, 131, 135, 85, 93, 97, 70, 95, 99, 73, 125, 127, 97, 100, 101, 96, 89, 99, 80, 76, 90, 58, 65, 75, 65, 65, 70, 63, 96, 86, 78, 118, 108, 80, 102, 103, 63, 97, 94, 62, 139, 113, 84, 151, 117, 87, 127, 110, 91, 96, 106, 90, 100, 102, 82, 86, 80, 74, 92, 106, 95, 100, 115, 80, 143, 118, 62, 158, 125, 64, 157, 124, 77, 111, 99, 69, 93, 113, 78, 117, 130, 97, 102, 125, 101, 102, 124, 83, 98, 118, 68, 101, 92, 68, 117, 108, 85, 101, 92, 78, 90, 84, 90, 106, 90, 89, 127, 112, 96, 108, 111, 102, 89, 101, 87, 91, 102, 76, 111, 115, 81, 94, 106, 77, 102, 99, 88, 118, 117, 86, 112, 122, 70, 114, 115, 73, 159, 125, 87, 144, 108, 76, 101, 100, 69, 87, 91, 77, 91, 82, 65, 78, 67, 63, 79, 88, 93, 110, 114, 88, 158, 123, 66, 143, 118, 66, 143, 132, 63, 119, 117, 62, 111, 111, 69, 115, 117, 82, 104, 115, 77, 105, 114, 53, 104, 116, 58, 85, 85, 64, 83, 75, 68, 54, 49, 56, 61, 62, 77, 75, 67, 72, 89, 77, 75, 87, 91, 74, 99, 117, 83, 116, 126, 103, 131, 128, 89, 99, 115, 72, 71, 84, 74, 93, 108, 72, 102, 120, 66, 108, 117, 77, 118, 112, 77, 110, 98, 80, 88, 95, 76, 94, 104, 81, 91, 98, 77, 79, 84, 67, 93, 102, 89, 97, 113, 102, 82, 86, 74, 109, 110, 78, 145, 143, 101, 121, 129, 79, 116, 124, 78, 101, 106, 80, 79, 86, 68, 80, 82, 53, 74, 86, 58, 76, 85, 70, 60, 57, 51, 55, 53, 71, 62, 67, 81, 73, 85, 92, 97, 108, 97, 94, 107, 75, 109, 128, 75, 140, 150, 99, 137, 140, 93, 103, 114, 71, 73, 87, 74, 111, 118, 92, 119, 132, 79, 90, 113, 68, 93, 113, 76, 87, 103, 76, 97, 107, 78, 134, 130, 92, 125, 129, 99, 84, 99, 77, 148, 119, 84, 152, 134, 95, 93, 103, 78, 93, 111, 76, 128, 133, 100, 132, 133, 98, 111, 116, 82, 97, 101, 79, 98, 111, 77, 96, 104, 81, 95, 100, 81, 82, 92, 77, 74, 82, 75, 111, 122, 130, 124, 133, 150, 105, 115, 111, 111, 126, 97, 104, 115, 80, 94, 109, 59, 133, 141, 79, 151, 153, 94, 100, 99, 76, 72, 69, 67, 85, 79, 72, 102, 108, 71, 96, 114, 58, 92, 109, 75, 81, 95, 60, 87, 105, 65, 110, 103, 80, 127, 111, 92, 103, 89, 76, 131, 82, 53, 153, 124, 77, 118, 117, 73, 95, 113, 69, 112, 132, 73, 110, 119, 87, 103, 102, 77, 104, 110, 82, 120, 135, 87, 127, 138, 90, 111, 118, 86, 71, 75, 65], \"height\": 32, \"channels\": 3, \"width\": 32, \"type\": \"image\", \"id\": 140151966731664}], \"selected_variable\": {\"name\": [\"<SArray>\"], \"dtype\": \"Image\", \"view_component\": \"Images\", \"view_file\": \"sarray\", \"descriptives\": {\"rows\": 5}, \"type\": \"SArray\", \"view_components\": [\"Images\"]}}, e);\n",
       "                });\n",
       "            })();\n",
       "        "
      ]
     },
     "metadata": {},
     "output_type": "display_data"
    },
    {
     "data": {
      "text/html": [
       "<pre>Starting pairwise querying.</pre>"
      ],
      "text/plain": [
       "Starting pairwise querying."
      ]
     },
     "metadata": {},
     "output_type": "display_data"
    },
    {
     "data": {
      "text/html": [
       "<pre>+--------------+---------+-------------+--------------+</pre>"
      ],
      "text/plain": [
       "+--------------+---------+-------------+--------------+"
      ]
     },
     "metadata": {},
     "output_type": "display_data"
    },
    {
     "data": {
      "text/html": [
       "<pre>| Query points | # Pairs | % Complete. | Elapsed Time |</pre>"
      ],
      "text/plain": [
       "| Query points | # Pairs | % Complete. | Elapsed Time |"
      ]
     },
     "metadata": {},
     "output_type": "display_data"
    },
    {
     "data": {
      "text/html": [
       "<pre>+--------------+---------+-------------+--------------+</pre>"
      ],
      "text/plain": [
       "+--------------+---------+-------------+--------------+"
      ]
     },
     "metadata": {},
     "output_type": "display_data"
    },
    {
     "data": {
      "text/html": [
       "<pre>| 0            | 1       | 0.196464    | 7.027ms      |</pre>"
      ],
      "text/plain": [
       "| 0            | 1       | 0.196464    | 7.027ms      |"
      ]
     },
     "metadata": {},
     "output_type": "display_data"
    },
    {
     "data": {
      "text/html": [
       "<pre>| Done         |         | 100         | 57.615ms     |</pre>"
      ],
      "text/plain": [
       "| Done         |         | 100         | 57.615ms     |"
      ]
     },
     "metadata": {},
     "output_type": "display_data"
    },
    {
     "data": {
      "text/html": [
       "<pre>+--------------+---------+-------------+--------------+</pre>"
      ],
      "text/plain": [
       "+--------------+---------+-------------+--------------+"
      ]
     },
     "metadata": {},
     "output_type": "display_data"
    },
    {
     "data": {
      "application/javascript": [
       "$(\"head\").append($(\"<link/>\").attr({\n",
       "  rel:  \"stylesheet\",\n",
       "  type: \"text/css\",\n",
       "  href: \"//cdnjs.cloudflare.com/ajax/libs/font-awesome/4.1.0/css/font-awesome.min.css\"\n",
       "}));\n",
       "$(\"head\").append($(\"<link/>\").attr({\n",
       "  rel:  \"stylesheet\",\n",
       "  type: \"text/css\",\n",
       "  href: \"https://static.turi.com/products/graphlab-create/2.1/canvas/css/canvas.css\"\n",
       "}));\n",
       "\n",
       "            (function(){\n",
       "\n",
       "                var e = null;\n",
       "                if (typeof element == 'undefined') {\n",
       "                    var scripts = document.getElementsByTagName('script');\n",
       "                    var thisScriptTag = scripts[scripts.length-1];\n",
       "                    var parentDiv = thisScriptTag.parentNode;\n",
       "                    e = document.createElement('div');\n",
       "                    parentDiv.appendChild(e);\n",
       "                } else {\n",
       "                    e = element[0];\n",
       "                }\n",
       "\n",
       "                if (typeof requirejs !== 'undefined') {\n",
       "                    // disable load timeout; ipython_app.js is large and can take a while to load.\n",
       "                    requirejs.config({waitSeconds: 0});\n",
       "                }\n",
       "\n",
       "                require(['https://static.turi.com/products/graphlab-create/2.1/canvas/js/ipython_app.js'], function(IPythonApp){\n",
       "                    var app = new IPythonApp();\n",
       "                    app.attachView('sarray','Images', {\"ipython\": true, \"rows\": [{\"format\": \"raw\", \"value\": [198, 196, 142, 195, 194, 137, 203, 202, 142, 190, 193, 128, 179, 184, 118, 182, 183, 121, 187, 183, 127, 205, 197, 144, 201, 195, 139, 199, 194, 137, 194, 189, 134, 197, 191, 139, 191, 186, 135, 192, 190, 135, 192, 190, 133, 186, 183, 132, 184, 180, 139, 175, 175, 136, 188, 184, 142, 194, 182, 135, 182, 172, 118, 187, 179, 125, 201, 187, 140, 192, 181, 127, 195, 187, 131, 184, 178, 127, 175, 173, 120, 171, 171, 114, 164, 161, 103, 154, 149, 90, 175, 172, 110, 195, 198, 130, 192, 189, 138, 185, 182, 129, 194, 191, 136, 188, 189, 131, 185, 189, 128, 202, 200, 143, 199, 188, 137, 204, 188, 140, 192, 181, 128, 202, 194, 140, 199, 190, 139, 208, 198, 151, 213, 205, 156, 200, 198, 141, 197, 195, 136, 182, 179, 126, 122, 117, 78, 146, 141, 122, 161, 151, 143, 174, 159, 144, 185, 175, 137, 195, 189, 135, 193, 181, 133, 187, 179, 121, 185, 180, 116, 166, 164, 102, 179, 180, 118, 178, 180, 116, 178, 182, 119, 172, 177, 115, 179, 186, 124, 188, 200, 133, 195, 190, 142, 193, 189, 140, 192, 188, 139, 189, 188, 136, 185, 185, 130, 197, 190, 139, 194, 179, 132, 197, 176, 130, 185, 170, 120, 195, 183, 132, 198, 185, 138, 210, 197, 152, 210, 200, 152, 194, 192, 134, 190, 188, 128, 179, 176, 123, 124, 119, 81, 130, 124, 102, 120, 110, 106, 106, 93, 93, 165, 156, 135, 194, 188, 146, 183, 175, 126, 176, 172, 110, 180, 180, 109, 180, 182, 111, 185, 189, 119, 180, 187, 118, 167, 177, 112, 170, 184, 121, 173, 190, 127, 168, 186, 120, 202, 196, 146, 195, 189, 140, 201, 194, 147, 186, 182, 133, 188, 185, 134, 199, 191, 141, 192, 179, 129, 192, 174, 125, 196, 182, 129, 193, 181, 128, 192, 179, 129, 194, 181, 134, 192, 182, 132, 192, 190, 131, 191, 190, 128, 187, 184, 129, 194, 190, 145, 172, 167, 122, 108, 103, 72, 54, 47, 37, 92, 85, 75, 175, 168, 143, 178, 174, 123, 177, 177, 112, 179, 183, 109, 184, 190, 115, 173, 181, 107, 172, 182, 111, 152, 166, 97, 153, 170, 104, 169, 190, 124, 171, 190, 123, 202, 195, 141, 196, 188, 138, 196, 187, 140, 180, 173, 125, 186, 181, 130, 193, 187, 134, 181, 173, 118, 199, 191, 135, 213, 205, 146, 200, 192, 134, 185, 176, 120, 182, 172, 120, 184, 177, 123, 193, 191, 130, 194, 192, 129, 192, 190, 133, 196, 192, 144, 198, 193, 135, 185, 184, 127, 130, 131, 98, 74, 70, 62, 131, 123, 112, 187, 186, 133, 188, 190, 124, 186, 192, 120, 184, 193, 122, 180, 191, 120, 176, 189, 118, 153, 168, 97, 159, 175, 105, 169, 186, 117, 173, 186, 118, 205, 196, 138, 190, 180, 127, 189, 180, 130, 183, 175, 124, 178, 172, 119, 191, 187, 130, 187, 188, 125, 197, 200, 134, 208, 207, 141, 193, 189, 125, 173, 169, 107, 182, 178, 119, 194, 190, 132, 195, 194, 131, 191, 190, 125, 183, 181, 123, 179, 175, 127, 187, 179, 129, 179, 178, 119, 172, 178, 128, 111, 110, 94, 92, 85, 77, 175, 176, 121, 178, 183, 117, 172, 181, 112, 182, 192, 128, 183, 196, 130, 180, 195, 125, 167, 180, 110, 171, 183, 110, 160, 170, 97, 157, 162, 93, 199, 190, 130, 183, 172, 117, 185, 180, 125, 183, 180, 124, 185, 180, 124, 188, 186, 127, 191, 194, 130, 197, 203, 135, 193, 197, 126, 182, 183, 114, 164, 165, 99, 182, 182, 118, 200, 198, 138, 196, 196, 136, 184, 184, 121, 170, 169, 113, 160, 157, 113, 167, 158, 128, 154, 148, 112, 148, 148, 111, 131, 125, 112, 113, 102, 96, 160, 159, 112, 171, 176, 114, 160, 169, 102, 176, 184, 121, 182, 193, 130, 182, 195, 128, 178, 189, 119, 175, 186, 111, 164, 174, 97, 161, 168, 96, 188, 180, 120, 185, 172, 116, 177, 178, 117, 182, 189, 127, 194, 194, 135, 177, 178, 119, 192, 195, 132, 201, 205, 138, 193, 200, 128, 181, 187, 117, 174, 178, 113, 187, 187, 127, 192, 191, 137, 184, 183, 135, 169, 170, 118, 164, 163, 118, 141, 138, 108, 128, 119, 108, 141, 130, 123, 150, 137, 129, 171, 154, 151, 177, 159, 155, 161, 153, 124, 174, 178, 126, 170, 180, 114, 178, 185, 116, 180, 185, 121, 186, 194, 128, 181, 192, 122, 178, 192, 117, 171, 187, 109, 175, 191, 117, 183, 175, 119, 175, 163, 106, 175, 177, 113, 181, 191, 125, 184, 188, 127, 182, 186, 124, 193, 198, 132, 195, 200, 131, 197, 204, 135, 191, 197, 133, 187, 188, 133, 183, 181, 133, 166, 161, 125, 137, 132, 107, 135, 131, 104, 132, 127, 106, 127, 120, 111, 122, 112, 110, 155, 141, 141, 155, 138, 138, 177, 157, 158, 196, 176, 176, 175, 162, 148, 177, 177, 138, 173, 180, 120, 175, 180, 112, 178, 181, 116, 183, 189, 124, 181, 190, 121, 183, 196, 123, 175, 190, 115, 178, 194, 123, 187, 181, 126, 176, 167, 109, 181, 182, 117, 186, 195, 128, 190, 197, 136, 191, 199, 132, 190, 198, 128, 190, 198, 127, 194, 199, 136, 204, 205, 152, 188, 184, 143, 151, 143, 114, 121, 111, 95, 105, 96, 92, 122, 114, 109, 111, 102, 102, 127, 117, 124, 128, 116, 117, 145, 131, 128, 131, 115, 114, 167, 148, 149, 193, 174, 177, 187, 173, 172, 192, 187, 163, 180, 182, 132, 174, 177, 113, 178, 181, 116, 180, 184, 120, 185, 191, 125, 183, 191, 122, 177, 187, 118, 174, 185, 120, 199, 195, 139, 191, 184, 126, 191, 191, 126, 186, 191, 127, 189, 196, 135, 189, 197, 129, 185, 193, 123, 180, 186, 122, 194, 194, 143, 181, 177, 137, 145, 136, 111, 147, 133, 121, 136, 121, 118, 111, 100, 101, 139, 128, 131, 129, 118, 124, 132, 120, 127, 120, 105, 103, 128, 113, 106, 113, 97, 95, 160, 144, 143, 199, 182, 187, 209, 194, 202, 210, 200, 189, 198, 195, 157, 179, 181, 122, 178, 181, 116, 180, 181, 117, 190, 192, 128, 180, 182, 118, 176, 178, 115, 169, 174, 113, 197, 196, 136, 182, 178, 119, 178, 176, 114, 171, 172, 112, 171, 174, 114, 178, 183, 116, 181, 185, 122, 159, 161, 110, 182, 177, 140, 132, 122, 96, 106, 92, 78, 175, 155, 154, 172, 153, 155, 127, 115, 111, 149, 136, 136, 151, 138, 139, 132, 119, 117, 117, 101, 94, 116, 99, 90, 119, 104, 99, 161, 147, 146, 197, 182, 186, 214, 198, 208, 214, 199, 196, 210, 203, 175, 182, 182, 130, 177, 179, 116, 176, 176, 113, 179, 178, 117, 167, 164, 105, 170, 167, 108, 179, 178, 117, 184, 186, 121, 183, 182, 122, 178, 173, 118, 168, 163, 109, 173, 171, 112, 174, 174, 110, 171, 168, 116, 159, 153, 121, 161, 151, 130, 118, 104, 88, 127, 108, 102, 194, 171, 174, 179, 158, 159, 154, 141, 133, 149, 135, 133, 166, 153, 151, 137, 124, 115, 114, 98, 85, 104, 86, 75, 140, 124, 118, 195, 182, 180, 189, 176, 179, 187, 171, 176, 195, 176, 175, 213, 201, 179, 187, 186, 140, 195, 197, 135, 174, 173, 110, 175, 170, 112, 180, 171, 117, 180, 171, 116, 192, 186, 123, 173, 177, 107, 172, 172, 112, 181, 173, 123, 181, 172, 123, 170, 163, 106, 162, 155, 95, 163, 154, 111, 141, 127, 110, 109, 93, 83, 111, 93, 85, 131, 111, 108, 177, 153, 155, 164, 142, 142, 175, 160, 155, 152, 137, 137, 163, 148, 147, 130, 116, 107, 109, 92, 78, 94, 76, 64, 167, 152, 145, 212, 200, 197, 180, 169, 169, 156, 142, 143, 160, 140, 139, 203, 188, 170, 217, 213, 172, 200, 202, 142, 160, 159, 97, 171, 165, 109, 178, 168, 117, 186, 173, 123, 187, 179, 115, 173, 173, 104, 172, 168, 106, 171, 163, 107, 178, 169, 116, 175, 167, 112, 168, 160, 99, 152, 142, 100, 112, 97, 87, 86, 71, 68, 91, 76, 71, 116, 99, 97, 138, 120, 116, 133, 117, 112, 175, 163, 159, 152, 136, 135, 141, 123, 120, 120, 106, 97, 99, 85, 80, 105, 93, 84, 210, 202, 188, 148, 139, 130, 139, 130, 128, 154, 143, 146, 120, 104, 104, 167, 151, 131, 222, 208, 178, 207, 200, 156, 160, 160, 105, 162, 162, 109, 163, 155, 115, 187, 172, 138, 189, 184, 130, 197, 196, 128, 184, 181, 117, 164, 160, 98, 154, 151, 92, 173, 174, 111, 176, 178, 107, 151, 148, 98, 133, 123, 108, 133, 119, 118, 137, 124, 124, 102, 90, 91, 69, 58, 58, 118, 109, 106, 142, 132, 128, 126, 109, 105, 150, 132, 126, 121, 109, 99, 65, 56, 48, 140, 133, 116, 202, 197, 168, 125, 119, 95, 101, 94, 81, 144, 136, 136, 99, 87, 86, 150, 136, 116, 187, 171, 143, 217, 206, 176, 189, 188, 145, 171, 175, 122, 162, 159, 110, 144, 133, 91, 174, 173, 121, 190, 191, 121, 190, 192, 126, 173, 173, 110, 154, 159, 95, 165, 178, 105, 183, 193, 116, 156, 159, 104, 122, 116, 95, 149, 132, 131, 229, 213, 217, 118, 108, 113, 42, 36, 43, 103, 99, 103, 120, 109, 106, 120, 103, 99, 147, 131, 124, 97, 88, 77, 69, 64, 43, 162, 159, 124, 179, 177, 131, 142, 140, 98, 103, 99, 70, 89, 83, 68, 82, 74, 70, 132, 124, 108, 184, 179, 139, 195, 189, 156, 209, 208, 172, 172, 175, 118, 171, 170, 99, 173, 169, 99, 166, 170, 110, 170, 172, 102, 175, 180, 113, 170, 176, 110, 158, 166, 101, 167, 176, 109, 179, 184, 117, 160, 156, 110, 151, 138, 122, 216, 191, 189, 212, 184, 182, 114, 95, 94, 31, 23, 28, 75, 69, 74, 125, 114, 111, 122, 105, 101, 126, 113, 105, 58, 52, 39, 101, 99, 75, 167, 167, 128, 159, 161, 111, 138, 139, 93, 116, 115, 79, 93, 90, 62, 93, 89, 78, 167, 165, 152, 184, 189, 140, 171, 173, 122, 208, 207, 162, 181, 182, 119, 165, 165, 87, 173, 173, 94, 169, 178, 110, 169, 171, 102, 170, 175, 108, 165, 174, 107, 160, 164, 104, 164, 156, 104, 187, 176, 126, 154, 136, 107, 162, 136, 131, 223, 183, 178, 198, 158, 143, 121, 95, 80, 35, 20, 13, 76, 67, 65, 124, 112, 109, 104, 88, 84, 116, 105, 96, 44, 42, 29, 63, 62, 46, 111, 111, 83, 124, 126, 86, 114, 115, 81, 109, 109, 81, 137, 137, 102, 155, 154, 133, 228, 228, 217, 178, 186, 135, 154, 163, 90, 170, 172, 109, 179, 177, 115, 160, 157, 92, 153, 152, 84, 164, 172, 101, 182, 179, 111, 165, 167, 101, 151, 159, 92, 146, 144, 86, 131, 110, 63, 143, 121, 79, 121, 96, 73, 143, 114, 111, 153, 113, 105, 138, 101, 79, 101, 77, 49, 76, 63, 43, 104, 95, 86, 123, 110, 107, 111, 96, 91, 87, 79, 69, 37, 39, 24, 35, 35, 26, 55, 54, 37, 74, 75, 47, 66, 66, 44, 64, 64, 47, 115, 118, 84, 134, 135, 102, 196, 194, 181, 164, 168, 123, 125, 135, 54, 150, 153, 83, 157, 152, 95, 141, 135, 84, 138, 136, 80, 161, 165, 92, 179, 171, 105, 163, 161, 96, 150, 155, 90, 173, 169, 106, 191, 170, 111, 181, 162, 111, 149, 133, 99, 127, 111, 93, 87, 64, 54, 109, 89, 67, 110, 101, 69, 85, 84, 59, 64, 61, 50, 89, 76, 73, 125, 111, 106, 76, 70, 59, 45, 50, 34, 48, 50, 41, 54, 54, 40, 55, 57, 31, 46, 47, 27, 42, 42, 31, 63, 67, 40, 83, 86, 42, 157, 152, 136, 164, 158, 124, 103, 108, 39, 138, 140, 80, 148, 140, 93, 144, 136, 90, 139, 137, 82, 161, 159, 87, 168, 158, 93, 165, 160, 97, 168, 170, 108, 190, 187, 121, 197, 183, 113, 202, 193, 130, 183, 178, 132, 128, 124, 96, 72, 63, 53, 102, 97, 83, 81, 84, 60, 38, 46, 26, 34, 34, 24, 105, 89, 85, 128, 118, 108, 73, 71, 54, 72, 75, 53, 93, 93, 72, 126, 123, 95, 109, 106, 72, 92, 89, 62, 76, 73, 59, 102, 104, 74, 112, 117, 64, 158, 156, 127, 180, 173, 140, 139, 143, 84, 147, 148, 95, 155, 149, 103, 146, 141, 91, 137, 135, 75, 172, 163, 95, 168, 159, 94, 171, 166, 105, 175, 173, 115, 180, 177, 117, 175, 169, 102, 171, 167, 107, 142, 139, 99, 92, 88, 69, 64, 60, 52, 49, 50, 44, 29, 35, 28, 18, 23, 14, 65, 57, 49, 171, 151, 141, 116, 112, 91, 97, 99, 67, 130, 126, 89, 144, 138, 93, 168, 159, 108, 160, 147, 98, 143, 132, 95, 132, 123, 94, 156, 153, 109, 159, 165, 108, 175, 182, 131, 182, 185, 139, 159, 164, 105, 161, 166, 105, 158, 158, 104, 150, 148, 95, 142, 136, 81, 177, 162, 104, 189, 180, 120, 183, 176, 120, 167, 163, 108, 150, 146, 95, 144, 139, 92, 127, 123, 83, 80, 76, 54, 55, 50, 45, 53, 49, 49, 31, 31, 33, 28, 32, 33, 34, 35, 32, 123, 113, 103, 206, 188, 168, 100, 98, 65, 127, 130, 87, 169, 163, 115, 174, 167, 113, 179, 171, 114, 177, 163, 110, 159, 147, 104, 148, 141, 103, 162, 160, 113, 163, 170, 115, 168, 176, 122, 163, 165, 120, 148, 150, 98, 153, 155, 98, 160, 159, 107, 162, 158, 110, 145, 136, 90, 157, 141, 94, 195, 184, 131, 180, 171, 120, 159, 153, 102, 132, 127, 86, 109, 104, 77, 79, 75, 52, 39, 36, 24, 46, 43, 42, 66, 64, 62, 63, 64, 62, 61, 64, 61, 83, 86, 74, 179, 174, 152, 191, 177, 144, 115, 113, 69, 147, 148, 96, 168, 162, 106, 168, 163, 109, 181, 175, 122, 175, 165, 113, 155, 148, 100, 164, 162, 117, 163, 166, 115, 143, 151, 95, 158, 163, 112, 161, 156, 117, 153, 149, 105, 149, 147, 97, 165, 160, 112, 170, 161, 118, 153, 141, 100, 148, 136, 91, 195, 180, 136, 170, 158, 114, 140, 131, 86, 124, 117, 81, 100, 94, 72, 61, 57, 37, 44, 42, 26, 72, 72, 57, 121, 122, 101, 117, 117, 96, 117, 117, 96, 162, 165, 134, 206, 203, 164, 176, 163, 120, 163, 158, 108, 160, 158, 100, 154, 147, 87, 153, 149, 93, 177, 173, 121, 165, 156, 106, 157, 152, 102, 156, 156, 104, 155, 160, 102, 144, 152, 90, 151, 154, 98, 163, 154, 113, 150, 142, 102, 146, 142, 94, 164, 156, 106, 161, 150, 104, 151, 137, 97, 148, 139, 90, 198, 181, 146, 169, 155, 118, 147, 135, 96, 139, 130, 94, 118, 111, 82, 106, 101, 73, 90, 89, 56, 103, 104, 65, 156, 157, 111, 158, 156, 112, 171, 166, 126, 205, 204, 156, 196, 194, 141, 173, 163, 115, 180, 174, 122, 168, 160, 105, 153, 142, 84, 155, 151, 93, 174, 170, 118, 170, 160, 114, 157, 151, 103, 143, 142, 89, 138, 141, 80, 138, 145, 81, 137, 139, 84, 147, 137, 98, 127, 118, 85, 128, 124, 83, 133, 126, 78, 139, 129, 85, 141, 128, 91, 135, 126, 78, 177, 157, 130, 154, 137, 107, 143, 129, 95, 139, 127, 92, 139, 127, 94, 153, 144, 109, 141, 137, 90, 143, 143, 82, 167, 166, 101, 185, 177, 120, 196, 183, 134, 195, 187, 134, 170, 166, 112, 152, 145, 97, 161, 151, 103, 170, 158, 109, 164, 150, 98, 150, 144, 85, 163, 156, 101, 163, 149, 106, 149, 139, 95, 135, 129, 82, 119, 114, 65, 115, 115, 65, 114, 113, 71, 121, 112, 86, 111, 103, 88, 114, 110, 86, 119, 114, 79, 129, 120, 90, 135, 121, 99, 134, 121, 85, 153, 131, 111, 150, 132, 106, 142, 126, 96, 127, 112, 80, 150, 134, 104, 176, 162, 128, 157, 148, 98, 160, 156, 88, 161, 156, 87, 182, 168, 112, 180, 158, 115, 177, 160, 117, 144, 135, 90, 122, 114, 72, 140, 127, 86, 146, 129, 88, 147, 130, 87, 139, 130, 72, 161, 150, 96, 144, 126, 88, 136, 121, 85, 125, 113, 78, 111, 97, 70, 102, 96, 67, 99, 96, 75, 107, 99, 93, 112, 105, 113, 110, 106, 106, 115, 111, 97, 116, 109, 99, 125, 112, 111, 127, 109, 91, 117, 96, 82, 133, 110, 96, 130, 111, 90, 111, 100, 74, 120, 111, 86, 164, 150, 119, 151, 133, 93, 144, 128, 79, 141, 128, 80, 149, 131, 96, 140, 115, 91, 133, 111, 86, 126, 107, 78, 120, 100, 74, 142, 120, 96, 145, 122, 99, 129, 108, 84, 119, 103, 69, 120, 104, 71, 111, 92, 73, 114, 96, 83, 103, 86, 77, 90, 75, 67, 87, 79, 65, 93, 90, 83, 103, 98, 109, 102, 97, 120, 96, 95, 112, 96, 96, 105, 101, 102, 112, 103, 100, 111, 106, 94, 91, 108, 91, 85, 124, 101, 98, 129, 110, 98, 121, 112, 94, 87, 82, 62, 125, 109, 84, 132, 109, 82, 131, 109, 83, 131, 114, 90, 120, 103, 87, 104, 83, 75, 101, 80, 68, 109, 86, 70, 109, 83, 70, 105, 81, 69, 112, 90, 80, 93, 73, 65, 91, 73, 61, 83, 66, 56, 82, 64, 61, 87, 69, 73, 85, 68, 76, 79, 66, 69, 80, 72, 66, 91, 88, 88, 102, 100, 119, 89, 87, 115, 79, 80, 103, 75, 79, 100, 81, 88, 107, 84, 88, 105, 83, 79, 90, 116, 104, 108, 120, 101, 108, 132, 116, 114, 134, 124, 114, 100, 88, 76, 116, 96, 81, 120, 98, 85, 113, 95, 86, 95, 83, 75, 84, 72, 67, 83, 67, 67, 80, 62, 59, 85, 65, 58, 87, 66, 59, 78, 59, 54, 83, 67, 63, 77, 62, 60, 72, 59, 58, 76, 64, 64, 82, 69, 72, 95, 81, 86, 92, 77, 84, 85, 71, 79, 85, 76, 77, 88, 84, 90, 94, 91, 115, 88, 87, 115, 81, 82, 106, 76, 80, 104, 76, 83, 105, 76, 82, 106, 82, 81, 110], \"height\": 32, \"channels\": 3, \"width\": 32, \"type\": \"image\", \"id\": 140151966259088}, {\"format\": \"raw\", \"value\": [190, 188, 189, 190, 185, 187, 203, 195, 198, 172, 161, 160, 198, 188, 184, 213, 207, 205, 207, 204, 203, 208, 206, 208, 205, 201, 206, 208, 204, 209, 204, 201, 205, 206, 202, 206, 213, 208, 214, 220, 215, 221, 222, 217, 223, 220, 215, 221, 221, 216, 222, 218, 213, 220, 223, 218, 224, 222, 217, 223, 225, 219, 228, 229, 223, 233, 229, 223, 233, 222, 216, 226, 227, 221, 229, 231, 226, 232, 237, 232, 238, 240, 235, 241, 242, 237, 243, 225, 221, 226, 216, 211, 217, 220, 215, 221, 212, 208, 206, 207, 200, 200, 213, 203, 204, 171, 159, 149, 151, 141, 124, 207, 199, 187, 133, 128, 121, 188, 183, 180, 225, 218, 218, 219, 212, 214, 213, 206, 210, 214, 207, 214, 209, 204, 210, 211, 206, 212, 223, 218, 224, 224, 219, 225, 224, 219, 225, 217, 212, 218, 214, 209, 215, 223, 218, 224, 237, 232, 240, 236, 230, 240, 228, 222, 232, 228, 222, 232, 234, 229, 237, 229, 224, 230, 211, 206, 212, 235, 230, 236, 243, 238, 244, 229, 225, 230, 222, 217, 223, 226, 221, 227, 206, 201, 197, 199, 190, 188, 208, 196, 195, 210, 197, 180, 195, 183, 160, 161, 151, 136, 45, 36, 30, 124, 116, 111, 221, 213, 207, 212, 202, 202, 224, 213, 219, 225, 215, 224, 234, 228, 235, 226, 221, 227, 224, 219, 225, 223, 218, 224, 230, 225, 231, 235, 230, 236, 237, 232, 238, 228, 223, 229, 223, 218, 226, 213, 207, 217, 218, 212, 222, 224, 218, 228, 231, 226, 234, 234, 229, 235, 219, 214, 220, 228, 224, 229, 231, 226, 231, 232, 227, 233, 216, 211, 217, 210, 205, 211, 185, 177, 172, 190, 178, 175, 200, 186, 183, 166, 151, 134, 141, 127, 105, 86, 74, 63, 25, 14, 13, 73, 63, 60, 191, 181, 171, 207, 196, 193, 219, 206, 212, 222, 210, 221, 229, 223, 230, 234, 229, 234, 229, 224, 229, 228, 223, 228, 223, 218, 223, 212, 207, 213, 218, 213, 219, 218, 212, 218, 211, 205, 213, 212, 206, 216, 206, 200, 209, 204, 199, 208, 209, 204, 212, 227, 222, 228, 231, 226, 232, 217, 212, 218, 218, 214, 219, 240, 235, 241, 214, 209, 214, 194, 190, 195, 212, 199, 205, 218, 206, 206, 194, 182, 171, 69, 60, 47, 57, 50, 37, 71, 65, 52, 33, 28, 23, 48, 40, 33, 158, 147, 131, 220, 210, 197, 225, 214, 214, 217, 205, 216, 223, 213, 224, 223, 216, 222, 210, 207, 205, 209, 208, 203, 211, 206, 211, 202, 196, 203, 211, 203, 209, 216, 206, 212, 213, 206, 213, 222, 217, 224, 222, 217, 224, 214, 208, 215, 204, 199, 205, 214, 209, 215, 207, 202, 208, 217, 212, 218, 224, 218, 225, 234, 228, 237, 211, 207, 210, 185, 185, 180, 224, 215, 225, 190, 182, 184, 131, 126, 110, 65, 62, 48, 52, 50, 37, 73, 72, 53, 47, 46, 33, 48, 40, 26, 107, 93, 67, 171, 158, 131, 219, 205, 190, 238, 224, 223, 236, 225, 232, 235, 228, 234, 227, 224, 227, 227, 227, 228, 227, 223, 231, 229, 225, 233, 228, 223, 231, 225, 218, 226, 225, 219, 226, 224, 219, 225, 228, 223, 229, 230, 225, 231, 231, 226, 232, 236, 231, 237, 230, 225, 231, 218, 213, 219, 201, 196, 202, 219, 213, 220, 191, 190, 189, 152, 156, 143, 161, 161, 168, 78, 78, 81, 105, 108, 95, 107, 107, 92, 91, 89, 72, 90, 89, 67, 74, 73, 56, 66, 58, 39, 105, 90, 57, 124, 108, 70, 153, 134, 101, 227, 208, 188, 233, 223, 217, 241, 234, 234, 239, 234, 241, 242, 239, 250, 243, 239, 247, 243, 240, 246, 232, 230, 238, 231, 231, 240, 230, 228, 235, 229, 224, 230, 232, 227, 233, 232, 227, 233, 226, 221, 227, 231, 226, 232, 235, 230, 236, 232, 227, 233, 212, 207, 212, 222, 220, 221, 187, 189, 181, 123, 130, 111, 185, 186, 193, 73, 74, 80, 89, 93, 87, 115, 115, 106, 93, 90, 78, 64, 63, 45, 60, 58, 46, 58, 53, 39, 107, 96, 69, 115, 101, 64, 120, 100, 63, 167, 144, 115, 192, 175, 153, 225, 211, 195, 241, 229, 223, 247, 237, 236, 248, 238, 236, 246, 238, 237, 241, 237, 240, 240, 241, 247, 245, 242, 248, 237, 232, 238, 232, 227, 233, 234, 229, 235, 228, 223, 229, 225, 220, 226, 223, 218, 224, 225, 220, 226, 206, 202, 207, 183, 185, 180, 156, 162, 147, 107, 119, 93, 230, 227, 236, 194, 191, 200, 170, 168, 170, 191, 188, 188, 143, 140, 136, 55, 52, 43, 37, 33, 30, 30, 27, 25, 75, 72, 58, 117, 109, 82, 133, 118, 86, 129, 107, 77, 120, 94, 58, 169, 145, 112, 202, 181, 152, 214, 194, 169, 230, 210, 195, 235, 217, 207, 235, 225, 220, 247, 243, 243, 246, 242, 246, 238, 232, 238, 236, 231, 237, 242, 237, 243, 232, 227, 234, 229, 224, 230, 234, 229, 235, 219, 214, 221, 208, 205, 208, 158, 163, 152, 116, 126, 105, 97, 111, 79, 233, 226, 233, 234, 226, 234, 244, 237, 241, 239, 233, 238, 224, 219, 221, 105, 101, 96, 36, 33, 24, 28, 27, 20, 47, 48, 39, 76, 75, 56, 99, 92, 68, 82, 71, 42, 98, 83, 45, 166, 146, 119, 159, 137, 110, 129, 105, 68, 152, 122, 91, 183, 153, 126, 180, 153, 129, 203, 176, 156, 219, 195, 179, 234, 215, 204, 243, 230, 222, 245, 237, 234, 245, 237, 240, 242, 234, 241, 235, 231, 236, 227, 228, 230, 220, 225, 222, 167, 177, 159, 97, 109, 79, 70, 82, 49, 227, 218, 224, 228, 220, 226, 237, 228, 234, 225, 219, 226, 234, 231, 235, 164, 161, 157, 63, 62, 49, 38, 39, 26, 55, 57, 46, 66, 67, 51, 52, 49, 28, 58, 55, 26, 82, 79, 46, 155, 144, 127, 152, 134, 116, 99, 77, 42, 124, 97, 59, 159, 128, 93, 160, 125, 91, 154, 116, 83, 167, 126, 92, 181, 143, 109, 191, 159, 128, 191, 163, 136, 196, 173, 156, 212, 194, 188, 228, 217, 210, 229, 225, 218, 229, 230, 222, 179, 186, 173, 110, 119, 93, 72, 80, 51, 223, 218, 222, 225, 220, 224, 233, 228, 232, 231, 228, 233, 216, 215, 220, 191, 191, 190, 105, 105, 99, 51, 53, 45, 57, 59, 48, 56, 57, 41, 65, 63, 41, 83, 79, 52, 84, 79, 51, 133, 123, 105, 127, 113, 93, 102, 85, 53, 111, 92, 56, 128, 106, 73, 139, 113, 81, 131, 102, 71, 124, 93, 61, 133, 101, 65, 150, 115, 77, 152, 113, 73, 142, 106, 67, 128, 100, 68, 159, 134, 108, 210, 189, 170, 232, 216, 205, 222, 219, 218, 189, 189, 180, 123, 127, 110, 183, 182, 176, 196, 196, 189, 219, 219, 213, 225, 225, 222, 216, 217, 214, 215, 217, 212, 156, 158, 151, 73, 75, 68, 66, 68, 57, 62, 63, 47, 81, 79, 57, 90, 86, 60, 101, 95, 73, 117, 109, 89, 95, 86, 63, 82, 72, 43, 85, 76, 44, 100, 89, 58, 105, 90, 60, 94, 76, 47, 74, 63, 40, 76, 69, 47, 91, 78, 51, 106, 87, 56, 125, 101, 64, 130, 102, 59, 121, 93, 57, 136, 108, 80, 182, 158, 140, 227, 214, 211, 224, 215, 214, 167, 164, 157, 148, 152, 130, 138, 141, 120, 161, 164, 143, 180, 185, 167, 181, 187, 172, 173, 179, 164, 160, 165, 152, 107, 111, 100, 67, 69, 58, 73, 74, 57, 88, 86, 63, 82, 77, 53, 92, 83, 67, 94, 86, 66, 69, 63, 38, 67, 63, 36, 70, 69, 40, 79, 77, 47, 86, 81, 52, 80, 71, 43, 64, 60, 36, 61, 59, 37, 66, 62, 37, 75, 70, 43, 101, 89, 58, 113, 95, 59, 101, 81, 47, 122, 100, 68, 121, 100, 70, 172, 153, 134, 217, 202, 197, 191, 183, 182, 152, 159, 131, 140, 147, 118, 138, 146, 116, 140, 149, 120, 154, 162, 137, 152, 159, 137, 165, 169, 150, 130, 133, 119, 72, 72, 65, 95, 94, 83, 95, 93, 73, 89, 85, 59, 87, 80, 58, 70, 67, 42, 55, 52, 27, 63, 57, 35, 60, 59, 36, 59, 60, 36, 74, 73, 50, 72, 69, 47, 64, 62, 38, 57, 56, 30, 52, 49, 24, 63, 59, 35, 89, 83, 59, 98, 88, 63, 101, 89, 62, 142, 127, 102, 159, 142, 121, 149, 134, 114, 198, 183, 178, 177, 169, 167, 137, 143, 118, 135, 140, 115, 131, 136, 110, 143, 149, 120, 142, 148, 119, 142, 149, 123, 157, 164, 140, 145, 149, 133, 113, 112, 106, 102, 99, 94, 95, 92, 76, 101, 98, 70, 90, 85, 58, 61, 62, 37, 59, 58, 37, 60, 50, 35, 53, 48, 32, 49, 46, 29, 49, 46, 29, 49, 46, 29, 50, 53, 34, 39, 44, 25, 36, 38, 19, 52, 50, 32, 77, 72, 55, 85, 78, 57, 97, 87, 64, 141, 126, 111, 197, 181, 173, 181, 171, 159, 203, 188, 186, 160, 153, 146, 128, 130, 110, 141, 143, 124, 147, 149, 132, 156, 157, 131, 142, 147, 115, 139, 151, 121, 112, 132, 102, 135, 151, 127, 150, 156, 142, 95, 96, 87, 80, 78, 61, 104, 100, 74, 89, 84, 64, 47, 49, 30, 54, 58, 42, 61, 58, 46, 67, 62, 47, 66, 60, 44, 52, 46, 30, 46, 40, 24, 53, 52, 34, 45, 46, 28, 50, 47, 30, 74, 67, 51, 95, 89, 72, 88, 83, 62, 95, 88, 64, 135, 123, 107, 186, 172, 163, 178, 168, 153, 174, 160, 150, 137, 131, 120, 132, 140, 113, 128, 135, 113, 132, 138, 121, 129, 135, 107, 135, 145, 109, 116, 135, 99, 87, 114, 79, 119, 144, 112, 148, 162, 139, 116, 122, 107, 57, 55, 38, 84, 78, 55, 90, 86, 67, 60, 67, 47, 69, 80, 62, 73, 79, 65, 82, 83, 66, 93, 92, 74, 100, 100, 82, 111, 111, 93, 101, 103, 85, 76, 79, 60, 54, 54, 36, 78, 73, 57, 97, 93, 75, 85, 83, 61, 83, 79, 54, 122, 114, 96, 167, 155, 145, 141, 132, 113, 134, 122, 103, 127, 121, 105, 119, 141, 99, 110, 130, 97, 113, 132, 106, 112, 133, 97, 119, 142, 99, 92, 117, 76, 83, 110, 72, 110, 136, 100, 134, 154, 124, 111, 120, 101, 60, 57, 40, 73, 65, 42, 109, 107, 81, 91, 102, 75, 80, 99, 73, 85, 101, 78, 107, 119, 97, 140, 150, 129, 154, 165, 143, 137, 148, 126, 81, 93, 71, 61, 73, 50, 68, 77, 55, 86, 91, 71, 89, 92, 71, 83, 84, 60, 78, 77, 50, 105, 99, 81, 153, 143, 133, 117, 110, 87, 123, 112, 85, 115, 111, 91, 102, 131, 82, 115, 142, 102, 108, 135, 97, 96, 123, 82, 85, 113, 70, 73, 99, 59, 71, 95, 58, 81, 106, 69, 91, 116, 80, 87, 103, 78, 63, 65, 46, 75, 69, 49, 99, 100, 73, 74, 95, 58, 80, 107, 70, 84, 104, 75, 85, 106, 79, 106, 128, 101, 103, 123, 97, 81, 99, 74, 76, 94, 72, 74, 89, 71, 71, 83, 66, 80, 89, 72, 97, 101, 84, 100, 99, 79, 94, 91, 68, 104, 99, 79, 139, 132, 115, 98, 91, 62, 114, 103, 72, 120, 113, 93, 79, 103, 71, 90, 113, 85, 87, 112, 76, 79, 104, 67, 78, 104, 69, 77, 103, 68, 75, 100, 65, 68, 93, 57, 69, 96, 60, 69, 93, 62, 47, 58, 36, 56, 51, 37, 100, 105, 81, 79, 109, 66, 86, 119, 75, 100, 117, 89, 75, 97, 69, 87, 113, 83, 79, 102, 73, 65, 85, 57, 66, 81, 65, 65, 77, 68, 53, 62, 54, 53, 58, 52, 90, 90, 81, 103, 97, 83, 97, 92, 73, 93, 88, 66, 111, 107, 81, 87, 81, 47, 109, 97, 65, 129, 119, 99, 73, 91, 73, 66, 83, 68, 58, 76, 53, 54, 77, 48, 59, 85, 55, 65, 92, 61, 59, 85, 55, 66, 91, 60, 64, 87, 58, 59, 81, 53, 46, 54, 34, 49, 44, 29, 96, 102, 76, 76, 100, 61, 73, 100, 61, 79, 96, 66, 77, 99, 71, 70, 94, 66, 62, 82, 56, 57, 73, 49, 60, 73, 58, 69, 80, 71, 98, 105, 97, 110, 114, 107, 119, 118, 109, 100, 94, 80, 86, 80, 62, 77, 72, 50, 94, 90, 64, 90, 85, 55, 85, 75, 47, 114, 106, 86, 98, 111, 84, 89, 101, 78, 76, 89, 59, 51, 70, 41, 44, 66, 43, 57, 79, 55, 63, 85, 61, 66, 86, 63, 49, 68, 46, 58, 76, 54, 51, 56, 38, 48, 42, 26, 93, 98, 75, 70, 85, 60, 72, 90, 64, 73, 89, 63, 64, 84, 60, 58, 78, 56, 67, 82, 61, 64, 77, 56, 85, 95, 82, 111, 119, 111, 123, 128, 121, 125, 125, 120, 142, 139, 130, 117, 111, 97, 79, 73, 55, 78, 73, 51, 79, 75, 52, 99, 96, 73, 68, 59, 35, 90, 84, 65, 105, 113, 88, 126, 133, 112, 107, 115, 87, 88, 98, 76, 73, 84, 69, 80, 91, 76, 66, 76, 62, 58, 71, 56, 57, 73, 58, 44, 59, 41, 51, 53, 35, 63, 55, 39, 73, 77, 64, 63, 69, 64, 77, 86, 80, 61, 76, 59, 43, 61, 41, 51, 67, 48, 76, 88, 70, 98, 108, 91, 109, 116, 105, 103, 107, 100, 87, 88, 82, 82, 79, 75, 133, 128, 120, 125, 119, 104, 83, 77, 59, 76, 71, 48, 85, 82, 59, 75, 73, 56, 65, 58, 37, 83, 80, 61, 121, 121, 114, 158, 157, 153, 155, 155, 145, 155, 155, 143, 156, 154, 145, 154, 152, 143, 131, 129, 120, 118, 120, 110, 71, 81, 69, 51, 62, 49, 60, 59, 44, 78, 69, 54, 82, 84, 78, 113, 114, 119, 150, 154, 158, 112, 122, 117, 71, 85, 72, 61, 74, 60, 91, 101, 88, 106, 115, 102, 113, 119, 110, 99, 102, 96, 89, 90, 85, 58, 57, 53, 90, 86, 80, 130, 125, 112, 110, 106, 86, 86, 82, 58, 89, 87, 65, 90, 90, 73, 102, 99, 79, 96, 95, 75, 87, 83, 82, 132, 128, 127, 148, 144, 143, 153, 147, 141, 174, 167, 159, 187, 180, 172, 201, 193, 186, 204, 198, 188, 146, 146, 134, 110, 114, 108, 82, 80, 69, 87, 77, 61, 65, 66, 59, 96, 99, 95, 159, 161, 160, 135, 138, 139, 103, 110, 106, 99, 107, 101, 117, 125, 119, 126, 134, 128, 159, 163, 159, 146, 149, 146, 101, 104, 100, 48, 51, 47, 36, 35, 33, 109, 106, 98, 125, 123, 101, 112, 111, 85, 97, 96, 75, 96, 96, 75, 103, 102, 79, 88, 86, 65, 38, 37, 40, 62, 61, 64, 95, 93, 97, 110, 106, 107, 147, 142, 141, 163, 158, 157, 163, 158, 157, 164, 160, 158, 154, 154, 150, 156, 159, 152, 94, 94, 75, 85, 81, 56, 64, 68, 59, 56, 61, 55, 88, 92, 89, 91, 95, 94, 78, 81, 78, 128, 130, 126, 182, 184, 181, 180, 182, 179, 182, 182, 179, 179, 178, 175, 163, 162, 159, 128, 127, 124, 42, 41, 39, 47, 47, 41, 80, 82, 65, 95, 97, 75, 91, 92, 71, 84, 81, 57, 98, 93, 74, 100, 95, 81, 101, 104, 115, 120, 122, 133, 129, 131, 142, 144, 145, 155, 172, 171, 179, 172, 171, 180, 161, 160, 169, 142, 143, 152, 127, 130, 135, 138, 139, 135, 93, 94, 75, 87, 89, 67, 90, 98, 91, 48, 56, 53, 82, 89, 90, 71, 77, 81, 62, 64, 66, 82, 83, 84, 103, 104, 106, 119, 120, 122, 150, 149, 151, 160, 157, 160, 167, 164, 167, 182, 180, 182, 114, 114, 117, 30, 34, 36, 25, 30, 27, 81, 87, 76, 147, 151, 133, 86, 80, 59, 64, 58, 50, 58, 55, 53, 171, 178, 195, 180, 187, 203, 191, 197, 214, 198, 203, 220, 200, 203, 221, 201, 205, 222, 206, 209, 226, 189, 195, 213, 137, 143, 156, 145, 143, 145, 120, 118, 114, 133, 137, 136, 157, 166, 173, 153, 162, 172, 176, 184, 198, 179, 186, 202, 175, 182, 195, 167, 174, 186, 149, 156, 168, 145, 152, 165, 164, 169, 182, 174, 177, 191, 181, 184, 198, 185, 188, 202, 179, 184, 198, 158, 164, 182, 147, 153, 172, 119, 127, 136, 88, 95, 89, 87, 86, 72, 112, 113, 119, 103, 109, 124, 176, 186, 207, 167, 176, 197, 190, 198, 219, 195, 202, 224, 191, 197, 220, 188, 194, 217, 182, 188, 210, 169, 179, 200, 157, 166, 182, 152, 152, 162, 125, 125, 137, 141, 147, 165, 163, 173, 192, 169, 179, 198, 168, 177, 201, 174, 183, 209, 186, 199, 220, 189, 203, 224, 194, 207, 229, 196, 210, 231, 191, 203, 224, 188, 198, 219, 175, 184, 207, 171, 181, 204, 170, 180, 205, 166, 176, 205, 165, 173, 205, 145, 154, 176, 94, 103, 107, 88, 93, 87, 127, 134, 152, 141, 155, 183, 185, 194, 211, 186, 194, 211, 186, 193, 211, 165, 173, 191, 176, 185, 204, 167, 176, 196, 164, 173, 193, 157, 168, 186, 109, 123, 138, 81, 94, 108, 89, 102, 116, 125, 140, 156, 135, 152, 169, 149, 166, 183, 152, 169, 187, 145, 162, 180, 149, 165, 181, 161, 176, 195, 169, 184, 208, 158, 173, 197, 160, 176, 194, 156, 171, 187, 154, 168, 190, 159, 172, 198, 152, 166, 194, 148, 162, 190, 146, 158, 180, 150, 158, 174, 155, 163, 167, 113, 123, 118, 125, 135, 155, 127, 141, 172, 152, 160, 173, 161, 169, 182, 152, 160, 173, 141, 151, 166, 149, 162, 178, 134, 147, 163, 135, 147, 163, 135, 148, 162, 122, 137, 148, 118, 133, 144, 117, 132, 143, 121, 137, 148, 113, 132, 145, 134, 152, 166, 144, 163, 176, 145, 163, 176, 141, 157, 172, 150, 166, 181, 160, 176, 195, 157, 172, 195, 155, 171, 189, 142, 158, 174, 154, 170, 188, 157, 172, 194, 154, 169, 194, 153, 167, 190, 152, 164, 181, 117, 127, 138, 79, 89, 93, 83, 97, 95, 125, 139, 159, 142, 157, 186], \"height\": 32, \"channels\": 3, \"width\": 32, \"type\": \"image\", \"id\": 140151966259024}, {\"format\": \"raw\", \"value\": [105, 123, 48, 105, 123, 57, 96, 127, 45, 128, 149, 82, 125, 136, 96, 120, 145, 76, 118, 147, 55, 77, 107, 35, 78, 109, 38, 100, 133, 49, 135, 151, 88, 150, 158, 130, 150, 151, 125, 142, 158, 106, 101, 136, 67, 80, 116, 48, 132, 151, 111, 128, 148, 86, 97, 127, 39, 88, 129, 41, 87, 132, 39, 79, 119, 35, 83, 116, 44, 86, 115, 39, 98, 122, 45, 102, 135, 46, 90, 126, 42, 95, 127, 34, 124, 139, 78, 124, 129, 91, 100, 107, 62, 101, 97, 61, 98, 119, 45, 100, 132, 46, 99, 134, 38, 114, 139, 60, 130, 142, 105, 126, 138, 93, 138, 160, 85, 96, 124, 44, 79, 107, 39, 85, 121, 39, 110, 139, 58, 133, 152, 96, 151, 156, 131, 128, 143, 107, 89, 119, 58, 77, 105, 47, 120, 140, 86, 130, 153, 83, 112, 132, 55, 90, 118, 46, 86, 122, 36, 95, 132, 44, 96, 122, 46, 82, 113, 41, 85, 114, 39, 111, 132, 55, 99, 125, 54, 111, 135, 49, 139, 144, 82, 111, 122, 74, 98, 116, 51, 106, 125, 51, 86, 112, 39, 97, 120, 42, 106, 127, 43, 107, 132, 54, 122, 141, 78, 121, 134, 95, 123, 145, 90, 92, 130, 38, 95, 121, 54, 86, 118, 47, 83, 120, 39, 119, 143, 72, 143, 153, 124, 114, 136, 93, 83, 111, 50, 82, 112, 51, 99, 128, 61, 133, 159, 87, 108, 133, 61, 87, 110, 41, 131, 149, 71, 148, 163, 93, 128, 141, 79, 94, 127, 47, 103, 133, 64, 128, 143, 90, 104, 123, 75, 128, 144, 80, 162, 168, 110, 126, 136, 81, 99, 116, 47, 104, 119, 43, 82, 103, 41, 100, 116, 47, 127, 145, 56, 115, 138, 56, 120, 147, 67, 124, 137, 96, 147, 164, 111, 100, 145, 47, 110, 140, 69, 104, 129, 67, 100, 127, 72, 148, 156, 111, 142, 148, 105, 113, 132, 86, 80, 110, 45, 75, 108, 42, 89, 121, 61, 98, 130, 58, 87, 123, 44, 78, 106, 42, 148, 166, 91, 147, 166, 86, 123, 143, 81, 102, 132, 55, 135, 155, 102, 133, 151, 110, 122, 144, 100, 117, 141, 82, 139, 154, 92, 138, 146, 84, 97, 100, 51, 102, 101, 45, 122, 126, 74, 109, 124, 56, 130, 157, 68, 129, 147, 77, 140, 157, 111, 141, 149, 114, 147, 164, 113, 109, 152, 60, 131, 160, 79, 124, 150, 83, 109, 137, 81, 146, 150, 102, 142, 139, 97, 132, 145, 107, 103, 129, 63, 94, 129, 47, 81, 120, 48, 85, 117, 45, 100, 130, 53, 74, 106, 40, 116, 145, 58, 134, 161, 66, 101, 136, 52, 107, 133, 53, 119, 137, 74, 103, 129, 73, 105, 134, 75, 89, 126, 43, 101, 129, 52, 120, 137, 71, 110, 120, 78, 113, 119, 60, 149, 145, 111, 132, 141, 98, 114, 139, 60, 124, 144, 79, 152, 166, 114, 134, 160, 83, 105, 137, 55, 103, 137, 56, 134, 159, 85, 118, 146, 70, 96, 127, 56, 130, 139, 79, 150, 154, 113, 135, 156, 87, 116, 146, 57, 90, 124, 48, 69, 103, 42, 93, 126, 53, 112, 142, 60, 90, 122, 48, 106, 131, 48, 125, 153, 53, 99, 134, 46, 103, 132, 49, 112, 136, 56, 90, 117, 49, 65, 90, 31, 72, 103, 30, 104, 133, 48, 137, 151, 97, 126, 142, 97, 116, 132, 67, 120, 134, 78, 128, 133, 107, 101, 120, 58, 107, 127, 56, 127, 149, 81, 124, 156, 62, 89, 131, 32, 82, 117, 43, 109, 136, 69, 70, 88, 49, 85, 104, 70, 114, 134, 75, 106, 126, 66, 108, 130, 73, 66, 76, 52, 54, 62, 54, 55, 63, 58, 61, 83, 48, 80, 119, 43, 97, 136, 48, 113, 148, 44, 116, 148, 53, 137, 153, 94, 133, 155, 71, 141, 167, 77, 125, 150, 70, 70, 84, 40, 81, 108, 42, 105, 137, 52, 136, 152, 109, 123, 129, 85, 121, 134, 85, 126, 134, 74, 102, 126, 61, 97, 133, 42, 110, 134, 51, 108, 127, 54, 107, 139, 56, 105, 140, 58, 83, 109, 44, 63, 77, 54, 48, 43, 51, 54, 50, 53, 54, 60, 62, 57, 61, 59, 45, 49, 53, 38, 31, 33, 50, 43, 42, 38, 37, 48, 47, 57, 46, 83, 122, 49, 77, 116, 36, 77, 123, 21, 153, 180, 85, 147, 158, 90, 127, 150, 70, 142, 167, 81, 126, 159, 73, 94, 125, 44, 85, 120, 38, 103, 132, 40, 107, 129, 55, 109, 118, 83, 152, 160, 138, 134, 147, 84, 97, 133, 50, 106, 141, 45, 95, 133, 40, 91, 122, 44, 86, 126, 38, 111, 138, 54, 78, 92, 55, 44, 42, 44, 82, 63, 55, 51, 40, 37, 39, 37, 49, 51, 51, 64, 44, 44, 57, 47, 45, 49, 53, 44, 44, 43, 40, 40, 38, 39, 41, 54, 65, 42, 82, 107, 40, 116, 147, 51, 151, 162, 93, 142, 152, 81, 118, 143, 70, 119, 151, 66, 116, 152, 68, 97, 128, 48, 94, 122, 47, 108, 134, 46, 103, 134, 44, 97, 129, 50, 106, 130, 60, 125, 142, 63, 83, 120, 35, 79, 113, 37, 87, 125, 42, 87, 124, 43, 105, 142, 52, 113, 137, 53, 79, 97, 47, 44, 43, 40, 48, 37, 39, 39, 34, 39, 58, 56, 58, 57, 55, 61, 75, 69, 69, 54, 50, 56, 31, 28, 34, 43, 44, 37, 39, 45, 27, 31, 35, 31, 100, 128, 53, 138, 168, 59, 110, 132, 59, 113, 142, 67, 89, 121, 50, 108, 140, 57, 88, 122, 46, 82, 114, 40, 115, 138, 60, 113, 137, 54, 99, 132, 53, 95, 125, 47, 100, 119, 47, 126, 151, 60, 82, 128, 32, 69, 101, 30, 93, 132, 39, 85, 129, 40, 73, 112, 36, 108, 129, 65, 118, 125, 84, 56, 72, 44, 25, 26, 26, 34, 32, 37, 71, 62, 59, 62, 57, 62, 84, 73, 70, 61, 55, 55, 23, 24, 26, 59, 70, 39, 82, 101, 43, 60, 68, 44, 96, 120, 57, 111, 145, 56, 111, 140, 67, 109, 145, 60, 80, 113, 38, 100, 133, 48, 72, 98, 39, 86, 123, 40, 116, 157, 50, 104, 130, 54, 113, 140, 66, 88, 116, 40, 100, 112, 61, 104, 134, 50, 82, 125, 29, 78, 118, 36, 83, 128, 33, 78, 121, 36, 66, 102, 34, 104, 125, 75, 134, 139, 98, 72, 102, 47, 32, 35, 19, 41, 32, 31, 51, 47, 51, 55, 55, 63, 55, 54, 63, 52, 46, 50, 50, 41, 36, 79, 93, 48, 103, 134, 54, 81, 96, 52, 102, 117, 57, 113, 143, 59, 142, 159, 91, 136, 159, 75, 107, 135, 54, 112, 145, 52, 79, 98, 44, 107, 135, 45, 113, 155, 37, 102, 134, 53, 122, 153, 61, 101, 131, 40, 110, 128, 71, 98, 116, 46, 85, 122, 41, 84, 126, 44, 82, 121, 43, 80, 116, 47, 87, 115, 48, 93, 124, 51, 99, 127, 63, 73, 111, 52, 61, 62, 36, 69, 52, 37, 55, 53, 58, 82, 81, 90, 60, 62, 72, 54, 49, 52, 83, 65, 51, 72, 82, 47, 94, 133, 49, 91, 117, 53, 91, 119, 51, 120, 149, 75, 146, 158, 102, 135, 158, 76, 114, 146, 57, 126, 151, 71, 117, 128, 74, 135, 150, 65, 101, 135, 37, 120, 153, 56, 125, 151, 60, 105, 127, 50, 111, 126, 63, 141, 151, 74, 98, 133, 52, 82, 123, 39, 83, 115, 40, 87, 118, 50, 89, 122, 45, 112, 129, 59, 109, 134, 67, 70, 113, 50, 67, 66, 41, 92, 67, 43, 54, 47, 49, 80, 77, 83, 54, 54, 61, 62, 53, 48, 85, 67, 58, 65, 73, 52, 88, 130, 46, 90, 128, 51, 83, 125, 46, 100, 127, 57, 146, 165, 104, 133, 159, 78, 111, 143, 51, 140, 160, 101, 145, 155, 92, 157, 165, 112, 116, 144, 69, 109, 139, 48, 111, 136, 51, 95, 117, 46, 112, 122, 70, 138, 156, 72, 83, 110, 42, 70, 99, 39, 81, 112, 46, 87, 116, 47, 80, 108, 36, 99, 115, 52, 109, 138, 65, 64, 96, 38, 50, 54, 38, 92, 72, 54, 62, 56, 49, 64, 58, 59, 43, 37, 42, 62, 57, 54, 58, 51, 52, 51, 57, 51, 73, 111, 43, 68, 110, 31, 65, 101, 27, 83, 110, 37, 113, 138, 64, 123, 148, 65, 132, 148, 73, 157, 168, 127, 149, 163, 111, 152, 171, 116, 133, 163, 97, 107, 142, 45, 109, 135, 46, 98, 118, 51, 117, 130, 78, 99, 121, 47, 79, 98, 42, 68, 98, 39, 95, 130, 56, 108, 130, 66, 117, 140, 59, 87, 130, 40, 82, 125, 30, 65, 98, 36, 31, 34, 27, 74, 60, 56, 92, 82, 72, 69, 68, 70, 60, 58, 60, 42, 39, 40, 32, 28, 32, 43, 41, 46, 57, 86, 37, 90, 130, 43, 88, 119, 44, 85, 109, 45, 129, 137, 86, 122, 142, 71, 100, 129, 60, 135, 150, 113, 117, 142, 76, 100, 144, 45, 98, 135, 56, 107, 140, 47, 122, 145, 64, 140, 150, 100, 144, 141, 96, 95, 106, 50, 120, 118, 69, 94, 113, 52, 96, 128, 46, 100, 127, 44, 111, 153, 48, 101, 136, 50, 81, 107, 48, 82, 102, 49, 27, 31, 25, 44, 23, 26, 128, 96, 85, 136, 117, 105, 96, 74, 69, 30, 25, 26, 26, 23, 31, 38, 38, 36, 62, 91, 36, 107, 143, 66, 97, 133, 54, 93, 122, 51, 134, 146, 88, 122, 141, 92, 86, 113, 55, 135, 154, 104, 130, 140, 68, 88, 108, 41, 83, 122, 31, 99, 141, 37, 114, 144, 49, 133, 153, 83, 155, 158, 115, 105, 119, 53, 136, 140, 73, 102, 126, 51, 118, 140, 61, 106, 139, 54, 88, 126, 38, 123, 139, 71, 130, 135, 110, 131, 128, 97, 48, 47, 49, 27, 24, 28, 75, 55, 61, 141, 87, 87, 106, 59, 59, 26, 22, 28, 25, 24, 33, 31, 32, 33, 62, 88, 41, 93, 122, 56, 95, 130, 52, 126, 155, 81, 133, 149, 96, 118, 139, 79, 133, 147, 95, 160, 169, 110, 131, 126, 74, 83, 93, 45, 89, 123, 40, 108, 139, 43, 129, 146, 70, 138, 148, 114, 160, 166, 127, 114, 134, 53, 106, 125, 54, 108, 134, 49, 129, 148, 62, 104, 138, 48, 81, 110, 33, 82, 113, 41, 103, 116, 82, 146, 140, 105, 55, 52, 54, 22, 24, 29, 34, 55, 68, 93, 101, 107, 75, 70, 69, 20, 19, 24, 23, 22, 28, 26, 24, 33, 73, 86, 63, 109, 126, 68, 124, 145, 90, 132, 153, 82, 139, 156, 109, 166, 174, 138, 152, 160, 101, 158, 159, 111, 125, 125, 78, 97, 116, 54, 96, 118, 55, 101, 123, 46, 134, 155, 98, 155, 153, 114, 151, 156, 100, 106, 119, 52, 84, 95, 45, 109, 122, 52, 112, 126, 54, 85, 124, 38, 79, 108, 36, 83, 110, 51, 133, 141, 112, 151, 142, 100, 53, 50, 46, 20, 20, 24, 29, 40, 47, 124, 126, 127, 124, 119, 117, 27, 25, 30, 28, 27, 33, 39, 34, 38, 84, 92, 76, 135, 143, 90, 149, 157, 120, 124, 144, 92, 127, 144, 92, 149, 159, 116, 153, 164, 107, 162, 169, 129, 124, 139, 79, 93, 117, 57, 94, 119, 59, 93, 129, 39, 109, 145, 65, 147, 154, 103, 148, 158, 103, 105, 119, 54, 75, 89, 35, 103, 121, 54, 107, 119, 58, 84, 115, 37, 94, 112, 48, 100, 115, 68, 116, 120, 99, 133, 130, 88, 73, 69, 64, 27, 25, 29, 35, 33, 33, 153, 146, 137, 178, 171, 159, 74, 67, 58, 77, 68, 66, 92, 82, 76, 73, 84, 56, 121, 134, 75, 103, 124, 63, 91, 113, 55, 125, 137, 86, 147, 156, 100, 139, 152, 96, 122, 139, 85, 107, 137, 58, 86, 119, 45, 96, 129, 51, 95, 131, 52, 133, 166, 89, 144, 158, 88, 146, 155, 100, 85, 106, 40, 84, 107, 37, 109, 135, 52, 81, 99, 47, 82, 109, 41, 97, 116, 48, 99, 118, 50, 80, 94, 44, 128, 133, 92, 139, 131, 118, 110, 94, 79, 121, 108, 82, 163, 160, 121, 176, 170, 137, 145, 130, 96, 152, 135, 119, 127, 119, 121, 91, 99, 60, 139, 136, 75, 86, 100, 48, 95, 123, 54, 133, 155, 82, 151, 163, 93, 133, 141, 78, 95, 113, 58, 109, 146, 58, 93, 135, 45, 92, 129, 45, 88, 119, 55, 121, 146, 81, 127, 148, 62, 140, 149, 76, 78, 89, 40, 123, 129, 61, 119, 144, 54, 94, 127, 45, 88, 109, 47, 85, 98, 44, 98, 129, 29, 96, 118, 31, 133, 136, 88, 150, 138, 112, 204, 172, 137, 196, 173, 135, 157, 151, 103, 149, 141, 90, 172, 154, 119, 150, 136, 114, 86, 83, 85, 81, 92, 52, 103, 115, 49, 81, 97, 54, 117, 146, 76, 135, 165, 82, 136, 152, 65, 156, 158, 94, 151, 167, 124, 149, 175, 106, 127, 160, 98, 83, 118, 45, 69, 94, 39, 81, 106, 48, 97, 133, 41, 100, 125, 46, 104, 113, 56, 126, 124, 63, 118, 136, 52, 127, 163, 56, 106, 121, 43, 134, 139, 56, 83, 104, 35, 83, 104, 29, 106, 102, 55, 93, 83, 66, 153, 130, 98, 121, 108, 88, 133, 124, 98, 142, 142, 86, 146, 145, 95, 135, 119, 98, 48, 49, 41, 69, 84, 39, 83, 110, 42, 106, 125, 68, 145, 155, 82, 145, 161, 106, 145, 158, 93, 158, 162, 109, 158, 174, 138, 164, 186, 105, 153, 176, 103, 115, 145, 69, 95, 117, 64, 97, 123, 57, 118, 159, 59, 103, 143, 51, 100, 119, 54, 100, 122, 48, 121, 141, 60, 134, 146, 72, 85, 85, 34, 141, 158, 55, 99, 118, 48, 109, 116, 52, 146, 137, 78, 108, 89, 69, 62, 53, 45, 60, 51, 45, 134, 124, 100, 160, 161, 130, 128, 131, 80, 143, 124, 78, 73, 70, 45, 106, 112, 56, 129, 132, 74, 126, 133, 69, 120, 143, 56, 117, 144, 79, 181, 185, 149, 144, 151, 121, 123, 144, 77, 138, 168, 83, 159, 167, 103, 123, 142, 74, 90, 113, 69, 131, 139, 74, 119, 145, 63, 99, 138, 50, 96, 122, 46, 115, 139, 56, 119, 142, 57, 148, 141, 79, 96, 88, 46, 118, 132, 56, 146, 157, 71, 107, 104, 49, 148, 148, 68, 170, 160, 89, 92, 81, 54, 114, 103, 97, 150, 150, 122, 136, 136, 91, 159, 160, 102, 177, 151, 87, 128, 108, 82, 101, 103, 65, 118, 136, 58, 115, 138, 55, 89, 116, 43, 91, 105, 49, 156, 168, 112, 124, 140, 94, 105, 132, 47, 126, 142, 69, 145, 147, 80, 132, 138, 99, 97, 113, 74, 111, 128, 67, 96, 129, 41, 104, 140, 42, 121, 140, 67, 150, 163, 88, 136, 143, 72, 150, 154, 79, 115, 132, 57, 109, 135, 48, 116, 120, 60, 100, 93, 46, 150, 155, 72, 166, 174, 78, 95, 86, 56, 159, 144, 123, 157, 160, 109, 87, 105, 35, 124, 135, 50, 157, 129, 66, 130, 111, 73, 109, 112, 93, 111, 137, 61, 109, 139, 46, 89, 124, 42, 93, 108, 59, 134, 143, 87, 117, 135, 87, 119, 143, 54, 133, 138, 69, 103, 133, 64, 140, 153, 112, 149, 154, 118, 115, 139, 95, 86, 124, 36, 103, 144, 41, 168, 165, 97, 180, 185, 119, 155, 179, 81, 127, 156, 56, 128, 151, 64, 110, 131, 49, 105, 110, 52, 120, 113, 60, 158, 164, 79, 143, 165, 52, 133, 121, 63, 168, 139, 90, 126, 138, 55, 88, 115, 34, 110, 126, 43, 143, 123, 67, 121, 114, 76, 136, 133, 91, 133, 140, 73, 79, 113, 34, 87, 105, 43, 96, 110, 54, 110, 125, 70, 96, 119, 69, 112, 145, 49, 110, 123, 56, 67, 93, 38, 123, 140, 87, 156, 171, 121, 107, 143, 76, 97, 138, 45, 91, 127, 45, 161, 170, 88, 143, 162, 69, 138, 167, 53, 146, 165, 72, 152, 166, 77, 129, 140, 64, 122, 122, 67, 122, 111, 63, 132, 134, 80, 151, 163, 71, 166, 156, 74, 183, 151, 99, 96, 119, 33, 80, 112, 30, 137, 146, 84, 161, 149, 102, 108, 116, 82, 126, 131, 65, 133, 143, 69, 74, 92, 38, 99, 88, 54, 121, 123, 68, 119, 143, 65, 102, 126, 52, 112, 147, 50, 100, 126, 51, 77, 97, 41, 125, 139, 74, 129, 166, 71, 109, 155, 58, 93, 131, 46, 75, 102, 41, 141, 157, 76, 109, 132, 46, 106, 135, 39, 149, 159, 97, 158, 158, 99, 147, 146, 72, 144, 145, 68, 142, 142, 68, 141, 146, 93, 166, 166, 99, 167, 161, 88, 178, 150, 91, 120, 125, 55, 83, 100, 35, 145, 146, 102, 145, 139, 100, 100, 114, 74, 115, 137, 61, 123, 148, 59, 89, 98, 46, 126, 119, 67, 113, 120, 64, 123, 155, 82, 130, 151, 61, 115, 153, 53, 89, 120, 49, 93, 118, 51, 127, 143, 66, 126, 162, 61, 125, 171, 61, 92, 126, 44, 60, 85, 28, 167, 169, 88, 120, 135, 60, 83, 109, 35, 113, 124, 73, 152, 145, 103, 149, 148, 98, 136, 144, 68, 149, 168, 63, 164, 173, 95, 166, 165, 109, 177, 168, 122, 187, 160, 107, 143, 138, 76, 104, 118, 38, 132, 139, 74, 145, 148, 85, 118, 142, 63, 120, 157, 54, 108, 145, 42, 87, 112, 45, 120, 141, 63, 103, 132, 53, 119, 144, 78, 127, 143, 62, 114, 149, 49, 83, 122, 39, 84, 116, 44, 100, 124, 44, 125, 162, 55, 123, 163, 60, 86, 117, 39, 75, 96, 45, 136, 139, 65, 115, 123, 55, 100, 123, 47, 129, 138, 80, 163, 158, 115, 148, 142, 105, 139, 148, 77, 143, 171, 46, 145, 155, 69, 126, 136, 72, 142, 137, 93, 174, 166, 115, 141, 142, 88, 145, 159, 60, 159, 172, 71, 125, 140, 55, 126, 155, 48, 112, 147, 39, 88, 125, 29, 100, 142, 49, 118, 164, 56, 98, 138, 46, 120, 141, 64, 132, 146, 74, 125, 146, 57, 103, 147, 44, 111, 138, 61, 132, 140, 79, 122, 149, 60, 98, 128, 49, 78, 105, 41, 85, 103, 51], \"height\": 32, \"channels\": 3, \"width\": 32, \"type\": \"image\", \"id\": 140151966259152}, {\"format\": \"raw\", \"value\": [71, 33, 49, 51, 30, 40, 53, 30, 39, 84, 63, 49, 158, 131, 106, 201, 186, 152, 213, 189, 152, 192, 145, 112, 191, 126, 108, 223, 149, 138, 216, 143, 130, 182, 116, 101, 175, 130, 104, 194, 174, 142, 117, 89, 84, 64, 30, 45, 59, 27, 46, 55, 45, 46, 54, 56, 48, 24, 25, 21, 20, 20, 20, 20, 20, 21, 18, 18, 18, 18, 18, 18, 18, 18, 18, 20, 20, 20, 21, 21, 21, 22, 22, 22, 23, 23, 23, 25, 25, 25, 40, 40, 38, 59, 60, 53, 89, 31, 58, 84, 37, 62, 83, 43, 57, 71, 45, 30, 118, 92, 68, 183, 165, 133, 212, 189, 153, 219, 179, 144, 209, 153, 130, 219, 154, 137, 212, 143, 125, 191, 126, 105, 189, 149, 117, 160, 143, 115, 114, 61, 84, 102, 38, 78, 72, 30, 43, 54, 45, 38, 46, 47, 41, 26, 26, 23, 24, 24, 23, 21, 21, 22, 18, 18, 18, 18, 18, 18, 20, 20, 20, 23, 23, 23, 25, 25, 25, 20, 20, 20, 18, 18, 18, 19, 19, 20, 26, 26, 25, 31, 32, 27, 107, 31, 71, 109, 38, 77, 105, 51, 69, 81, 53, 36, 87, 61, 39, 149, 128, 100, 200, 177, 143, 223, 192, 156, 223, 192, 157, 211, 176, 146, 208, 168, 142, 196, 162, 136, 165, 140, 111, 128, 95, 82, 114, 51, 86, 86, 32, 68, 75, 61, 54, 89, 92, 76, 69, 70, 64, 39, 40, 36, 32, 32, 32, 26, 26, 27, 19, 19, 19, 22, 22, 22, 24, 24, 24, 23, 23, 23, 20, 20, 20, 19, 19, 19, 19, 19, 19, 21, 21, 21, 23, 23, 22, 25, 26, 23, 118, 32, 80, 124, 36, 87, 118, 56, 78, 92, 66, 46, 91, 65, 46, 109, 84, 60, 172, 149, 117, 217, 195, 158, 228, 211, 167, 228, 211, 171, 223, 208, 180, 207, 204, 183, 158, 154, 138, 110, 83, 80, 84, 51, 66, 69, 52, 58, 98, 107, 84, 115, 123, 105, 71, 72, 66, 40, 41, 37, 32, 32, 32, 25, 25, 26, 25, 25, 25, 25, 25, 25, 23, 23, 23, 20, 20, 20, 19, 19, 19, 19, 19, 19, 19, 19, 19, 20, 20, 20, 22, 22, 22, 22, 22, 22, 123, 31, 86, 130, 34, 93, 129, 65, 86, 102, 78, 56, 94, 70, 50, 107, 81, 58, 122, 100, 70, 193, 175, 138, 230, 212, 167, 233, 214, 176, 228, 218, 197, 224, 231, 223, 208, 220, 217, 166, 172, 167, 104, 115, 102, 83, 94, 73, 106, 110, 86, 98, 100, 85, 52, 53, 47, 32, 31, 29, 34, 33, 34, 33, 31, 33, 25, 26, 25, 23, 23, 23, 20, 20, 20, 19, 20, 19, 19, 19, 19, 19, 19, 19, 19, 19, 19, 20, 20, 20, 22, 22, 22, 21, 21, 22, 134, 31, 97, 131, 37, 94, 138, 76, 91, 126, 96, 72, 98, 76, 45, 113, 87, 59, 113, 91, 62, 127, 111, 76, 172, 158, 124, 218, 208, 186, 243, 244, 235, 240, 248, 247, 242, 254, 253, 238, 254, 247, 193, 212, 197, 136, 149, 131, 96, 101, 84, 78, 87, 71, 50, 41, 43, 47, 30, 45, 42, 30, 43, 36, 27, 31, 21, 25, 19, 23, 24, 19, 21, 20, 17, 19, 19, 17, 20, 20, 20, 20, 20, 21, 20, 20, 20, 21, 21, 21, 21, 21, 21, 21, 21, 22, 139, 32, 101, 133, 39, 95, 161, 93, 111, 161, 118, 101, 128, 99, 66, 116, 87, 56, 125, 102, 70, 122, 104, 70, 120, 109, 81, 175, 172, 155, 199, 202, 192, 191, 191, 182, 188, 185, 173, 183, 183, 167, 174, 177, 162, 158, 163, 151, 130, 140, 128, 60, 70, 60, 64, 31, 49, 85, 38, 71, 61, 41, 58, 36, 35, 34, 21, 31, 23, 18, 24, 18, 20, 21, 17, 22, 21, 19, 21, 21, 20, 21, 21, 21, 21, 21, 21, 21, 21, 21, 21, 21, 21, 21, 21, 21, 143, 35, 103, 128, 31, 89, 151, 71, 102, 172, 110, 111, 171, 127, 103, 145, 112, 81, 131, 108, 72, 141, 122, 87, 130, 119, 91, 117, 111, 90, 122, 115, 96, 121, 104, 82, 113, 89, 61, 103, 82, 51, 101, 89, 65, 90, 90, 75, 145, 154, 146, 82, 81, 85, 98, 32, 70, 126, 41, 91, 94, 65, 83, 58, 71, 63, 42, 54, 49, 41, 50, 46, 23, 28, 25, 21, 19, 17, 22, 21, 20, 21, 21, 21, 21, 21, 21, 21, 21, 21, 21, 21, 21, 21, 21, 21, 150, 40, 109, 132, 31, 91, 129, 33, 80, 150, 67, 91, 190, 133, 124, 171, 137, 109, 154, 135, 99, 117, 100, 69, 71, 57, 30, 66, 55, 31, 94, 77, 53, 96, 68, 36, 102, 63, 23, 102, 65, 24, 89, 65, 35, 64, 58, 43, 140, 148, 143, 133, 118, 134, 133, 40, 94, 155, 38, 104, 108, 59, 88, 79, 82, 80, 65, 63, 69, 79, 85, 86, 41, 47, 44, 21, 19, 16, 24, 21, 20, 21, 21, 21, 21, 21, 21, 21, 21, 21, 21, 21, 21, 22, 22, 22, 151, 41, 108, 141, 37, 100, 147, 36, 98, 139, 39, 85, 158, 94, 105, 167, 138, 116, 115, 105, 73, 73, 63, 39, 71, 55, 28, 75, 60, 32, 80, 63, 36, 96, 67, 35, 102, 62, 23, 121, 80, 39, 107, 81, 51, 67, 59, 44, 138, 143, 140, 146, 122, 139, 146, 44, 101, 168, 41, 115, 121, 45, 92, 97, 63, 84, 82, 55, 75, 82, 76, 85, 41, 47, 45, 22, 21, 17, 24, 21, 19, 21, 21, 21, 21, 21, 21, 21, 21, 21, 21, 21, 21, 22, 22, 22, 152, 40, 107, 146, 40, 103, 156, 38, 108, 144, 36, 97, 137, 75, 98, 131, 108, 93, 53, 52, 24, 63, 60, 41, 100, 86, 60, 89, 73, 44, 76, 60, 34, 93, 68, 38, 102, 66, 31, 117, 80, 42, 91, 67, 39, 51, 44, 29, 112, 116, 112, 133, 105, 121, 147, 47, 102, 171, 44, 121, 141, 42, 105, 115, 41, 85, 103, 48, 82, 75, 54, 70, 29, 30, 31, 21, 22, 17, 23, 21, 19, 21, 21, 21, 21, 21, 21, 21, 21, 21, 21, 21, 21, 22, 22, 22, 154, 38, 104, 144, 45, 102, 141, 48, 102, 133, 62, 106, 137, 106, 124, 90, 79, 69, 38, 40, 18, 81, 84, 68, 93, 91, 76, 74, 69, 49, 64, 54, 26, 86, 60, 26, 103, 67, 26, 105, 73, 30, 80, 60, 26, 56, 50, 31, 85, 88, 81, 106, 81, 99, 138, 50, 106, 172, 44, 127, 157, 38, 116, 142, 43, 107, 134, 48, 105, 78, 36, 63, 28, 22, 25, 19, 23, 20, 21, 23, 22, 22, 22, 22, 22, 22, 22, 23, 23, 23, 23, 23, 23, 22, 22, 22, 144, 55, 104, 145, 78, 116, 156, 106, 136, 162, 131, 152, 140, 130, 136, 54, 50, 41, 45, 46, 31, 94, 97, 85, 119, 118, 109, 78, 76, 59, 63, 55, 28, 90, 66, 33, 111, 80, 42, 111, 91, 47, 103, 91, 56, 87, 83, 63, 82, 86, 77, 122, 109, 124, 137, 64, 117, 177, 46, 129, 175, 46, 128, 152, 46, 118, 136, 37, 106, 93, 35, 71, 35, 18, 27, 19, 22, 21, 18, 22, 21, 20, 20, 20, 21, 21, 21, 22, 22, 22, 21, 21, 21, 20, 20, 20, 160, 124, 146, 169, 148, 162, 176, 170, 176, 177, 175, 176, 115, 111, 107, 33, 31, 22, 38, 39, 30, 120, 121, 115, 159, 149, 137, 80, 71, 50, 73, 65, 40, 96, 79, 54, 123, 104, 73, 131, 123, 85, 140, 135, 105, 93, 92, 74, 69, 71, 64, 141, 144, 151, 160, 107, 146, 178, 55, 127, 179, 49, 128, 153, 43, 117, 142, 39, 109, 111, 39, 84, 50, 19, 37, 22, 20, 21, 19, 22, 21, 21, 21, 21, 21, 22, 22, 22, 22, 22, 22, 22, 22, 20, 20, 20, 199, 207, 207, 185, 202, 196, 178, 206, 193, 177, 197, 183, 101, 104, 92, 24, 26, 18, 30, 31, 26, 139, 139, 133, 156, 142, 124, 73, 60, 33, 85, 79, 51, 105, 92, 67, 117, 104, 74, 134, 131, 92, 95, 93, 64, 56, 55, 40, 54, 56, 51, 98, 112, 113, 214, 188, 209, 175, 82, 136, 168, 50, 122, 164, 50, 126, 152, 43, 115, 129, 40, 96, 74, 23, 53, 27, 18, 23, 21, 24, 22, 22, 22, 22, 23, 23, 23, 24, 24, 24, 24, 24, 24, 24, 24, 24, 206, 228, 224, 190, 216, 206, 192, 223, 209, 189, 213, 198, 96, 104, 94, 17, 22, 18, 29, 31, 26, 96, 95, 82, 102, 91, 64, 93, 83, 48, 103, 98, 61, 106, 93, 58, 111, 94, 54, 138, 127, 78, 93, 86, 51, 77, 74, 59, 55, 57, 56, 65, 78, 79, 214, 216, 221, 201, 161, 188, 169, 78, 138, 171, 53, 132, 159, 45, 118, 144, 39, 106, 93, 25, 67, 33, 18, 26, 21, 24, 21, 22, 22, 22, 23, 23, 23, 24, 24, 24, 24, 24, 24, 24, 24, 24, 211, 231, 229, 200, 220, 214, 213, 235, 226, 198, 216, 207, 90, 102, 97, 18, 25, 26, 25, 28, 22, 56, 56, 35, 82, 76, 42, 124, 119, 79, 136, 131, 85, 142, 128, 80, 136, 114, 61, 158, 136, 75, 146, 131, 88, 113, 108, 90, 54, 56, 59, 114, 120, 124, 211, 231, 224, 182, 188, 193, 163, 100, 148, 172, 53, 133, 167, 49, 123, 155, 39, 113, 114, 33, 84, 45, 21, 34, 19, 22, 19, 22, 22, 22, 23, 23, 22, 24, 24, 24, 24, 24, 24, 24, 24, 24, 218, 242, 233, 208, 227, 218, 226, 245, 237, 221, 239, 233, 153, 170, 165, 68, 78, 77, 66, 70, 60, 63, 63, 39, 81, 75, 41, 146, 138, 95, 171, 162, 108, 170, 156, 100, 148, 126, 67, 157, 128, 61, 175, 155, 96, 120, 112, 81, 52, 54, 56, 175, 175, 184, 215, 234, 224, 99, 119, 109, 98, 58, 89, 160, 55, 127, 177, 52, 132, 158, 40, 117, 137, 43, 105, 92, 30, 72, 29, 17, 26, 21, 25, 18, 28, 23, 18, 25, 24, 20, 20, 26, 24, 22, 23, 24, 222, 248, 234, 211, 233, 221, 231, 251, 244, 231, 253, 245, 212, 234, 227, 184, 200, 195, 168, 177, 166, 86, 90, 68, 86, 73, 37, 150, 130, 79, 183, 162, 101, 178, 155, 91, 163, 136, 76, 163, 135, 77, 157, 139, 91, 97, 95, 69, 40, 51, 48, 150, 162, 164, 200, 222, 210, 92, 102, 95, 89, 42, 75, 160, 53, 127, 180, 53, 136, 161, 43, 120, 147, 41, 111, 136, 42, 104, 72, 29, 56, 31, 22, 21, 27, 24, 15, 23, 26, 18, 21, 25, 23, 23, 24, 24, 208, 227, 213, 210, 231, 222, 233, 253, 246, 228, 252, 242, 223, 250, 240, 220, 242, 237, 209, 228, 217, 130, 144, 122, 108, 98, 60, 136, 115, 63, 160, 138, 78, 162, 137, 78, 143, 116, 63, 122, 100, 62, 79, 69, 53, 51, 57, 53, 32, 51, 43, 110, 135, 126, 182, 207, 197, 120, 113, 120, 131, 57, 110, 179, 52, 139, 181, 52, 136, 167, 44, 123, 153, 37, 109, 152, 42, 110, 126, 43, 91, 61, 21, 39, 26, 23, 18, 20, 27, 18, 25, 24, 21, 26, 25, 24, 184, 195, 179, 213, 235, 227, 231, 253, 245, 229, 252, 240, 226, 254, 243, 223, 249, 244, 229, 252, 245, 217, 237, 221, 189, 196, 170, 163, 163, 128, 140, 139, 98, 132, 127, 90, 120, 111, 79, 94, 83, 64, 47, 45, 51, 70, 73, 87, 100, 103, 105, 148, 159, 156, 178, 180, 186, 146, 105, 136, 162, 59, 129, 185, 46, 139, 183, 52, 136, 172, 45, 125, 157, 34, 109, 156, 36, 107, 160, 44, 110, 105, 31, 71, 38, 21, 27, 23, 26, 18, 28, 24, 20, 28, 24, 22, 199, 203, 186, 216, 237, 232, 228, 251, 244, 231, 253, 240, 231, 255, 244, 231, 253, 250, 231, 253, 249, 233, 255, 245, 227, 250, 237, 204, 226, 209, 180, 200, 178, 172, 188, 173, 156, 166, 156, 147, 152, 145, 134, 137, 144, 114, 98, 119, 143, 100, 130, 173, 127, 159, 159, 104, 143, 152, 65, 123, 173, 49, 128, 186, 44, 134, 183, 48, 133, 176, 48, 128, 155, 37, 110, 149, 37, 106, 164, 39, 116, 143, 42, 101, 75, 29, 50, 37, 25, 22, 32, 29, 22, 33, 28, 23, 208, 206, 189, 213, 234, 230, 223, 247, 239, 232, 251, 238, 236, 254, 245, 236, 254, 253, 232, 251, 250, 230, 251, 244, 224, 249, 239, 211, 237, 222, 200, 223, 206, 199, 218, 210, 199, 216, 215, 208, 226, 223, 200, 206, 203, 134, 96, 118, 137, 49, 107, 156, 53, 120, 163, 54, 123, 171, 46, 124, 179, 45, 126, 184, 46, 129, 183, 45, 131, 177, 51, 131, 155, 43, 114, 139, 37, 103, 155, 37, 116, 156, 41, 112, 112, 37, 72, 52, 23, 27, 30, 29, 20, 33, 27, 22, 208, 212, 195, 208, 234, 226, 219, 244, 235, 231, 249, 240, 236, 253, 249, 237, 255, 254, 235, 254, 253, 235, 254, 251, 231, 253, 243, 218, 241, 227, 209, 230, 217, 212, 231, 221, 219, 240, 233, 220, 242, 235, 210, 214, 213, 143, 101, 127, 129, 37, 96, 165, 44, 119, 171, 47, 123, 168, 42, 122, 175, 44, 126, 181, 44, 127, 181, 44, 128, 178, 49, 129, 162, 46, 120, 141, 34, 104, 140, 35, 107, 146, 37, 107, 132, 40, 91, 74, 30, 50, 28, 23, 20, 27, 21, 20, 206, 214, 195, 206, 233, 221, 219, 244, 235, 230, 249, 243, 233, 253, 250, 235, 255, 253, 234, 254, 252, 235, 255, 252, 234, 255, 247, 226, 248, 236, 215, 237, 226, 223, 245, 233, 227, 250, 238, 221, 242, 233, 213, 217, 222, 152, 116, 143, 120, 41, 90, 143, 36, 101, 160, 43, 115, 165, 43, 119, 171, 44, 125, 175, 43, 127, 177, 42, 124, 175, 45, 124, 168, 45, 122, 154, 39, 113, 138, 34, 102, 139, 33, 100, 137, 37, 98, 98, 38, 72, 40, 24, 30, 28, 25, 24, 210, 211, 190, 211, 232, 219, 221, 244, 233, 227, 248, 239, 231, 252, 246, 234, 255, 249, 232, 253, 248, 234, 254, 249, 235, 255, 247, 231, 253, 241, 224, 246, 234, 223, 245, 233, 221, 243, 231, 216, 237, 228, 212, 220, 223, 171, 139, 165, 130, 53, 101, 128, 35, 95, 150, 40, 108, 170, 39, 117, 171, 44, 124, 164, 44, 121, 168, 38, 116, 165, 38, 114, 161, 40, 114, 155, 40, 112, 151, 40, 108, 151, 35, 105, 144, 34, 100, 116, 38, 82, 61, 27, 42, 26, 27, 21, 211, 206, 179, 214, 227, 212, 224, 247, 234, 226, 249, 238, 231, 252, 245, 232, 253, 246, 231, 252, 245, 231, 252, 245, 230, 251, 241, 228, 249, 237, 223, 245, 233, 223, 245, 233, 220, 241, 229, 211, 232, 223, 196, 211, 212, 158, 132, 156, 125, 49, 97, 120, 36, 91, 147, 48, 110, 170, 45, 119, 166, 44, 120, 152, 38, 111, 154, 31, 104, 155, 33, 104, 152, 34, 105, 151, 36, 105, 155, 39, 107, 158, 35, 107, 153, 35, 106, 132, 38, 91, 90, 36, 61, 37, 42, 31, 209, 196, 165, 212, 216, 199, 227, 247, 234, 227, 251, 239, 231, 252, 243, 232, 253, 244, 230, 251, 242, 226, 247, 238, 221, 243, 231, 219, 241, 229, 216, 238, 226, 219, 241, 229, 216, 235, 224, 204, 224, 215, 190, 210, 209, 158, 138, 160, 123, 46, 95, 114, 28, 81, 118, 32, 87, 150, 47, 111, 151, 37, 107, 150, 33, 104, 153, 36, 104, 151, 34, 102, 151, 34, 102, 153, 36, 105, 154, 36, 103, 154, 31, 103, 157, 37, 110, 142, 36, 98, 110, 41, 75, 48, 55, 40, 208, 189, 154, 204, 201, 184, 224, 242, 228, 227, 253, 240, 231, 253, 241, 232, 254, 243, 231, 253, 242, 228, 250, 239, 224, 246, 234, 215, 237, 225, 209, 231, 220, 210, 232, 220, 205, 225, 214, 195, 215, 207, 193, 217, 215, 168, 153, 173, 128, 51, 99, 132, 38, 93, 103, 27, 76, 114, 37, 90, 147, 42, 108, 162, 36, 109, 154, 39, 105, 150, 35, 101, 152, 36, 102, 155, 38, 105, 153, 35, 101, 155, 35, 105, 157, 39, 113, 144, 34, 101, 119, 42, 82, 51, 58, 40, 209, 184, 144, 200, 192, 166, 218, 232, 219, 228, 252, 243, 230, 253, 240, 233, 255, 243, 234, 255, 244, 233, 254, 243, 227, 249, 239, 217, 238, 230, 208, 229, 220, 201, 222, 213, 198, 217, 210, 197, 214, 211, 207, 232, 228, 184, 181, 195, 133, 61, 108, 145, 40, 100, 117, 37, 85, 90, 23, 68, 135, 41, 100, 161, 39, 112, 157, 37, 105, 153, 35, 102, 155, 37, 104, 157, 39, 106, 155, 34, 102, 161, 41, 111, 154, 39, 109, 142, 33, 100, 126, 40, 90, 65, 53, 49, 200, 173, 131, 191, 179, 148, 206, 216, 202, 225, 246, 240, 229, 251, 240, 232, 254, 242, 234, 255, 244, 234, 255, 244, 226, 247, 239, 214, 234, 228, 209, 230, 223, 201, 222, 215, 193, 213, 209, 200, 217, 217, 217, 245, 239, 204, 216, 221, 148, 88, 130, 141, 35, 97, 130, 43, 93, 103, 31, 74, 121, 31, 88, 151, 35, 106, 160, 38, 108, 158, 37, 106, 157, 37, 106, 156, 37, 105, 157, 34, 104, 164, 43, 112, 150, 37, 103, 140, 34, 98, 133, 38, 96, 85, 39, 54, 192, 165, 122, 171, 156, 124, 186, 192, 175, 219, 238, 229, 228, 250, 238, 231, 253, 241, 233, 254, 243, 232, 253, 242, 223, 244, 236, 208, 229, 222, 203, 224, 217, 199, 220, 213, 192, 215, 209, 203, 228, 223, 217, 249, 240, 217, 237, 239, 165, 123, 157, 134, 38, 95, 128, 40, 91, 113, 36, 81, 134, 39, 98, 145, 29, 101, 152, 34, 103, 154, 36, 104, 154, 36, 104, 154, 34, 103, 158, 38, 106, 155, 39, 106, 144, 33, 99, 140, 34, 98, 137, 36, 96, 100, 31, 53], \"height\": 32, \"channels\": 3, \"width\": 32, \"type\": \"image\", \"id\": 140151966258832}, {\"format\": \"raw\", \"value\": [45, 117, 49, 58, 139, 42, 105, 182, 82, 88, 148, 85, 30, 77, 36, 40, 94, 36, 59, 122, 45, 107, 178, 93, 57, 127, 50, 77, 138, 71, 95, 149, 85, 94, 149, 84, 93, 157, 88, 96, 169, 91, 113, 184, 108, 99, 165, 95, 99, 163, 91, 107, 167, 92, 114, 168, 97, 116, 182, 105, 100, 177, 94, 107, 184, 98, 104, 176, 97, 92, 160, 86, 98, 167, 86, 121, 190, 108, 127, 196, 120, 117, 187, 104, 106, 179, 83, 121, 194, 93, 102, 173, 78, 104, 175, 85, 71, 143, 69, 50, 125, 39, 75, 149, 60, 51, 115, 55, 42, 97, 54, 46, 106, 46, 59, 126, 47, 102, 174, 87, 55, 127, 48, 69, 136, 67, 109, 173, 105, 97, 162, 94, 99, 167, 96, 112, 177, 96, 96, 168, 91, 98, 177, 108, 105, 175, 106, 117, 172, 100, 119, 174, 103, 122, 188, 111, 112, 185, 104, 117, 189, 105, 114, 177, 103, 105, 163, 95, 104, 167, 89, 111, 177, 97, 111, 179, 104, 106, 171, 94, 109, 175, 87, 124, 192, 96, 108, 178, 84, 112, 183, 92, 86, 158, 83, 43, 113, 38, 58, 131, 47, 67, 138, 67, 57, 124, 61, 53, 123, 47, 74, 147, 60, 84, 159, 70, 69, 143, 59, 79, 155, 75, 97, 175, 94, 88, 166, 85, 112, 186, 106, 107, 168, 92, 89, 149, 87, 100, 165, 113, 110, 174, 113, 120, 179, 106, 123, 180, 108, 124, 190, 113, 104, 174, 94, 106, 172, 91, 113, 174, 92, 104, 163, 79, 90, 151, 62, 103, 163, 80, 102, 160, 87, 104, 161, 90, 109, 168, 87, 107, 173, 80, 97, 168, 72, 107, 181, 88, 62, 132, 63, 84, 148, 83, 84, 156, 71, 93, 172, 84, 70, 149, 56, 89, 169, 69, 89, 169, 70, 67, 143, 55, 69, 146, 58, 97, 181, 86, 93, 186, 88, 94, 185, 87, 109, 191, 97, 97, 160, 95, 74, 115, 82, 85, 117, 93, 107, 156, 107, 107, 177, 97, 124, 184, 110, 127, 191, 114, 102, 169, 90, 99, 158, 79, 107, 167, 84, 104, 169, 80, 97, 156, 73, 121, 170, 106, 109, 149, 106, 95, 140, 86, 107, 161, 87, 101, 164, 76, 104, 174, 79, 113, 187, 94, 43, 113, 44, 74, 135, 72, 74, 147, 60, 87, 170, 70, 102, 185, 81, 126, 208, 101, 106, 186, 83, 123, 198, 106, 125, 203, 109, 102, 191, 88, 82, 177, 74, 89, 181, 79, 101, 183, 88, 98, 161, 102, 86, 113, 97, 66, 72, 66, 61, 95, 58, 96, 164, 93, 118, 180, 108, 114, 178, 103, 96, 163, 83, 105, 166, 86, 108, 175, 92, 110, 179, 101, 103, 152, 97, 80, 111, 83, 82, 104, 93, 95, 131, 90, 126, 178, 105, 99, 162, 73, 103, 176, 78, 105, 184, 85, 53, 126, 43, 82, 147, 68, 69, 145, 52, 77, 161, 58, 108, 183, 88, 142, 215, 121, 130, 202, 110, 137, 207, 117, 110, 190, 95, 63, 153, 53, 71, 157, 61, 97, 178, 89, 109, 184, 100, 100, 163, 99, 76, 102, 82, 87, 88, 82, 37, 53, 30, 71, 117, 77, 132, 194, 125, 122, 189, 110, 118, 189, 104, 123, 195, 103, 115, 194, 101, 107, 173, 102, 52, 80, 51, 66, 74, 68, 91, 102, 93, 104, 142, 96, 160, 217, 139, 124, 193, 98, 112, 194, 86, 100, 187, 79, 64, 144, 45, 109, 184, 77, 115, 194, 91, 99, 179, 82, 113, 180, 84, 132, 200, 109, 128, 198, 117, 99, 172, 99, 81, 162, 76, 85, 171, 71, 92, 175, 78, 108, 187, 95, 100, 176, 88, 97, 165, 94, 49, 78, 54, 106, 100, 96, 85, 83, 68, 40, 64, 38, 117, 175, 110, 148, 214, 134, 147, 218, 126, 133, 209, 105, 130, 204, 111, 78, 127, 71, 52, 61, 42, 125, 118, 115, 102, 107, 94, 107, 146, 94, 154, 214, 132, 134, 204, 106, 121, 203, 94, 111, 197, 90, 90, 173, 67, 119, 199, 79, 136, 213, 110, 106, 174, 96, 136, 192, 120, 131, 193, 116, 95, 167, 84, 94, 175, 88, 96, 178, 85, 107, 186, 90, 103, 183, 87, 98, 177, 81, 105, 184, 89, 100, 175, 97, 51, 84, 57, 123, 110, 108, 148, 129, 122, 37, 42, 29, 104, 148, 112, 147, 200, 151, 133, 189, 127, 129, 191, 115, 106, 162, 96, 45, 71, 38, 137, 123, 114, 151, 129, 126, 78, 79, 63, 105, 148, 89, 120, 184, 95, 119, 191, 89, 119, 198, 90, 112, 195, 89, 99, 176, 83, 89, 165, 62, 80, 143, 62, 39, 87, 35, 103, 157, 103, 113, 176, 106, 88, 160, 71, 105, 186, 79, 80, 158, 59, 66, 138, 53, 67, 141, 53, 84, 160, 69, 98, 178, 83, 78, 158, 75, 81, 118, 87, 146, 135, 132, 175, 152, 148, 55, 51, 50, 77, 101, 101, 104, 134, 127, 110, 144, 129, 92, 131, 107, 74, 110, 85, 45, 52, 40, 186, 156, 154, 166, 136, 130, 69, 71, 48, 110, 158, 92, 112, 180, 84, 122, 195, 90, 114, 191, 83, 120, 199, 94, 73, 140, 70, 37, 100, 37, 16, 59, 13, 51, 91, 39, 118, 185, 98, 119, 189, 99, 99, 170, 81, 107, 179, 90, 76, 143, 63, 60, 126, 52, 77, 147, 69, 96, 170, 86, 99, 179, 89, 91, 172, 88, 113, 154, 118, 152, 144, 140, 151, 135, 130, 71, 68, 69, 64, 73, 81, 140, 153, 160, 171, 186, 192, 78, 96, 103, 64, 85, 87, 75, 76, 75, 191, 153, 156, 182, 151, 141, 109, 118, 88, 128, 183, 110, 142, 213, 112, 124, 197, 90, 119, 193, 87, 134, 211, 105, 86, 159, 84, 29, 88, 44, 16, 57, 22, 72, 126, 43, 112, 185, 71, 122, 194, 96, 121, 191, 111, 103, 173, 102, 83, 153, 81, 82, 153, 77, 98, 169, 93, 101, 174, 96, 115, 191, 110, 112, 189, 108, 94, 149, 95, 125, 147, 121, 94, 104, 88, 31, 42, 37, 81, 90, 93, 196, 205, 209, 212, 222, 227, 93, 104, 113, 60, 77, 82, 63, 67, 70, 120, 91, 90, 173, 156, 137, 127, 152, 110, 139, 198, 118, 140, 207, 107, 118, 184, 82, 123, 189, 89, 136, 206, 104, 106, 190, 97, 48, 108, 61, 29, 74, 41, 67, 134, 38, 94, 171, 54, 105, 179, 84, 112, 184, 107, 74, 146, 74, 81, 153, 78, 93, 163, 88, 105, 172, 102, 100, 163, 100, 89, 149, 90, 92, 153, 92, 78, 133, 80, 97, 140, 103, 65, 95, 76, 22, 43, 36, 89, 104, 106, 204, 217, 219, 190, 203, 205, 96, 110, 113, 57, 75, 78, 34, 52, 48, 60, 68, 47, 118, 143, 98, 108, 163, 97, 123, 190, 101, 120, 185, 87, 114, 179, 82, 115, 180, 83, 127, 195, 94, 88, 170, 77, 47, 107, 55, 40, 83, 54, 73, 138, 62, 92, 178, 62, 94, 173, 73, 77, 146, 67, 63, 123, 55, 94, 148, 88, 121, 172, 119, 108, 155, 110, 92, 135, 100, 79, 118, 91, 77, 109, 87, 70, 99, 81, 83, 109, 97, 72, 95, 89, 48, 68, 67, 58, 73, 75, 125, 139, 142, 104, 118, 121, 60, 74, 77, 67, 80, 85, 40, 65, 53, 71, 124, 73, 109, 182, 101, 124, 202, 109, 124, 199, 101, 125, 199, 98, 130, 205, 104, 129, 203, 103, 135, 210, 107, 70, 148, 60, 54, 112, 53, 43, 83, 54, 52, 112, 59, 84, 168, 66, 106, 180, 89, 79, 137, 67, 73, 116, 65, 97, 132, 96, 98, 129, 103, 89, 117, 99, 83, 106, 99, 88, 106, 107, 77, 88, 94, 58, 67, 74, 70, 83, 89, 55, 72, 76, 58, 75, 79, 46, 60, 63, 83, 97, 100, 69, 83, 86, 48, 63, 65, 82, 87, 92, 63, 81, 64, 84, 156, 83, 100, 193, 88, 112, 191, 83, 118, 193, 91, 134, 215, 112, 141, 221, 118, 135, 215, 112, 130, 210, 106, 91, 165, 89, 82, 138, 73, 56, 95, 58, 50, 101, 68, 102, 164, 96, 120, 174, 110, 71, 110, 66, 47, 73, 52, 86, 107, 101, 87, 107, 106, 83, 100, 102, 66, 79, 83, 58, 68, 75, 56, 64, 69, 43, 52, 56, 66, 76, 81, 66, 77, 83, 40, 52, 58, 49, 62, 66, 135, 149, 152, 110, 124, 127, 65, 80, 83, 66, 75, 76, 51, 77, 49, 80, 151, 68, 109, 196, 86, 121, 194, 91, 124, 196, 96, 123, 202, 99, 126, 203, 101, 119, 196, 95, 114, 192, 89, 91, 161, 95, 93, 148, 80, 84, 125, 78, 48, 92, 66, 68, 109, 70, 79, 111, 76, 27, 51, 32, 51, 66, 71, 78, 92, 107, 69, 85, 98, 69, 81, 91, 38, 48, 52, 21, 30, 30, 36, 51, 42, 30, 46, 37, 53, 66, 63, 75, 85, 88, 27, 36, 41, 51, 63, 67, 197, 210, 212, 170, 183, 185, 40, 53, 56, 15, 40, 31, 56, 109, 62, 100, 180, 87, 118, 204, 96, 135, 214, 117, 134, 207, 111, 129, 201, 100, 119, 191, 91, 114, 187, 87, 107, 180, 79, 87, 152, 74, 89, 149, 80, 108, 164, 103, 68, 126, 68, 29, 69, 26, 21, 34, 25, 23, 38, 37, 66, 84, 90, 74, 87, 102, 46, 62, 71, 50, 64, 68, 23, 34, 31, 11, 21, 15, 35, 55, 44, 14, 33, 24, 44, 57, 53, 52, 67, 65, 31, 47, 46, 99, 110, 112, 181, 188, 190, 216, 222, 222, 105, 118, 114, 54, 81, 61, 111, 170, 106, 105, 190, 87, 104, 180, 82, 128, 201, 107, 122, 194, 93, 120, 190, 87, 124, 195, 93, 125, 197, 97, 124, 197, 94, 117, 187, 94, 114, 182, 103, 117, 186, 108, 110, 180, 99, 82, 129, 75, 17, 26, 23, 29, 42, 45, 71, 92, 95, 74, 89, 102, 47, 63, 71, 38, 53, 56, 18, 29, 27, 32, 43, 37, 49, 69, 58, 5, 22, 13, 30, 38, 36, 25, 36, 35, 43, 58, 57, 67, 77, 78, 74, 78, 79, 197, 198, 197, 183, 192, 186, 162, 182, 161, 147, 202, 134, 107, 192, 87, 110, 181, 89, 120, 188, 96, 122, 197, 94, 118, 193, 90, 124, 199, 97, 119, 195, 93, 110, 187, 83, 129, 209, 105, 130, 206, 110, 129, 203, 110, 116, 190, 98, 96, 149, 88, 20, 34, 25, 37, 52, 53, 77, 97, 102, 71, 85, 101, 59, 74, 86, 49, 63, 70, 26, 38, 40, 51, 62, 59, 59, 80, 66, 4, 19, 6, 17, 23, 19, 20, 24, 25, 86, 95, 97, 119, 128, 128, 91, 93, 92, 192, 190, 187, 217, 219, 213, 221, 233, 215, 132, 183, 119, 112, 196, 93, 128, 200, 110, 136, 208, 116, 144, 226, 125, 148, 230, 130, 126, 207, 105, 129, 209, 105, 122, 201, 96, 108, 192, 83, 131, 208, 103, 148, 219, 119, 124, 197, 100, 90, 150, 81, 26, 45, 30, 55, 72, 70, 77, 96, 102, 69, 81, 97, 66, 82, 91, 72, 86, 91, 67, 79, 78, 90, 103, 96, 81, 107, 87, 25, 48, 28, 25, 35, 27, 17, 23, 23, 119, 127, 130, 225, 232, 230, 204, 202, 200, 210, 201, 198, 235, 230, 224, 230, 237, 220, 116, 163, 102, 98, 180, 80, 117, 190, 102, 119, 195, 105, 109, 195, 98, 120, 204, 109, 122, 203, 104, 125, 202, 100, 135, 209, 105, 125, 205, 99, 132, 205, 97, 124, 188, 88, 151, 219, 123, 119, 185, 108, 29, 52, 32, 53, 71, 68, 82, 100, 108, 68, 80, 94, 73, 89, 92, 106, 120, 119, 166, 178, 171, 174, 188, 173, 93, 131, 100, 61, 97, 68, 31, 47, 34, 13, 23, 22, 111, 122, 124, 244, 250, 247, 252, 248, 245, 233, 219, 217, 247, 233, 227, 239, 239, 225, 131, 174, 118, 104, 184, 89, 106, 180, 95, 94, 172, 84, 90, 175, 83, 103, 185, 94, 121, 196, 102, 119, 188, 88, 120, 187, 83, 94, 174, 74, 110, 183, 78, 96, 159, 63, 111, 177, 85, 107, 176, 94, 44, 79, 47, 20, 43, 36, 67, 82, 91, 68, 81, 91, 63, 90, 75, 97, 129, 99, 126, 153, 126, 144, 164, 143, 77, 120, 81, 61, 110, 69, 37, 69, 46, 20, 41, 34, 135, 150, 151, 248, 254, 251, 251, 247, 242, 226, 212, 205, 236, 220, 213, 233, 232, 215, 149, 190, 131, 153, 229, 125, 123, 199, 103, 96, 174, 86, 66, 143, 59, 90, 162, 78, 131, 199, 110, 126, 188, 94, 131, 190, 91, 75, 162, 64, 98, 179, 78, 96, 172, 80, 81, 153, 67, 80, 152, 65, 58, 115, 55, 11, 48, 22, 41, 54, 60, 57, 72, 81, 46, 92, 54, 76, 145, 65, 65, 121, 67, 61, 90, 67, 57, 101, 54, 55, 116, 58, 51, 107, 66, 32, 68, 50, 154, 170, 169, 251, 255, 255, 246, 245, 236, 223, 217, 202, 239, 229, 217, 213, 221, 197, 129, 172, 100, 168, 236, 114, 157, 235, 113, 121, 194, 106, 79, 145, 71, 92, 158, 78, 127, 194, 109, 123, 183, 96, 147, 200, 111, 70, 156, 59, 92, 173, 79, 92, 169, 85, 89, 162, 86, 70, 142, 59, 72, 139, 55, 42, 90, 33, 27, 46, 39, 46, 62, 72, 45, 88, 54, 77, 144, 65, 75, 131, 78, 30, 60, 38, 54, 99, 48, 75, 141, 75, 48, 109, 61, 43, 85, 58, 159, 176, 167, 251, 253, 245, 230, 233, 216, 229, 235, 211, 249, 254, 235, 171, 191, 159, 113, 162, 86, 149, 218, 98, 143, 222, 100, 127, 201, 112, 118, 190, 111, 132, 207, 122, 116, 190, 103, 131, 196, 109, 154, 205, 118, 71, 151, 60, 92, 168, 85, 80, 156, 79, 87, 160, 88, 95, 167, 87, 111, 184, 84, 95, 154, 70, 28, 59, 33, 29, 50, 55, 44, 81, 53, 78, 137, 68, 58, 110, 62, 23, 57, 29, 67, 116, 59, 71, 140, 68, 50, 114, 58, 50, 97, 59, 122, 142, 121, 212, 215, 196, 202, 214, 185, 195, 218, 183, 182, 206, 176, 136, 170, 128, 118, 175, 96, 138, 213, 102, 107, 189, 76, 88, 165, 73, 104, 184, 95, 134, 219, 125, 99, 181, 88, 115, 186, 97, 150, 205, 116, 75, 147, 70, 87, 159, 87, 94, 168, 93, 92, 168, 90, 112, 186, 103, 106, 182, 82, 92, 158, 68, 50, 93, 48, 20, 50, 40, 30, 70, 39, 58, 116, 48, 44, 99, 47, 23, 69, 27, 59, 116, 49, 53, 125, 48, 71, 141, 76, 62, 113, 64, 48, 71, 40, 144, 155, 122, 130, 157, 113, 94, 136, 86, 127, 165, 125, 123, 167, 117, 94, 161, 78, 91, 172, 70, 101, 184, 80, 117, 195, 101, 112, 190, 95, 136, 218, 119, 118, 201, 104, 121, 197, 106, 138, 202, 111, 104, 169, 107, 90, 160, 96, 89, 164, 86, 89, 168, 78, 99, 175, 86, 71, 148, 61, 55, 124, 47, 59, 111, 54, 52, 94, 65, 43, 91, 50, 66, 128, 55, 65, 128, 65, 54, 115, 56, 68, 133, 58, 58, 132, 51, 54, 127, 55, 72, 126, 69, 114, 144, 99, 158, 181, 134, 104, 146, 89, 88, 141, 82, 157, 198, 155, 104, 151, 96, 86, 160, 74, 83, 167, 72, 96, 181, 83, 125, 204, 108, 148, 215, 118, 137, 207, 108, 116, 195, 97, 123, 201, 109, 134, 209, 116, 91, 153, 92, 84, 148, 84, 103, 172, 92, 112, 187, 90, 104, 184, 86, 65, 141, 56, 44, 113, 33, 55, 112, 45, 77, 120, 80, 82, 128, 81, 85, 146, 73, 93, 160, 86, 78, 145, 71, 92, 161, 78, 93, 166, 82, 64, 134, 58, 78, 137, 71, 97, 143, 85, 128, 175, 112, 99, 158, 93, 112, 162, 113, 177, 211, 170, 115, 165, 102, 96, 175, 82, 93, 181, 82, 78, 165, 72, 113, 191, 97, 157, 220, 124, 136, 198, 102, 121, 194, 96, 120, 199, 101, 135, 216, 116, 121, 184, 115, 87, 150, 78, 99, 164, 80, 104, 176, 76, 115, 197, 94, 91, 166, 75, 70, 138, 44, 94, 153, 79, 41, 78, 41, 45, 80, 40, 93, 150, 84, 88, 157, 74, 72, 143, 58, 85, 155, 70, 96, 166, 83, 88, 158, 79, 76, 146, 70, 65, 131, 60, 79, 145, 71, 90, 159, 89, 131, 173, 133, 186, 216, 171, 149, 204, 124, 130, 209, 103, 100, 189, 78, 81, 166, 74, 107, 183, 90, 116, 183, 87, 101, 167, 74, 101, 171, 75, 104, 178, 79, 117, 193, 94, 147, 217, 135, 121, 190, 108, 110, 181, 89, 105, 180, 76, 102, 182, 82, 73, 148, 59, 91, 162, 68, 107, 172, 93, 24, 60, 26, 23, 53, 23, 94, 151, 89, 109, 184, 98, 85, 164, 71, 75, 146, 61, 88, 157, 76, 90, 165, 83, 73, 156, 71, 76, 156, 74, 79, 148, 73, 84, 153, 79, 136, 180, 129, 155, 193, 131, 161, 224, 122, 170, 245, 123, 138, 217, 96, 97, 174, 77, 100, 173, 78, 94, 171, 72, 78, 156, 62, 86, 159, 67, 92, 161, 71, 106, 172, 82, 146, 223, 130, 126, 201, 112, 125, 201, 104, 124, 203, 98, 88, 168, 72, 73, 149, 62, 100, 175, 78, 104, 176, 91, 58, 102, 62, 51, 86, 54, 108, 167, 103, 100, 178, 86, 113, 194, 94, 87, 158, 68, 86, 155, 72, 86, 164, 78, 67, 155, 66, 76, 163, 78, 74, 146, 69, 77, 144, 68, 134, 177, 120, 111, 157, 84, 141, 212, 96, 177, 248, 114, 174, 242, 114, 146, 214, 110, 114, 183, 82, 113, 197, 91, 91, 178, 77, 88, 164, 71, 102, 168, 81, 93, 153, 69, 134, 216, 121, 126, 205, 117, 109, 190, 96, 108, 189, 89, 102, 179, 88, 107, 182, 97, 108, 186, 87, 85, 163, 73, 90, 148, 94, 82, 132, 81, 105, 172, 93, 93, 170, 72, 117, 192, 90, 117, 188, 89, 108, 179, 85, 77, 152, 64, 77, 157, 75, 97, 174, 97, 78, 150, 70, 79, 145, 69, 141, 183, 129, 100, 152, 84, 125, 199, 89, 179, 246, 114, 184, 242, 115, 175, 231, 128, 162, 227, 119, 133, 218, 101, 113, 203, 91, 108, 188, 85, 87, 158, 65, 92, 159, 69], \"height\": 32, \"channels\": 3, \"width\": 32, \"type\": \"image\", \"id\": 140151966259216}], \"selected_variable\": {\"name\": [\"<SArray>\"], \"dtype\": \"Image\", \"view_component\": \"Images\", \"view_file\": \"sarray\", \"descriptives\": {\"rows\": 5}, \"type\": \"SArray\", \"view_components\": [\"Images\"]}}, e);\n",
       "                });\n",
       "            })();\n",
       "        "
      ]
     },
     "metadata": {},
     "output_type": "display_data"
    }
   ],
   "source": [
    "# second way\n",
    "cat_show_neighbors = lambda i: get_images_from_ids(cat_knn_model.query(image_train[i:i+1]))['image'].show()\n",
    "cat_show_neighbors(0)\n",
    "dog_show_neighbors = lambda i: get_images_from_ids(dog_knn_model.query(image_train[i:i+1]))['image'].show()\n",
    "dog_show_neighbors(0)\n"
   ]
  },
  {
   "cell_type": "code",
   "execution_count": 11,
   "metadata": {},
   "outputs": [
    {
     "data": {
      "text/html": [
       "<pre>Starting blockwise querying.</pre>"
      ],
      "text/plain": [
       "Starting blockwise querying."
      ]
     },
     "metadata": {},
     "output_type": "display_data"
    },
    {
     "data": {
      "text/html": [
       "<pre>max rows per data block: 4348</pre>"
      ],
      "text/plain": [
       "max rows per data block: 4348"
      ]
     },
     "metadata": {},
     "output_type": "display_data"
    },
    {
     "data": {
      "text/html": [
       "<pre>number of reference data blocks: 8</pre>"
      ],
      "text/plain": [
       "number of reference data blocks: 8"
      ]
     },
     "metadata": {},
     "output_type": "display_data"
    },
    {
     "data": {
      "text/html": [
       "<pre>number of query data blocks: 1</pre>"
      ],
      "text/plain": [
       "number of query data blocks: 1"
      ]
     },
     "metadata": {},
     "output_type": "display_data"
    },
    {
     "data": {
      "text/html": [
       "<pre>+--------------+---------+-------------+--------------+</pre>"
      ],
      "text/plain": [
       "+--------------+---------+-------------+--------------+"
      ]
     },
     "metadata": {},
     "output_type": "display_data"
    },
    {
     "data": {
      "text/html": [
       "<pre>| Query points | # Pairs | % Complete. | Elapsed Time |</pre>"
      ],
      "text/plain": [
       "| Query points | # Pairs | % Complete. | Elapsed Time |"
      ]
     },
     "metadata": {},
     "output_type": "display_data"
    },
    {
     "data": {
      "text/html": [
       "<pre>+--------------+---------+-------------+--------------+</pre>"
      ],
      "text/plain": [
       "+--------------+---------+-------------+--------------+"
      ]
     },
     "metadata": {},
     "output_type": "display_data"
    },
    {
     "data": {
      "text/html": [
       "<pre>| 1000         | 63000   | 12.3772     | 302.279ms    |</pre>"
      ],
      "text/plain": [
       "| 1000         | 63000   | 12.3772     | 302.279ms    |"
      ]
     },
     "metadata": {},
     "output_type": "display_data"
    },
    {
     "data": {
      "text/html": [
       "<pre>| Done         | 509000  | 100         | 343.09ms     |</pre>"
      ],
      "text/plain": [
       "| Done         | 509000  | 100         | 343.09ms     |"
      ]
     },
     "metadata": {},
     "output_type": "display_data"
    },
    {
     "data": {
      "text/html": [
       "<pre>+--------------+---------+-------------+--------------+</pre>"
      ],
      "text/plain": [
       "+--------------+---------+-------------+--------------+"
      ]
     },
     "metadata": {},
     "output_type": "display_data"
    }
   ],
   "source": [
    "dog_test_data = image_test[image_test['label'] == 'dog']\n",
    "cat_test_data = image_test[image_test['label'] == 'cat']\n",
    "#dog - cat neighbors, find 1 neighbor so k=1\n",
    "dog_cat_neighbors = cat_knn_model.query(dog_test_data, k=1)"
   ]
  },
  {
   "cell_type": "code",
   "execution_count": 12,
   "metadata": {},
   "outputs": [
    {
     "data": {
      "text/html": [
       "<pre>Starting blockwise querying.</pre>"
      ],
      "text/plain": [
       "Starting blockwise querying."
      ]
     },
     "metadata": {},
     "output_type": "display_data"
    },
    {
     "data": {
      "text/html": [
       "<pre>max rows per data block: 4348</pre>"
      ],
      "text/plain": [
       "max rows per data block: 4348"
      ]
     },
     "metadata": {},
     "output_type": "display_data"
    },
    {
     "data": {
      "text/html": [
       "<pre>number of reference data blocks: 8</pre>"
      ],
      "text/plain": [
       "number of reference data blocks: 8"
      ]
     },
     "metadata": {},
     "output_type": "display_data"
    },
    {
     "data": {
      "text/html": [
       "<pre>number of query data blocks: 1</pre>"
      ],
      "text/plain": [
       "number of query data blocks: 1"
      ]
     },
     "metadata": {},
     "output_type": "display_data"
    },
    {
     "data": {
      "text/html": [
       "<pre>+--------------+---------+-------------+--------------+</pre>"
      ],
      "text/plain": [
       "+--------------+---------+-------------+--------------+"
      ]
     },
     "metadata": {},
     "output_type": "display_data"
    },
    {
     "data": {
      "text/html": [
       "<pre>| Query points | # Pairs | % Complete. | Elapsed Time |</pre>"
      ],
      "text/plain": [
       "| Query points | # Pairs | % Complete. | Elapsed Time |"
      ]
     },
     "metadata": {},
     "output_type": "display_data"
    },
    {
     "data": {
      "text/html": [
       "<pre>+--------------+---------+-------------+--------------+</pre>"
      ],
      "text/plain": [
       "+--------------+---------+-------------+--------------+"
      ]
     },
     "metadata": {},
     "output_type": "display_data"
    },
    {
     "data": {
      "text/html": [
       "<pre>| 1000         | 63000   | 12.3772     | 307.698ms    |</pre>"
      ],
      "text/plain": [
       "| 1000         | 63000   | 12.3772     | 307.698ms    |"
      ]
     },
     "metadata": {},
     "output_type": "display_data"
    },
    {
     "data": {
      "text/html": [
       "<pre>| Done         | 509000  | 100         | 372.468ms    |</pre>"
      ],
      "text/plain": [
       "| Done         | 509000  | 100         | 372.468ms    |"
      ]
     },
     "metadata": {},
     "output_type": "display_data"
    },
    {
     "data": {
      "text/html": [
       "<pre>+--------------+---------+-------------+--------------+</pre>"
      ],
      "text/plain": [
       "+--------------+---------+-------------+--------------+"
      ]
     },
     "metadata": {},
     "output_type": "display_data"
    }
   ],
   "source": [
    "dog_dog_neighbors = dog_knn_model.query(dog_test_data, k=1)"
   ]
  },
  {
   "cell_type": "code",
   "execution_count": 13,
   "metadata": {},
   "outputs": [
    {
     "data": {
      "text/html": [
       "<pre>Starting blockwise querying.</pre>"
      ],
      "text/plain": [
       "Starting blockwise querying."
      ]
     },
     "metadata": {},
     "output_type": "display_data"
    },
    {
     "data": {
      "text/html": [
       "<pre>max rows per data block: 4348</pre>"
      ],
      "text/plain": [
       "max rows per data block: 4348"
      ]
     },
     "metadata": {},
     "output_type": "display_data"
    },
    {
     "data": {
      "text/html": [
       "<pre>number of reference data blocks: 8</pre>"
      ],
      "text/plain": [
       "number of reference data blocks: 8"
      ]
     },
     "metadata": {},
     "output_type": "display_data"
    },
    {
     "data": {
      "text/html": [
       "<pre>number of query data blocks: 1</pre>"
      ],
      "text/plain": [
       "number of query data blocks: 1"
      ]
     },
     "metadata": {},
     "output_type": "display_data"
    },
    {
     "data": {
      "text/html": [
       "<pre>+--------------+---------+-------------+--------------+</pre>"
      ],
      "text/plain": [
       "+--------------+---------+-------------+--------------+"
      ]
     },
     "metadata": {},
     "output_type": "display_data"
    },
    {
     "data": {
      "text/html": [
       "<pre>| Query points | # Pairs | % Complete. | Elapsed Time |</pre>"
      ],
      "text/plain": [
       "| Query points | # Pairs | % Complete. | Elapsed Time |"
      ]
     },
     "metadata": {},
     "output_type": "display_data"
    },
    {
     "data": {
      "text/html": [
       "<pre>+--------------+---------+-------------+--------------+</pre>"
      ],
      "text/plain": [
       "+--------------+---------+-------------+--------------+"
      ]
     },
     "metadata": {},
     "output_type": "display_data"
    },
    {
     "data": {
      "text/html": [
       "<pre>| 1000         | 63000   | 12.3772     | 278.919ms    |</pre>"
      ],
      "text/plain": [
       "| 1000         | 63000   | 12.3772     | 278.919ms    |"
      ]
     },
     "metadata": {},
     "output_type": "display_data"
    },
    {
     "data": {
      "text/html": [
       "<pre>| Done         | 509000  | 100         | 333.714ms    |</pre>"
      ],
      "text/plain": [
       "| Done         | 509000  | 100         | 333.714ms    |"
      ]
     },
     "metadata": {},
     "output_type": "display_data"
    },
    {
     "data": {
      "text/html": [
       "<pre>+--------------+---------+-------------+--------------+</pre>"
      ],
      "text/plain": [
       "+--------------+---------+-------------+--------------+"
      ]
     },
     "metadata": {},
     "output_type": "display_data"
    },
    {
     "data": {
      "text/html": [
       "<pre>Starting blockwise querying.</pre>"
      ],
      "text/plain": [
       "Starting blockwise querying."
      ]
     },
     "metadata": {},
     "output_type": "display_data"
    },
    {
     "data": {
      "text/html": [
       "<pre>max rows per data block: 4348</pre>"
      ],
      "text/plain": [
       "max rows per data block: 4348"
      ]
     },
     "metadata": {},
     "output_type": "display_data"
    },
    {
     "data": {
      "text/html": [
       "<pre>number of reference data blocks: 8</pre>"
      ],
      "text/plain": [
       "number of reference data blocks: 8"
      ]
     },
     "metadata": {},
     "output_type": "display_data"
    },
    {
     "data": {
      "text/html": [
       "<pre>number of query data blocks: 1</pre>"
      ],
      "text/plain": [
       "number of query data blocks: 1"
      ]
     },
     "metadata": {},
     "output_type": "display_data"
    },
    {
     "data": {
      "text/html": [
       "<pre>+--------------+---------+-------------+--------------+</pre>"
      ],
      "text/plain": [
       "+--------------+---------+-------------+--------------+"
      ]
     },
     "metadata": {},
     "output_type": "display_data"
    },
    {
     "data": {
      "text/html": [
       "<pre>| Query points | # Pairs | % Complete. | Elapsed Time |</pre>"
      ],
      "text/plain": [
       "| Query points | # Pairs | % Complete. | Elapsed Time |"
      ]
     },
     "metadata": {},
     "output_type": "display_data"
    },
    {
     "data": {
      "text/html": [
       "<pre>+--------------+---------+-------------+--------------+</pre>"
      ],
      "text/plain": [
       "+--------------+---------+-------------+--------------+"
      ]
     },
     "metadata": {},
     "output_type": "display_data"
    },
    {
     "data": {
      "text/html": [
       "<pre>| 1000         | 60000   | 12.5523     | 285.289ms    |</pre>"
      ],
      "text/plain": [
       "| 1000         | 60000   | 12.5523     | 285.289ms    |"
      ]
     },
     "metadata": {},
     "output_type": "display_data"
    },
    {
     "data": {
      "text/html": [
       "<pre>| Done         | 478000  | 100         | 332.688ms    |</pre>"
      ],
      "text/plain": [
       "| Done         | 478000  | 100         | 332.688ms    |"
      ]
     },
     "metadata": {},
     "output_type": "display_data"
    },
    {
     "data": {
      "text/html": [
       "<pre>+--------------+---------+-------------+--------------+</pre>"
      ],
      "text/plain": [
       "+--------------+---------+-------------+--------------+"
      ]
     },
     "metadata": {},
     "output_type": "display_data"
    }
   ],
   "source": [
    "dog_automobile_neighbors = automobile_knn_model.query(dog_test_data, k=1)\n",
    "dog_bird_neighbors = bird_knn_model.query(dog_test_data, k=1)"
   ]
  },
  {
   "cell_type": "code",
   "execution_count": 14,
   "metadata": {},
   "outputs": [
    {
     "data": {
      "text/html": [
       "<div style=\"max-height:1000px;max-width:1500px;overflow:auto;\"><table frame=\"box\" rules=\"cols\">\n",
       "    <tr>\n",
       "        <th style=\"padding-left: 1em; padding-right: 1em; text-align: center\">dog_automobile</th>\n",
       "        <th style=\"padding-left: 1em; padding-right: 1em; text-align: center\">dog_bird</th>\n",
       "        <th style=\"padding-left: 1em; padding-right: 1em; text-align: center\">dog_cat</th>\n",
       "        <th style=\"padding-left: 1em; padding-right: 1em; text-align: center\">dog_dog</th>\n",
       "    </tr>\n",
       "    <tr>\n",
       "        <td style=\"padding-left: 1em; padding-right: 1em; text-align: center; vertical-align: top\">41.9579761457</td>\n",
       "        <td style=\"padding-left: 1em; padding-right: 1em; text-align: center; vertical-align: top\">41.7538647304</td>\n",
       "        <td style=\"padding-left: 1em; padding-right: 1em; text-align: center; vertical-align: top\">36.4196077068</td>\n",
       "        <td style=\"padding-left: 1em; padding-right: 1em; text-align: center; vertical-align: top\">33.4773590373</td>\n",
       "    </tr>\n",
       "    <tr>\n",
       "        <td style=\"padding-left: 1em; padding-right: 1em; text-align: center; vertical-align: top\">46.0021331807</td>\n",
       "        <td style=\"padding-left: 1em; padding-right: 1em; text-align: center; vertical-align: top\">41.3382958925</td>\n",
       "        <td style=\"padding-left: 1em; padding-right: 1em; text-align: center; vertical-align: top\">38.8353268874</td>\n",
       "        <td style=\"padding-left: 1em; padding-right: 1em; text-align: center; vertical-align: top\">32.8458495684</td>\n",
       "    </tr>\n",
       "    <tr>\n",
       "        <td style=\"padding-left: 1em; padding-right: 1em; text-align: center; vertical-align: top\">42.9462290692</td>\n",
       "        <td style=\"padding-left: 1em; padding-right: 1em; text-align: center; vertical-align: top\">38.6157590853</td>\n",
       "        <td style=\"padding-left: 1em; padding-right: 1em; text-align: center; vertical-align: top\">36.9763410854</td>\n",
       "        <td style=\"padding-left: 1em; padding-right: 1em; text-align: center; vertical-align: top\">35.0397073189</td>\n",
       "    </tr>\n",
       "    <tr>\n",
       "        <td style=\"padding-left: 1em; padding-right: 1em; text-align: center; vertical-align: top\">41.6866060048</td>\n",
       "        <td style=\"padding-left: 1em; padding-right: 1em; text-align: center; vertical-align: top\">37.0892269954</td>\n",
       "        <td style=\"padding-left: 1em; padding-right: 1em; text-align: center; vertical-align: top\">34.5750072914</td>\n",
       "        <td style=\"padding-left: 1em; padding-right: 1em; text-align: center; vertical-align: top\">33.9010327697</td>\n",
       "    </tr>\n",
       "    <tr>\n",
       "        <td style=\"padding-left: 1em; padding-right: 1em; text-align: center; vertical-align: top\">39.2269664935</td>\n",
       "        <td style=\"padding-left: 1em; padding-right: 1em; text-align: center; vertical-align: top\">38.272288694</td>\n",
       "        <td style=\"padding-left: 1em; padding-right: 1em; text-align: center; vertical-align: top\">34.778824791</td>\n",
       "        <td style=\"padding-left: 1em; padding-right: 1em; text-align: center; vertical-align: top\">37.4849250909</td>\n",
       "    </tr>\n",
       "    <tr>\n",
       "        <td style=\"padding-left: 1em; padding-right: 1em; text-align: center; vertical-align: top\">40.5845117698</td>\n",
       "        <td style=\"padding-left: 1em; padding-right: 1em; text-align: center; vertical-align: top\">39.1462089236</td>\n",
       "        <td style=\"padding-left: 1em; padding-right: 1em; text-align: center; vertical-align: top\">35.1171578292</td>\n",
       "        <td style=\"padding-left: 1em; padding-right: 1em; text-align: center; vertical-align: top\">34.945165344</td>\n",
       "    </tr>\n",
       "    <tr>\n",
       "        <td style=\"padding-left: 1em; padding-right: 1em; text-align: center; vertical-align: top\">45.1067352961</td>\n",
       "        <td style=\"padding-left: 1em; padding-right: 1em; text-align: center; vertical-align: top\">40.523040106</td>\n",
       "        <td style=\"padding-left: 1em; padding-right: 1em; text-align: center; vertical-align: top\">40.6095830913</td>\n",
       "        <td style=\"padding-left: 1em; padding-right: 1em; text-align: center; vertical-align: top\">39.0957278345</td>\n",
       "    </tr>\n",
       "    <tr>\n",
       "        <td style=\"padding-left: 1em; padding-right: 1em; text-align: center; vertical-align: top\">41.3221140974</td>\n",
       "        <td style=\"padding-left: 1em; padding-right: 1em; text-align: center; vertical-align: top\">38.1947918393</td>\n",
       "        <td style=\"padding-left: 1em; padding-right: 1em; text-align: center; vertical-align: top\">39.9036867306</td>\n",
       "        <td style=\"padding-left: 1em; padding-right: 1em; text-align: center; vertical-align: top\">37.7696131032</td>\n",
       "    </tr>\n",
       "    <tr>\n",
       "        <td style=\"padding-left: 1em; padding-right: 1em; text-align: center; vertical-align: top\">41.8244654995</td>\n",
       "        <td style=\"padding-left: 1em; padding-right: 1em; text-align: center; vertical-align: top\">40.1567131661</td>\n",
       "        <td style=\"padding-left: 1em; padding-right: 1em; text-align: center; vertical-align: top\">38.0674700168</td>\n",
       "        <td style=\"padding-left: 1em; padding-right: 1em; text-align: center; vertical-align: top\">35.1089144603</td>\n",
       "    </tr>\n",
       "    <tr>\n",
       "        <td style=\"padding-left: 1em; padding-right: 1em; text-align: center; vertical-align: top\">45.4976929401</td>\n",
       "        <td style=\"padding-left: 1em; padding-right: 1em; text-align: center; vertical-align: top\">45.5597962603</td>\n",
       "        <td style=\"padding-left: 1em; padding-right: 1em; text-align: center; vertical-align: top\">42.7258732951</td>\n",
       "        <td style=\"padding-left: 1em; padding-right: 1em; text-align: center; vertical-align: top\">43.2422832585</td>\n",
       "    </tr>\n",
       "</table>\n",
       "[1000 rows x 4 columns]<br/>Note: Only the head of the SFrame is printed.<br/>You can use print_rows(num_rows=m, num_columns=n) to print more rows and columns.\n",
       "</div>"
      ],
      "text/plain": [
       "Columns:\n",
       "\tdog_automobile\tfloat\n",
       "\tdog_bird\tfloat\n",
       "\tdog_cat\tfloat\n",
       "\tdog_dog\tfloat\n",
       "\n",
       "Rows: 1000\n",
       "\n",
       "Data:\n",
       "+----------------+---------------+---------------+---------------+\n",
       "| dog_automobile |    dog_bird   |    dog_cat    |    dog_dog    |\n",
       "+----------------+---------------+---------------+---------------+\n",
       "| 41.9579761457  | 41.7538647304 | 36.4196077068 | 33.4773590373 |\n",
       "| 46.0021331807  | 41.3382958925 | 38.8353268874 | 32.8458495684 |\n",
       "| 42.9462290692  | 38.6157590853 | 36.9763410854 | 35.0397073189 |\n",
       "| 41.6866060048  | 37.0892269954 | 34.5750072914 | 33.9010327697 |\n",
       "| 39.2269664935  |  38.272288694 |  34.778824791 | 37.4849250909 |\n",
       "| 40.5845117698  | 39.1462089236 | 35.1171578292 |  34.945165344 |\n",
       "| 45.1067352961  |  40.523040106 | 40.6095830913 | 39.0957278345 |\n",
       "| 41.3221140974  | 38.1947918393 | 39.9036867306 | 37.7696131032 |\n",
       "| 41.8244654995  | 40.1567131661 | 38.0674700168 | 35.1089144603 |\n",
       "| 45.4976929401  | 45.5597962603 | 42.7258732951 | 43.2422832585 |\n",
       "+----------------+---------------+---------------+---------------+\n",
       "[1000 rows x 4 columns]\n",
       "Note: Only the head of the SFrame is printed.\n",
       "You can use print_rows(num_rows=m, num_columns=n) to print more rows and columns."
      ]
     },
     "execution_count": 14,
     "metadata": {},
     "output_type": "execute_result"
    }
   ],
   "source": [
    "# new_sframe = graphlab.SFrame({'foo': other_sframe['foo'],'bar': some_other_sframe['bar']})\n",
    "dog_distances = graphlab.SFrame({'dog_cat' : dog_cat_neighbors['distance'], 'dog_dog' : dog_dog_neighbors['distance'], 'dog_automobile' : dog_automobile_neighbors['distance'], 'dog_bird' : dog_bird_neighbors['distance']})\n",
    "dog_distances"
   ]
  },
  {
   "cell_type": "code",
   "execution_count": 15,
   "metadata": {},
   "outputs": [
    {
     "data": {
      "text/plain": [
       "678"
      ]
     },
     "execution_count": 15,
     "metadata": {},
     "output_type": "execute_result"
    }
   ],
   "source": [
    "def is_dog_correct(row):\n",
    "    if row['dog_dog'] < row['dog_automobile'] and row['dog_dog'] < row['dog_bird'] and row['dog_dog'] < row['dog_cat'] :\n",
    "        return 1\n",
    "    else : \n",
    "        return 0\n",
    "dog_true = dog_distances.apply(is_dog_correct).sum()\n",
    "dog_true"
   ]
  },
  {
   "cell_type": "code",
   "execution_count": 16,
   "metadata": {},
   "outputs": [
    {
     "data": {
      "text/plain": [
       "1000"
      ]
     },
     "execution_count": 16,
     "metadata": {},
     "output_type": "execute_result"
    }
   ],
   "source": [
    "dog_all = len(dog_distances)\n",
    "dog_all"
   ]
  },
  {
   "cell_type": "code",
   "execution_count": 17,
   "metadata": {},
   "outputs": [
    {
     "data": {
      "text/plain": [
       "67.80000000000001"
      ]
     },
     "execution_count": 17,
     "metadata": {},
     "output_type": "execute_result"
    }
   ],
   "source": [
    "float(dog_true)/ dog_all * 100"
   ]
  },
  {
   "cell_type": "code",
   "execution_count": null,
   "metadata": {},
   "outputs": [],
   "source": []
  }
 ],
 "metadata": {
  "kernelspec": {
   "display_name": "Python 2",
   "language": "python",
   "name": "python2"
  },
  "language_info": {
   "codemirror_mode": {
    "name": "ipython",
    "version": 2
   },
   "file_extension": ".py",
   "mimetype": "text/x-python",
   "name": "python",
   "nbconvert_exporter": "python",
   "pygments_lexer": "ipython2",
   "version": "2.7.16"
  }
 },
 "nbformat": 4,
 "nbformat_minor": 2
}
